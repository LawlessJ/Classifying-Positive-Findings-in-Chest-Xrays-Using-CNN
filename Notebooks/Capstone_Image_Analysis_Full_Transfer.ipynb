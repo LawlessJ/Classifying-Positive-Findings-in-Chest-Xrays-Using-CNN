{
  "nbformat": 4,
  "nbformat_minor": 0,
  "metadata": {
    "accelerator": "GPU",
    "colab": {
      "name": "Capstone: Image Analysis Full Transfer",
      "provenance": [],
      "collapsed_sections": [],
      "machine_shape": "hm"
    },
    "kernelspec": {
      "display_name": "Python 3",
      "language": "python",
      "name": "python3"
    },
    "language_info": {
      "codemirror_mode": {
        "name": "ipython",
        "version": 3
      },
      "file_extension": ".py",
      "mimetype": "text/x-python",
      "name": "python",
      "nbconvert_exporter": "python",
      "pygments_lexer": "ipython3",
      "version": "3.7.3"
    }
  },
  "cells": [
    {
      "cell_type": "code",
      "metadata": {
        "id": "57omb7TgVOSw"
      },
      "source": [
        "import tensorflow as tf\n",
        "#This import was used to count my specific labels\n",
        "from collections import Counter"
      ],
      "execution_count": null,
      "outputs": []
    },
    {
      "cell_type": "code",
      "metadata": {
        "id": "cSa44jXA6ZOB"
      },
      "source": [
        "import os\n",
        "import pandas as pd\n",
        "import numpy as np\n",
        "import matplotlib.pyplot as plt\n",
        "import itertools\n",
        "#import seaborn as sns"
      ],
      "execution_count": null,
      "outputs": []
    },
    {
      "cell_type": "markdown",
      "metadata": {
        "id": "6wkPS2nJ6ZOC"
      },
      "source": [
        "**Imports for image reading**"
      ]
    },
    {
      "cell_type": "code",
      "metadata": {
        "id": "iT0qzexV6ZOC",
        "colab": {
          "base_uri": "https://localhost:8080/"
        },
        "outputId": "2ad7bf76-bee7-4c54-b0a2-ba5203be4be8"
      },
      "source": [
        "#This was used for image manipulation in the early stages of investigation\n",
        "import PIL\n",
        "from PIL import Image\n",
        "from matplotlib import image\n",
        "print('Pillow Version:', PIL.__version__)"
      ],
      "execution_count": null,
      "outputs": [
        {
          "output_type": "stream",
          "text": [
            "Pillow Version: 7.0.0\n"
          ],
          "name": "stdout"
        }
      ]
    },
    {
      "cell_type": "markdown",
      "metadata": {
        "id": "Q-tKA0km6ZOD"
      },
      "source": [
        "Imports for modeling:"
      ]
    },
    {
      "cell_type": "code",
      "metadata": {
        "id": "AwFCg8E_6ZOD"
      },
      "source": [
        "#Imports for building out models\n",
        "\n",
        "from sklearn.metrics import plot_confusion_matrix, plot_roc_curve, roc_auc_score, confusion_matrix, multilabel_confusion_matrix\n",
        "\n",
        "from keras.preprocessing.image import ImageDataGenerator\n",
        "from tensorflow.keras import layers \n",
        "from tensorflow.keras import Model \n",
        "from keras import optimizers\n",
        "from tensorflow.keras.models import Sequential\n",
        "from tensorflow.keras.layers import Dense, Dropout, Conv2D, Flatten, MaxPool2D, GlobalAveragePooling2D\n",
        "from tensorflow.keras import utils\n",
        "from tensorflow.keras.regularizers import l2\n",
        "from keras.optimizers import Adam\n",
        "from tensorflow.keras.callbacks import EarlyStopping, ReduceLROnPlateau, ModelCheckpoint"
      ],
      "execution_count": null,
      "outputs": []
    },
    {
      "cell_type": "code",
      "metadata": {
        "id": "zI_KV2198dOF"
      },
      "source": [
        "from google.colab import drive"
      ],
      "execution_count": null,
      "outputs": []
    },
    {
      "cell_type": "code",
      "metadata": {
        "id": "4Sjhmspn-Svc"
      },
      "source": [
        "#!pip install -U -q PyDrive\n",
        "from pydrive.auth import GoogleAuth\n",
        "from pydrive.drive import GoogleDrive\n",
        "from google.colab import auth\n",
        "from oauth2client.client import GoogleCredentials"
      ],
      "execution_count": null,
      "outputs": []
    },
    {
      "cell_type": "code",
      "metadata": {
        "id": "Sf-dN2Tx-ZFG"
      },
      "source": [
        "auth.authenticate_user()\n",
        "gauth = GoogleAuth()\n",
        "gauth.credentials = GoogleCredentials.get_application_default()\n",
        "drive = GoogleDrive(gauth)"
      ],
      "execution_count": null,
      "outputs": []
    },
    {
      "cell_type": "code",
      "metadata": {
        "id": "NgyyPsur6ZOD"
      },
      "source": [
        "%matplotlib inline"
      ],
      "execution_count": null,
      "outputs": []
    },
    {
      "cell_type": "markdown",
      "metadata": {
        "id": "b4R1muQj6ZOE"
      },
      "source": [
        "## Target Data (and associated EDA features\n",
        "---"
      ]
    },
    {
      "cell_type": "markdown",
      "metadata": {
        "id": "B7PX4EEK6ZOE"
      },
      "source": [
        "**Note: According to the README from the original data post, all images have been converted to 1024 X 1024 matrix images, so don't worry about what the origin image pixel sizes are for import.**\n",
        "\n",
        "This can of course still be useful for EDA (perhaps higher image pixel sizes led to higher incidence of findings?"
      ]
    },
    {
      "cell_type": "code",
      "metadata": {
        "id": "tf7CvQg3gnHZ"
      },
      "source": [
        "from google.colab import drive"
      ],
      "execution_count": null,
      "outputs": []
    },
    {
      "cell_type": "code",
      "metadata": {
        "id": "mKWnCdG28MGx",
        "colab": {
          "base_uri": "https://localhost:8080/"
        },
        "outputId": "fc017d5b-994c-4b0f-ced8-b3d3699b9fcd"
      },
      "source": [
        "drive.mount('/content/gdrive')"
      ],
      "execution_count": null,
      "outputs": [
        {
          "output_type": "stream",
          "text": [
            "Mounted at /content/gdrive\n"
          ],
          "name": "stdout"
        }
      ]
    },
    {
      "cell_type": "code",
      "metadata": {
        "id": "drvIYV5vT8Sg"
      },
      "source": [
        ""
      ],
      "execution_count": null,
      "outputs": []
    },
    {
      "cell_type": "code",
      "metadata": {
        "id": "koQHaap78m4v",
        "colab": {
          "base_uri": "https://localhost:8080/"
        },
        "outputId": "41a0d87e-1890-4dc3-d216-5bffbe01f76d"
      },
      "source": [
        "!ls /content/gdrive/My\\ Drive/'Colab Notebooks/data'"
      ],
      "execution_count": null,
      "outputs": [
        {
          "output_type": "stream",
          "text": [
            "Data_Entry_2017_v2020.csv\n"
          ],
          "name": "stdout"
        }
      ]
    },
    {
      "cell_type": "code",
      "metadata": {
        "id": "213Ka1Su-xiq"
      },
      "source": [
        "path = '/content/gdrive/MyDrive/Colab Notebooks/data/Data_Entry_2017_v2020.csv'"
      ],
      "execution_count": null,
      "outputs": []
    },
    {
      "cell_type": "code",
      "metadata": {
        "id": "qbx01VzJ6ZOE"
      },
      "source": [
        "df = pd.read_csv(path)"
      ],
      "execution_count": null,
      "outputs": []
    },
    {
      "cell_type": "code",
      "metadata": {
        "id": "_VvLRXl06ZOE"
      },
      "source": [
        "df.columns = df.columns.map({col:col.lower().replace(' ','_') for col in df.columns})"
      ],
      "execution_count": null,
      "outputs": []
    },
    {
      "cell_type": "code",
      "metadata": {
        "id": "KH314aMd6ZOE",
        "colab": {
          "base_uri": "https://localhost:8080/",
          "height": 241
        },
        "outputId": "63363967-08a8-4c29-8e01-6859b9fc71b5"
      },
      "source": [
        "df.head()"
      ],
      "execution_count": null,
      "outputs": [
        {
          "output_type": "execute_result",
          "data": {
            "text/html": [
              "<div>\n",
              "<style scoped>\n",
              "    .dataframe tbody tr th:only-of-type {\n",
              "        vertical-align: middle;\n",
              "    }\n",
              "\n",
              "    .dataframe tbody tr th {\n",
              "        vertical-align: top;\n",
              "    }\n",
              "\n",
              "    .dataframe thead th {\n",
              "        text-align: right;\n",
              "    }\n",
              "</style>\n",
              "<table border=\"1\" class=\"dataframe\">\n",
              "  <thead>\n",
              "    <tr style=\"text-align: right;\">\n",
              "      <th></th>\n",
              "      <th>image_index</th>\n",
              "      <th>finding_labels</th>\n",
              "      <th>follow-up_#</th>\n",
              "      <th>patient_id</th>\n",
              "      <th>patient_age</th>\n",
              "      <th>patient_gender</th>\n",
              "      <th>view_position</th>\n",
              "      <th>originalimage[width</th>\n",
              "      <th>height]</th>\n",
              "      <th>originalimagepixelspacing[x</th>\n",
              "      <th>y]</th>\n",
              "    </tr>\n",
              "  </thead>\n",
              "  <tbody>\n",
              "    <tr>\n",
              "      <th>0</th>\n",
              "      <td>00000001_000.png</td>\n",
              "      <td>Cardiomegaly</td>\n",
              "      <td>0</td>\n",
              "      <td>1</td>\n",
              "      <td>57</td>\n",
              "      <td>M</td>\n",
              "      <td>PA</td>\n",
              "      <td>2682</td>\n",
              "      <td>2749</td>\n",
              "      <td>0.143</td>\n",
              "      <td>0.143</td>\n",
              "    </tr>\n",
              "    <tr>\n",
              "      <th>1</th>\n",
              "      <td>00000001_001.png</td>\n",
              "      <td>Cardiomegaly|Emphysema</td>\n",
              "      <td>1</td>\n",
              "      <td>1</td>\n",
              "      <td>58</td>\n",
              "      <td>M</td>\n",
              "      <td>PA</td>\n",
              "      <td>2894</td>\n",
              "      <td>2729</td>\n",
              "      <td>0.143</td>\n",
              "      <td>0.143</td>\n",
              "    </tr>\n",
              "    <tr>\n",
              "      <th>2</th>\n",
              "      <td>00000001_002.png</td>\n",
              "      <td>Cardiomegaly|Effusion</td>\n",
              "      <td>2</td>\n",
              "      <td>1</td>\n",
              "      <td>58</td>\n",
              "      <td>M</td>\n",
              "      <td>PA</td>\n",
              "      <td>2500</td>\n",
              "      <td>2048</td>\n",
              "      <td>0.168</td>\n",
              "      <td>0.168</td>\n",
              "    </tr>\n",
              "    <tr>\n",
              "      <th>3</th>\n",
              "      <td>00000002_000.png</td>\n",
              "      <td>No Finding</td>\n",
              "      <td>0</td>\n",
              "      <td>2</td>\n",
              "      <td>80</td>\n",
              "      <td>M</td>\n",
              "      <td>PA</td>\n",
              "      <td>2500</td>\n",
              "      <td>2048</td>\n",
              "      <td>0.171</td>\n",
              "      <td>0.171</td>\n",
              "    </tr>\n",
              "    <tr>\n",
              "      <th>4</th>\n",
              "      <td>00000003_001.png</td>\n",
              "      <td>Hernia</td>\n",
              "      <td>0</td>\n",
              "      <td>3</td>\n",
              "      <td>74</td>\n",
              "      <td>F</td>\n",
              "      <td>PA</td>\n",
              "      <td>2500</td>\n",
              "      <td>2048</td>\n",
              "      <td>0.168</td>\n",
              "      <td>0.168</td>\n",
              "    </tr>\n",
              "  </tbody>\n",
              "</table>\n",
              "</div>"
            ],
            "text/plain": [
              "        image_index          finding_labels  ...  originalimagepixelspacing[x     y]\n",
              "0  00000001_000.png            Cardiomegaly  ...                        0.143  0.143\n",
              "1  00000001_001.png  Cardiomegaly|Emphysema  ...                        0.143  0.143\n",
              "2  00000001_002.png   Cardiomegaly|Effusion  ...                        0.168  0.168\n",
              "3  00000002_000.png              No Finding  ...                        0.171  0.171\n",
              "4  00000003_001.png                  Hernia  ...                        0.168  0.168\n",
              "\n",
              "[5 rows x 11 columns]"
            ]
          },
          "metadata": {
            "tags": []
          },
          "execution_count": 19
        }
      ]
    },
    {
      "cell_type": "code",
      "metadata": {
        "id": "V3MnOvXf6ZOE",
        "colab": {
          "base_uri": "https://localhost:8080/"
        },
        "outputId": "6538c038-05bf-4258-d61b-475a52e0591d"
      },
      "source": [
        "df.shape"
      ],
      "execution_count": null,
      "outputs": [
        {
          "output_type": "execute_result",
          "data": {
            "text/plain": [
              "(112120, 11)"
            ]
          },
          "metadata": {
            "tags": []
          },
          "execution_count": 20
        }
      ]
    },
    {
      "cell_type": "code",
      "metadata": {
        "id": "DT9bxDxb6ZOE",
        "colab": {
          "base_uri": "https://localhost:8080/"
        },
        "outputId": "a604cb20-62d1-4a75-9a3d-785a23d9a0f6"
      },
      "source": [
        "df.finding_labels.nunique()"
      ],
      "execution_count": null,
      "outputs": [
        {
          "output_type": "execute_result",
          "data": {
            "text/plain": [
              "836"
            ]
          },
          "metadata": {
            "tags": []
          },
          "execution_count": 21
        }
      ]
    },
    {
      "cell_type": "code",
      "metadata": {
        "id": "hy0RubcF6ZOE",
        "colab": {
          "base_uri": "https://localhost:8080/"
        },
        "outputId": "7a496e16-3ab1-428e-b9bc-ed2d87c3776d"
      },
      "source": [
        "df.finding_labels.unique()[:20]"
      ],
      "execution_count": null,
      "outputs": [
        {
          "output_type": "execute_result",
          "data": {
            "text/plain": [
              "array(['Cardiomegaly', 'Cardiomegaly|Emphysema', 'Cardiomegaly|Effusion',\n",
              "       'No Finding', 'Hernia', 'Hernia|Infiltration', 'Mass|Nodule',\n",
              "       'Infiltration', 'Effusion|Infiltration', 'Nodule', 'Emphysema',\n",
              "       'Effusion', 'Atelectasis', 'Effusion|Mass', 'Infiltration|Mass',\n",
              "       'Infiltration|Mass|Pneumothorax', 'Mass',\n",
              "       'Cardiomegaly|Infiltration|Mass|Nodule',\n",
              "       'Cardiomegaly|Effusion|Emphysema|Mass',\n",
              "       'Atelectasis|Cardiomegaly|Emphysema|Mass|Pneumothorax'],\n",
              "      dtype=object)"
            ]
          },
          "metadata": {
            "tags": []
          },
          "execution_count": 22
        }
      ]
    },
    {
      "cell_type": "code",
      "metadata": {
        "id": "kHqY54go6ZOF",
        "colab": {
          "base_uri": "https://localhost:8080/"
        },
        "outputId": "369a59cc-97b8-4611-9f04-693295687db9"
      },
      "source": [
        "df.finding_labels.value_counts(normalize = True)[:20]"
      ],
      "execution_count": null,
      "outputs": [
        {
          "output_type": "execute_result",
          "data": {
            "text/plain": [
              "No Finding                           0.538361\n",
              "Infiltration                         0.085150\n",
              "Atelectasis                          0.037594\n",
              "Effusion                             0.035275\n",
              "Nodule                               0.024126\n",
              "Pneumothorax                         0.019568\n",
              "Mass                                 0.019078\n",
              "Effusion|Infiltration                0.014297\n",
              "Atelectasis|Infiltration             0.012041\n",
              "Consolidation                        0.011684\n",
              "Atelectasis|Effusion                 0.010391\n",
              "Pleural_Thickening                   0.010043\n",
              "Cardiomegaly                         0.009748\n",
              "Emphysema                            0.007956\n",
              "Infiltration|Nodule                  0.007394\n",
              "Atelectasis|Effusion|Infiltration    0.006573\n",
              "Fibrosis                             0.006484\n",
              "Edema                                0.005601\n",
              "Cardiomegaly|Effusion                0.004317\n",
              "Consolidation|Infiltration           0.003933\n",
              "Name: finding_labels, dtype: float64"
            ]
          },
          "metadata": {
            "tags": []
          },
          "execution_count": 23
        }
      ]
    },
    {
      "cell_type": "code",
      "metadata": {
        "id": "43fVWKFB6ZOF",
        "colab": {
          "base_uri": "https://localhost:8080/"
        },
        "outputId": "4b3e4298-f652-49e8-d6da-da40a9581d2a"
      },
      "source": [
        "df.isnull().sum()"
      ],
      "execution_count": null,
      "outputs": [
        {
          "output_type": "execute_result",
          "data": {
            "text/plain": [
              "image_index                    0\n",
              "finding_labels                 0\n",
              "follow-up_#                    0\n",
              "patient_id                     0\n",
              "patient_age                    0\n",
              "patient_gender                 0\n",
              "view_position                  0\n",
              "originalimage[width            0\n",
              "height]                        0\n",
              "originalimagepixelspacing[x    0\n",
              "y]                             0\n",
              "dtype: int64"
            ]
          },
          "metadata": {
            "tags": []
          },
          "execution_count": 24
        }
      ]
    },
    {
      "cell_type": "code",
      "metadata": {
        "id": "OXm61RVz6ZOF"
      },
      "source": [
        "#df.finding_labels = df.finding_labels.apply(lambda x: x.split('|'))"
      ],
      "execution_count": null,
      "outputs": []
    },
    {
      "cell_type": "code",
      "metadata": {
        "id": "NNGBFwS_6ZOF",
        "colab": {
          "base_uri": "https://localhost:8080/"
        },
        "outputId": "ae51a8c5-70d7-49f3-df80-374ee0772c3e"
      },
      "source": [
        "df.finding_labels.nunique()"
      ],
      "execution_count": null,
      "outputs": [
        {
          "output_type": "execute_result",
          "data": {
            "text/plain": [
              "836"
            ]
          },
          "metadata": {
            "tags": []
          },
          "execution_count": 26
        }
      ]
    },
    {
      "cell_type": "code",
      "metadata": {
        "id": "5sQezlEN6ZOF",
        "colab": {
          "base_uri": "https://localhost:8080/"
        },
        "outputId": "e796c258-36cc-4006-b9f1-5b2a4b37652f"
      },
      "source": [
        "df.finding_labels[50:55]"
      ],
      "execution_count": null,
      "outputs": [
        {
          "output_type": "execute_result",
          "data": {
            "text/plain": [
              "50                 Emphysema|Pneumothorax\n",
              "51               Atelectasis|Pneumothorax\n",
              "52                           Pneumothorax\n",
              "53    Cardiomegaly|Emphysema|Pneumothorax\n",
              "54                             No Finding\n",
              "Name: finding_labels, dtype: object"
            ]
          },
          "metadata": {
            "tags": []
          },
          "execution_count": 27
        }
      ]
    },
    {
      "cell_type": "code",
      "metadata": {
        "id": "JhT8yYmG6ZOF"
      },
      "source": [
        "labels = ['Atelectasis', 'Cardiomegaly', 'Effusion', 'Infiltration', 'Mass', 'Nodule', 'Pneumonia', 'Pneumothorax', 'Consolidation', \n",
        "          'Edema', 'Emphysema', 'Fibrosis', 'Pleural_Thickening', 'Hernia', 'No Finding']"
      ],
      "execution_count": null,
      "outputs": []
    },
    {
      "cell_type": "code",
      "metadata": {
        "id": "TylQO9d66ZOF"
      },
      "source": [
        "#Trying to reduce the number of unique groupings by alphabetizing them \n",
        "#This makes, say \"Edema, Cardiomegaly\" and \"Cardiomegaly, Edema\" the same label rather than two unique ones\n",
        "def alphabetize(string):\n",
        "    labels = ['Atelectasis', 'Cardiomegaly', 'Effusion', 'Infiltration', 'Mass', 'Nodule', 'Pneumonia', 'Pneumothorax', 'Consolidation', \n",
        "          'Edema', 'Emphysema', 'Fibrosis', 'Pleural_Thickening', 'Hernia', 'No Finding']\n",
        "    grouping = [finding for finding in labels if finding in string]\n",
        "    grouping = []\n",
        "    for i in labels:\n",
        "        if i in string:\n",
        "            grouping.append(i)\n",
        "    return grouping"
      ],
      "execution_count": null,
      "outputs": []
    },
    {
      "cell_type": "code",
      "metadata": {
        "id": "NqFUnYzp6ZOF",
        "colab": {
          "base_uri": "https://localhost:8080/"
        },
        "outputId": "11071323-a5f2-4c93-c9bd-29cdd793f777"
      },
      "source": [
        "tuple(df.finding_labels[50].split('|'))"
      ],
      "execution_count": null,
      "outputs": [
        {
          "output_type": "execute_result",
          "data": {
            "text/plain": [
              "('Emphysema', 'Pneumothorax')"
            ]
          },
          "metadata": {
            "tags": []
          },
          "execution_count": 30
        }
      ]
    },
    {
      "cell_type": "code",
      "metadata": {
        "id": "C4Vwmf8l6ZOF",
        "colab": {
          "base_uri": "https://localhost:8080/",
          "height": 37
        },
        "outputId": "84fe2db0-f9f3-4ab6-ac03-fbced22de4cc"
      },
      "source": [
        "df.finding_labels[12]"
      ],
      "execution_count": null,
      "outputs": [
        {
          "output_type": "execute_result",
          "data": {
            "application/vnd.google.colaboratory.intrinsic+json": {
              "type": "string"
            },
            "text/plain": [
              "'Mass|Nodule'"
            ]
          },
          "metadata": {
            "tags": []
          },
          "execution_count": 31
        }
      ]
    },
    {
      "cell_type": "code",
      "metadata": {
        "id": "_8PwlU1g6ZOF",
        "colab": {
          "base_uri": "https://localhost:8080/"
        },
        "outputId": "4bc8c9a7-eb08-4697-9366-b1dad853d15a"
      },
      "source": [
        "alphabetize(df.finding_labels[12])"
      ],
      "execution_count": null,
      "outputs": [
        {
          "output_type": "execute_result",
          "data": {
            "text/plain": [
              "['Mass', 'Nodule']"
            ]
          },
          "metadata": {
            "tags": []
          },
          "execution_count": 32
        }
      ]
    },
    {
      "cell_type": "code",
      "metadata": {
        "id": "1gKoZWPQ6ZOG",
        "colab": {
          "base_uri": "https://localhost:8080/"
        },
        "outputId": "be4f55df-ad16-4bb3-8d8b-aaecd0ab1843"
      },
      "source": [
        "alphabetize('Nodule|Mass')"
      ],
      "execution_count": null,
      "outputs": [
        {
          "output_type": "execute_result",
          "data": {
            "text/plain": [
              "['Mass', 'Nodule']"
            ]
          },
          "metadata": {
            "tags": []
          },
          "execution_count": 33
        }
      ]
    },
    {
      "cell_type": "code",
      "metadata": {
        "id": "kRtjfDLL6ZOG",
        "colab": {
          "base_uri": "https://localhost:8080/"
        },
        "outputId": "d6138294-a2c6-431f-a027-8f44bfc87518"
      },
      "source": [
        "alphabetize(df.finding_labels[0])"
      ],
      "execution_count": null,
      "outputs": [
        {
          "output_type": "execute_result",
          "data": {
            "text/plain": [
              "['Cardiomegaly']"
            ]
          },
          "metadata": {
            "tags": []
          },
          "execution_count": 34
        }
      ]
    },
    {
      "cell_type": "code",
      "metadata": {
        "id": "uC0ozNEf6ZOG",
        "colab": {
          "base_uri": "https://localhost:8080/",
          "height": 37
        },
        "outputId": "6dd0b008-3a8a-4a8b-9806-2be1f8e0d8bf"
      },
      "source": [
        "df.finding_labels[112092]"
      ],
      "execution_count": null,
      "outputs": [
        {
          "output_type": "execute_result",
          "data": {
            "application/vnd.google.colaboratory.intrinsic+json": {
              "type": "string"
            },
            "text/plain": [
              "'Cardiomegaly|Effusion|Emphysema|Pneumothorax'"
            ]
          },
          "metadata": {
            "tags": []
          },
          "execution_count": 35
        }
      ]
    },
    {
      "cell_type": "code",
      "metadata": {
        "id": "_hqdx1E_6ZOG",
        "colab": {
          "base_uri": "https://localhost:8080/"
        },
        "outputId": "9576fa33-e111-4c9a-8c71-3b41364b979f"
      },
      "source": [
        "alphabetize(df.finding_labels[112092])"
      ],
      "execution_count": null,
      "outputs": [
        {
          "output_type": "execute_result",
          "data": {
            "text/plain": [
              "['Cardiomegaly', 'Effusion', 'Pneumothorax', 'Emphysema']"
            ]
          },
          "metadata": {
            "tags": []
          },
          "execution_count": 36
        }
      ]
    },
    {
      "cell_type": "code",
      "metadata": {
        "id": "1DCJ9TEF6ZOG"
      },
      "source": [
        "df['finding_labels_clean'] = df.finding_labels.apply(alphabetize)"
      ],
      "execution_count": null,
      "outputs": []
    },
    {
      "cell_type": "code",
      "metadata": {
        "id": "x8asrG6K6ZOG",
        "colab": {
          "base_uri": "https://localhost:8080/"
        },
        "outputId": "18e53d50-df50-47df-b8ed-9b4ff2975e92"
      },
      "source": [
        "df.finding_labels.nunique()"
      ],
      "execution_count": null,
      "outputs": [
        {
          "output_type": "execute_result",
          "data": {
            "text/plain": [
              "836"
            ]
          },
          "metadata": {
            "tags": []
          },
          "execution_count": 38
        }
      ]
    },
    {
      "cell_type": "markdown",
      "metadata": {
        "id": "Q0baAuhV6ZOG"
      },
      "source": [
        "Method for building generator and this count are from [this site](https://godatadriven.com/blog/keras-multi-label-classification-with-imagedatagenerator/)"
      ]
    },
    {
      "cell_type": "code",
      "metadata": {
        "id": "q_7aoPaF6ZOG"
      },
      "source": [
        "\n",
        "labels_count = Counter(label for lbs in df['finding_labels_clean'] for label in lbs)"
      ],
      "execution_count": null,
      "outputs": []
    },
    {
      "cell_type": "code",
      "metadata": {
        "id": "FUvxw3aa6ZOG",
        "colab": {
          "base_uri": "https://localhost:8080/"
        },
        "outputId": "4ae58d7a-a6f5-4607-ff90-fc0d6b4d119b"
      },
      "source": [
        "labels_count #112120 total"
      ],
      "execution_count": null,
      "outputs": [
        {
          "output_type": "execute_result",
          "data": {
            "text/plain": [
              "Counter({'Atelectasis': 11559,\n",
              "         'Cardiomegaly': 2776,\n",
              "         'Consolidation': 4667,\n",
              "         'Edema': 2303,\n",
              "         'Effusion': 13317,\n",
              "         'Emphysema': 2516,\n",
              "         'Fibrosis': 1686,\n",
              "         'Hernia': 227,\n",
              "         'Infiltration': 19894,\n",
              "         'Mass': 5782,\n",
              "         'No Finding': 60361,\n",
              "         'Nodule': 6331,\n",
              "         'Pleural_Thickening': 3385,\n",
              "         'Pneumonia': 1431,\n",
              "         'Pneumothorax': 5302})"
            ]
          },
          "metadata": {
            "tags": []
          },
          "execution_count": 40
        }
      ]
    },
    {
      "cell_type": "code",
      "metadata": {
        "id": "_GDMXJFE6ZOG"
      },
      "source": [
        "total_count = sum(labels_count.values())\n",
        "class_weights = {cls: total_count / count for cls, count in labels_count.items()}"
      ],
      "execution_count": null,
      "outputs": []
    },
    {
      "cell_type": "code",
      "metadata": {
        "id": "7fWolOwQ6ZOG",
        "colab": {
          "base_uri": "https://localhost:8080/",
          "height": 638
        },
        "outputId": "d9d74a51-1c2f-48a1-a250-ef1092c5c2b8"
      },
      "source": [
        "plt.figure(figsize = (20, 10))\n",
        "plt.bar(labels_count.keys(),labels_count.values())\n",
        "plt.xticks(rotation = 30);"
      ],
      "execution_count": null,
      "outputs": [
        {
          "output_type": "display_data",
          "data": {
            "image/png": "[encoded data removed]",
            "text/plain": [
              "<Figure size 1440x720 with 1 Axes>"
            ]
          },
          "metadata": {
            "tags": [],
            "needs_background": "light"
          }
        }
      ]
    },
    {
      "cell_type": "code",
      "metadata": {
        "id": "taVp5RYs6ZOG",
        "colab": {
          "base_uri": "https://localhost:8080/"
        },
        "outputId": "7024a71b-74db-498e-ec02-f92d3982c462"
      },
      "source": [
        "df.finding_labels_clean[112092]"
      ],
      "execution_count": null,
      "outputs": [
        {
          "output_type": "execute_result",
          "data": {
            "text/plain": [
              "['Cardiomegaly', 'Effusion', 'Pneumothorax', 'Emphysema']"
            ]
          },
          "metadata": {
            "tags": []
          },
          "execution_count": 43
        }
      ]
    },
    {
      "cell_type": "code",
      "metadata": {
        "id": "eF7af-BZ6ZOG",
        "colab": {
          "base_uri": "https://localhost:8080/"
        },
        "outputId": "fe79bd3f-bd2c-49cf-f867-f6f96d17139c"
      },
      "source": [
        "\n",
        "df.finding_labels_clean.value_counts()[-7:].index"
      ],
      "execution_count": null,
      "outputs": [
        {
          "output_type": "execute_result",
          "data": {
            "text/plain": [
              "Index([                           ['Atelectasis', 'Mass', 'Nodule', 'Pneumonia'],\n",
              "                                             ['Mass', 'Consolidation', 'Hernia'],\n",
              "                   ['Atelectasis', 'Infiltration', 'Mass', 'Nodule', 'Fibrosis'],\n",
              "                        ['Atelectasis', 'Infiltration', 'Emphysema', 'Fibrosis'],\n",
              "                               ['Effusion', 'Infiltration', 'Mass', 'Emphysema'],\n",
              "                                     ['Infiltration', 'Mass', 'Nodule', 'Edema'],\n",
              "       ['Atelectasis', 'Cardiomegaly', 'Effusion', 'Mass', 'Pleural_Thickening']],\n",
              "      dtype='object')"
            ]
          },
          "metadata": {
            "tags": []
          },
          "execution_count": 44
        }
      ]
    },
    {
      "cell_type": "code",
      "metadata": {
        "id": "3wFSAARG6ZOG",
        "colab": {
          "base_uri": "https://localhost:8080/"
        },
        "outputId": "564b5a51-4d3f-48fb-9fe0-e61bfad5a0dc"
      },
      "source": [
        "df.finding_labels_clean.values.tolist()[:10]"
      ],
      "execution_count": null,
      "outputs": [
        {
          "output_type": "execute_result",
          "data": {
            "text/plain": [
              "[['Cardiomegaly'],\n",
              " ['Cardiomegaly', 'Emphysema'],\n",
              " ['Cardiomegaly', 'Effusion'],\n",
              " ['No Finding'],\n",
              " ['Hernia'],\n",
              " ['Hernia'],\n",
              " ['Infiltration', 'Hernia'],\n",
              " ['Hernia'],\n",
              " ['Hernia'],\n",
              " ['Hernia']]"
            ]
          },
          "metadata": {
            "tags": []
          },
          "execution_count": 45
        }
      ]
    },
    {
      "cell_type": "code",
      "metadata": {
        "id": "MFFEMZzb6ZOH",
        "colab": {
          "base_uri": "https://localhost:8080/",
          "height": 475
        },
        "outputId": "60453222-99d3-4c0f-f060-fe164e4a6455"
      },
      "source": [
        "df.head(12)"
      ],
      "execution_count": null,
      "outputs": [
        {
          "output_type": "execute_result",
          "data": {
            "text/html": [
              "<div>\n",
              "<style scoped>\n",
              "    .dataframe tbody tr th:only-of-type {\n",
              "        vertical-align: middle;\n",
              "    }\n",
              "\n",
              "    .dataframe tbody tr th {\n",
              "        vertical-align: top;\n",
              "    }\n",
              "\n",
              "    .dataframe thead th {\n",
              "        text-align: right;\n",
              "    }\n",
              "</style>\n",
              "<table border=\"1\" class=\"dataframe\">\n",
              "  <thead>\n",
              "    <tr style=\"text-align: right;\">\n",
              "      <th></th>\n",
              "      <th>image_index</th>\n",
              "      <th>finding_labels</th>\n",
              "      <th>follow-up_#</th>\n",
              "      <th>patient_id</th>\n",
              "      <th>patient_age</th>\n",
              "      <th>patient_gender</th>\n",
              "      <th>view_position</th>\n",
              "      <th>originalimage[width</th>\n",
              "      <th>height]</th>\n",
              "      <th>originalimagepixelspacing[x</th>\n",
              "      <th>y]</th>\n",
              "      <th>finding_labels_clean</th>\n",
              "    </tr>\n",
              "  </thead>\n",
              "  <tbody>\n",
              "    <tr>\n",
              "      <th>0</th>\n",
              "      <td>00000001_000.png</td>\n",
              "      <td>Cardiomegaly</td>\n",
              "      <td>0</td>\n",
              "      <td>1</td>\n",
              "      <td>57</td>\n",
              "      <td>M</td>\n",
              "      <td>PA</td>\n",
              "      <td>2682</td>\n",
              "      <td>2749</td>\n",
              "      <td>0.143</td>\n",
              "      <td>0.143</td>\n",
              "      <td>[Cardiomegaly]</td>\n",
              "    </tr>\n",
              "    <tr>\n",
              "      <th>1</th>\n",
              "      <td>00000001_001.png</td>\n",
              "      <td>Cardiomegaly|Emphysema</td>\n",
              "      <td>1</td>\n",
              "      <td>1</td>\n",
              "      <td>58</td>\n",
              "      <td>M</td>\n",
              "      <td>PA</td>\n",
              "      <td>2894</td>\n",
              "      <td>2729</td>\n",
              "      <td>0.143</td>\n",
              "      <td>0.143</td>\n",
              "      <td>[Cardiomegaly, Emphysema]</td>\n",
              "    </tr>\n",
              "    <tr>\n",
              "      <th>2</th>\n",
              "      <td>00000001_002.png</td>\n",
              "      <td>Cardiomegaly|Effusion</td>\n",
              "      <td>2</td>\n",
              "      <td>1</td>\n",
              "      <td>58</td>\n",
              "      <td>M</td>\n",
              "      <td>PA</td>\n",
              "      <td>2500</td>\n",
              "      <td>2048</td>\n",
              "      <td>0.168</td>\n",
              "      <td>0.168</td>\n",
              "      <td>[Cardiomegaly, Effusion]</td>\n",
              "    </tr>\n",
              "    <tr>\n",
              "      <th>3</th>\n",
              "      <td>00000002_000.png</td>\n",
              "      <td>No Finding</td>\n",
              "      <td>0</td>\n",
              "      <td>2</td>\n",
              "      <td>80</td>\n",
              "      <td>M</td>\n",
              "      <td>PA</td>\n",
              "      <td>2500</td>\n",
              "      <td>2048</td>\n",
              "      <td>0.171</td>\n",
              "      <td>0.171</td>\n",
              "      <td>[No Finding]</td>\n",
              "    </tr>\n",
              "    <tr>\n",
              "      <th>4</th>\n",
              "      <td>00000003_001.png</td>\n",
              "      <td>Hernia</td>\n",
              "      <td>0</td>\n",
              "      <td>3</td>\n",
              "      <td>74</td>\n",
              "      <td>F</td>\n",
              "      <td>PA</td>\n",
              "      <td>2500</td>\n",
              "      <td>2048</td>\n",
              "      <td>0.168</td>\n",
              "      <td>0.168</td>\n",
              "      <td>[Hernia]</td>\n",
              "    </tr>\n",
              "    <tr>\n",
              "      <th>5</th>\n",
              "      <td>00000003_002.png</td>\n",
              "      <td>Hernia</td>\n",
              "      <td>1</td>\n",
              "      <td>3</td>\n",
              "      <td>75</td>\n",
              "      <td>F</td>\n",
              "      <td>PA</td>\n",
              "      <td>2048</td>\n",
              "      <td>2500</td>\n",
              "      <td>0.168</td>\n",
              "      <td>0.168</td>\n",
              "      <td>[Hernia]</td>\n",
              "    </tr>\n",
              "    <tr>\n",
              "      <th>6</th>\n",
              "      <td>00000003_003.png</td>\n",
              "      <td>Hernia|Infiltration</td>\n",
              "      <td>2</td>\n",
              "      <td>3</td>\n",
              "      <td>76</td>\n",
              "      <td>F</td>\n",
              "      <td>PA</td>\n",
              "      <td>2698</td>\n",
              "      <td>2991</td>\n",
              "      <td>0.143</td>\n",
              "      <td>0.143</td>\n",
              "      <td>[Infiltration, Hernia]</td>\n",
              "    </tr>\n",
              "    <tr>\n",
              "      <th>7</th>\n",
              "      <td>00000003_004.png</td>\n",
              "      <td>Hernia</td>\n",
              "      <td>3</td>\n",
              "      <td>3</td>\n",
              "      <td>77</td>\n",
              "      <td>F</td>\n",
              "      <td>PA</td>\n",
              "      <td>2500</td>\n",
              "      <td>2048</td>\n",
              "      <td>0.168</td>\n",
              "      <td>0.168</td>\n",
              "      <td>[Hernia]</td>\n",
              "    </tr>\n",
              "    <tr>\n",
              "      <th>8</th>\n",
              "      <td>00000003_005.png</td>\n",
              "      <td>Hernia</td>\n",
              "      <td>4</td>\n",
              "      <td>3</td>\n",
              "      <td>78</td>\n",
              "      <td>F</td>\n",
              "      <td>PA</td>\n",
              "      <td>2686</td>\n",
              "      <td>2991</td>\n",
              "      <td>0.143</td>\n",
              "      <td>0.143</td>\n",
              "      <td>[Hernia]</td>\n",
              "    </tr>\n",
              "    <tr>\n",
              "      <th>9</th>\n",
              "      <td>00000003_006.png</td>\n",
              "      <td>Hernia</td>\n",
              "      <td>5</td>\n",
              "      <td>3</td>\n",
              "      <td>79</td>\n",
              "      <td>F</td>\n",
              "      <td>PA</td>\n",
              "      <td>2992</td>\n",
              "      <td>2991</td>\n",
              "      <td>0.143</td>\n",
              "      <td>0.143</td>\n",
              "      <td>[Hernia]</td>\n",
              "    </tr>\n",
              "    <tr>\n",
              "      <th>10</th>\n",
              "      <td>00000003_007.png</td>\n",
              "      <td>Hernia</td>\n",
              "      <td>6</td>\n",
              "      <td>3</td>\n",
              "      <td>80</td>\n",
              "      <td>F</td>\n",
              "      <td>PA</td>\n",
              "      <td>2582</td>\n",
              "      <td>2905</td>\n",
              "      <td>0.143</td>\n",
              "      <td>0.143</td>\n",
              "      <td>[Hernia]</td>\n",
              "    </tr>\n",
              "    <tr>\n",
              "      <th>11</th>\n",
              "      <td>00000003_000.png</td>\n",
              "      <td>Hernia</td>\n",
              "      <td>7</td>\n",
              "      <td>3</td>\n",
              "      <td>81</td>\n",
              "      <td>F</td>\n",
              "      <td>PA</td>\n",
              "      <td>2582</td>\n",
              "      <td>2991</td>\n",
              "      <td>0.143</td>\n",
              "      <td>0.143</td>\n",
              "      <td>[Hernia]</td>\n",
              "    </tr>\n",
              "  </tbody>\n",
              "</table>\n",
              "</div>"
            ],
            "text/plain": [
              "         image_index          finding_labels  ...     y]       finding_labels_clean\n",
              "0   00000001_000.png            Cardiomegaly  ...  0.143             [Cardiomegaly]\n",
              "1   00000001_001.png  Cardiomegaly|Emphysema  ...  0.143  [Cardiomegaly, Emphysema]\n",
              "2   00000001_002.png   Cardiomegaly|Effusion  ...  0.168   [Cardiomegaly, Effusion]\n",
              "3   00000002_000.png              No Finding  ...  0.171               [No Finding]\n",
              "4   00000003_001.png                  Hernia  ...  0.168                   [Hernia]\n",
              "5   00000003_002.png                  Hernia  ...  0.168                   [Hernia]\n",
              "6   00000003_003.png     Hernia|Infiltration  ...  0.143     [Infiltration, Hernia]\n",
              "7   00000003_004.png                  Hernia  ...  0.168                   [Hernia]\n",
              "8   00000003_005.png                  Hernia  ...  0.143                   [Hernia]\n",
              "9   00000003_006.png                  Hernia  ...  0.143                   [Hernia]\n",
              "10  00000003_007.png                  Hernia  ...  0.143                   [Hernia]\n",
              "11  00000003_000.png                  Hernia  ...  0.143                   [Hernia]\n",
              "\n",
              "[12 rows x 12 columns]"
            ]
          },
          "metadata": {
            "tags": []
          },
          "execution_count": 47
        }
      ]
    },
    {
      "cell_type": "code",
      "metadata": {
        "id": "4UCAN-_C6ZOH",
        "colab": {
          "base_uri": "https://localhost:8080/"
        },
        "outputId": "cb030e80-54b5-4720-96e1-24466788c201"
      },
      "source": [
        "not_labels = [i for i in df.columns[2:] if i not in labels]\n",
        "not_labels"
      ],
      "execution_count": null,
      "outputs": [
        {
          "output_type": "execute_result",
          "data": {
            "text/plain": [
              "['follow-up_#',\n",
              " 'patient_id',\n",
              " 'patient_age',\n",
              " 'patient_gender',\n",
              " 'view_position',\n",
              " 'originalimage[width',\n",
              " 'height]',\n",
              " 'originalimagepixelspacing[x',\n",
              " 'y]',\n",
              " 'finding_labels_clean']"
            ]
          },
          "metadata": {
            "tags": []
          },
          "execution_count": 48
        }
      ]
    },
    {
      "cell_type": "markdown",
      "metadata": {
        "id": "K359P7-76ZOH"
      },
      "source": [
        "## Image data (Modelling Features)\n",
        "---"
      ]
    },
    {
      "cell_type": "markdown",
      "metadata": {
        "id": "1kr8u78W6ZOH"
      },
      "source": [
        "From [Importing Image Data into Numpy Arrays](https://www.pluralsight.com/guides/importing-image-data-into-numpy-arrays)"
      ]
    },
    {
      "cell_type": "markdown",
      "metadata": {
        "id": "LrzJDXVN6ZOJ"
      },
      "source": [
        "## DEBUG\n",
        "----"
      ]
    },
    {
      "cell_type": "code",
      "metadata": {
        "id": "l_McsaZY6ZOJ",
        "colab": {
          "base_uri": "https://localhost:8080/",
          "height": 117
        },
        "outputId": "057a1c50-8da8-4bd7-c51a-188c66a33122"
      },
      "source": [
        "#It appears that these images are not in the correct order. This is going to cause some random subset to be missing the values.\n",
        "#Much worse, it's going to make my array images completely out of order. This is bad\n",
        "df[df.image_index == '00000003_000.png']"
      ],
      "execution_count": null,
      "outputs": [
        {
          "output_type": "execute_result",
          "data": {
            "text/html": [
              "<div>\n",
              "<style scoped>\n",
              "    .dataframe tbody tr th:only-of-type {\n",
              "        vertical-align: middle;\n",
              "    }\n",
              "\n",
              "    .dataframe tbody tr th {\n",
              "        vertical-align: top;\n",
              "    }\n",
              "\n",
              "    .dataframe thead th {\n",
              "        text-align: right;\n",
              "    }\n",
              "</style>\n",
              "<table border=\"1\" class=\"dataframe\">\n",
              "  <thead>\n",
              "    <tr style=\"text-align: right;\">\n",
              "      <th></th>\n",
              "      <th>image_index</th>\n",
              "      <th>finding_labels</th>\n",
              "      <th>follow-up_#</th>\n",
              "      <th>patient_id</th>\n",
              "      <th>patient_age</th>\n",
              "      <th>patient_gender</th>\n",
              "      <th>view_position</th>\n",
              "      <th>originalimage[width</th>\n",
              "      <th>height]</th>\n",
              "      <th>originalimagepixelspacing[x</th>\n",
              "      <th>y]</th>\n",
              "      <th>finding_labels_clean</th>\n",
              "    </tr>\n",
              "  </thead>\n",
              "  <tbody>\n",
              "    <tr>\n",
              "      <th>11</th>\n",
              "      <td>00000003_000.png</td>\n",
              "      <td>Hernia</td>\n",
              "      <td>7</td>\n",
              "      <td>3</td>\n",
              "      <td>81</td>\n",
              "      <td>F</td>\n",
              "      <td>PA</td>\n",
              "      <td>2582</td>\n",
              "      <td>2991</td>\n",
              "      <td>0.143</td>\n",
              "      <td>0.143</td>\n",
              "      <td>[Hernia]</td>\n",
              "    </tr>\n",
              "  </tbody>\n",
              "</table>\n",
              "</div>"
            ],
            "text/plain": [
              "         image_index finding_labels  ...     y]  finding_labels_clean\n",
              "11  00000003_000.png         Hernia  ...  0.143              [Hernia]\n",
              "\n",
              "[1 rows x 12 columns]"
            ]
          },
          "metadata": {
            "tags": []
          },
          "execution_count": 52
        }
      ]
    },
    {
      "cell_type": "code",
      "metadata": {
        "id": "pbf0Rc876ZOJ",
        "colab": {
          "base_uri": "https://localhost:8080/"
        },
        "outputId": "e0b2cbfe-26cf-4a3b-ba39-65b3017fdf13"
      },
      "source": [
        "int(df.image_index[0].split('_')[0])"
      ],
      "execution_count": null,
      "outputs": [
        {
          "output_type": "execute_result",
          "data": {
            "text/plain": [
              "1"
            ]
          },
          "metadata": {
            "tags": []
          },
          "execution_count": 53
        }
      ]
    },
    {
      "cell_type": "code",
      "metadata": {
        "id": "9BhBQels6ZOJ",
        "colab": {
          "base_uri": "https://localhost:8080/",
          "height": 37
        },
        "outputId": "c8185793-405f-4ba0-8322-0d9d70b87757"
      },
      "source": [
        "df.image_index[0].split('_')[1].split('.')[0]"
      ],
      "execution_count": null,
      "outputs": [
        {
          "output_type": "execute_result",
          "data": {
            "application/vnd.google.colaboratory.intrinsic+json": {
              "type": "string"
            },
            "text/plain": [
              "'000'"
            ]
          },
          "metadata": {
            "tags": []
          },
          "execution_count": 54
        }
      ]
    },
    {
      "cell_type": "code",
      "metadata": {
        "id": "EFf0xU4X6ZOK",
        "colab": {
          "base_uri": "https://localhost:8080/",
          "height": 419
        },
        "outputId": "69cf7389-c078-4f08-f140-5d296a1a0805"
      },
      "source": [
        "df[['image_index', 'patient_id', 'follow-up_#']] #Thank God. They already have this together. I will need to sort by these to \n",
        "#get the image indices back together"
      ],
      "execution_count": null,
      "outputs": [
        {
          "output_type": "execute_result",
          "data": {
            "text/html": [
              "<div>\n",
              "<style scoped>\n",
              "    .dataframe tbody tr th:only-of-type {\n",
              "        vertical-align: middle;\n",
              "    }\n",
              "\n",
              "    .dataframe tbody tr th {\n",
              "        vertical-align: top;\n",
              "    }\n",
              "\n",
              "    .dataframe thead th {\n",
              "        text-align: right;\n",
              "    }\n",
              "</style>\n",
              "<table border=\"1\" class=\"dataframe\">\n",
              "  <thead>\n",
              "    <tr style=\"text-align: right;\">\n",
              "      <th></th>\n",
              "      <th>image_index</th>\n",
              "      <th>patient_id</th>\n",
              "      <th>follow-up_#</th>\n",
              "    </tr>\n",
              "  </thead>\n",
              "  <tbody>\n",
              "    <tr>\n",
              "      <th>0</th>\n",
              "      <td>00000001_000.png</td>\n",
              "      <td>1</td>\n",
              "      <td>0</td>\n",
              "    </tr>\n",
              "    <tr>\n",
              "      <th>1</th>\n",
              "      <td>00000001_001.png</td>\n",
              "      <td>1</td>\n",
              "      <td>1</td>\n",
              "    </tr>\n",
              "    <tr>\n",
              "      <th>2</th>\n",
              "      <td>00000001_002.png</td>\n",
              "      <td>1</td>\n",
              "      <td>2</td>\n",
              "    </tr>\n",
              "    <tr>\n",
              "      <th>3</th>\n",
              "      <td>00000002_000.png</td>\n",
              "      <td>2</td>\n",
              "      <td>0</td>\n",
              "    </tr>\n",
              "    <tr>\n",
              "      <th>4</th>\n",
              "      <td>00000003_001.png</td>\n",
              "      <td>3</td>\n",
              "      <td>0</td>\n",
              "    </tr>\n",
              "    <tr>\n",
              "      <th>...</th>\n",
              "      <td>...</td>\n",
              "      <td>...</td>\n",
              "      <td>...</td>\n",
              "    </tr>\n",
              "    <tr>\n",
              "      <th>112115</th>\n",
              "      <td>00030801_001.png</td>\n",
              "      <td>30801</td>\n",
              "      <td>1</td>\n",
              "    </tr>\n",
              "    <tr>\n",
              "      <th>112116</th>\n",
              "      <td>00030802_000.png</td>\n",
              "      <td>30802</td>\n",
              "      <td>0</td>\n",
              "    </tr>\n",
              "    <tr>\n",
              "      <th>112117</th>\n",
              "      <td>00030803_000.png</td>\n",
              "      <td>30803</td>\n",
              "      <td>0</td>\n",
              "    </tr>\n",
              "    <tr>\n",
              "      <th>112118</th>\n",
              "      <td>00030804_000.png</td>\n",
              "      <td>30804</td>\n",
              "      <td>0</td>\n",
              "    </tr>\n",
              "    <tr>\n",
              "      <th>112119</th>\n",
              "      <td>00030805_000.png</td>\n",
              "      <td>30805</td>\n",
              "      <td>0</td>\n",
              "    </tr>\n",
              "  </tbody>\n",
              "</table>\n",
              "<p>112120 rows × 3 columns</p>\n",
              "</div>"
            ],
            "text/plain": [
              "             image_index  patient_id  follow-up_#\n",
              "0       00000001_000.png           1            0\n",
              "1       00000001_001.png           1            1\n",
              "2       00000001_002.png           1            2\n",
              "3       00000002_000.png           2            0\n",
              "4       00000003_001.png           3            0\n",
              "...                  ...         ...          ...\n",
              "112115  00030801_001.png       30801            1\n",
              "112116  00030802_000.png       30802            0\n",
              "112117  00030803_000.png       30803            0\n",
              "112118  00030804_000.png       30804            0\n",
              "112119  00030805_000.png       30805            0\n",
              "\n",
              "[112120 rows x 3 columns]"
            ]
          },
          "metadata": {
            "tags": []
          },
          "execution_count": 55
        }
      ]
    },
    {
      "cell_type": "code",
      "metadata": {
        "id": "gdwoooDL6ZOK"
      },
      "source": [
        "arranger = df.sort_values(by = ['patient_id', 'follow-up_#'])"
      ],
      "execution_count": null,
      "outputs": []
    },
    {
      "cell_type": "code",
      "metadata": {
        "id": "-KwHZK7p6ZOK",
        "colab": {
          "base_uri": "https://localhost:8080/",
          "height": 475
        },
        "outputId": "6a92fd9b-3fa8-4c78-ce73-ddc0eddc9004"
      },
      "source": [
        "arranger.head(12)"
      ],
      "execution_count": null,
      "outputs": [
        {
          "output_type": "execute_result",
          "data": {
            "text/html": [
              "<div>\n",
              "<style scoped>\n",
              "    .dataframe tbody tr th:only-of-type {\n",
              "        vertical-align: middle;\n",
              "    }\n",
              "\n",
              "    .dataframe tbody tr th {\n",
              "        vertical-align: top;\n",
              "    }\n",
              "\n",
              "    .dataframe thead th {\n",
              "        text-align: right;\n",
              "    }\n",
              "</style>\n",
              "<table border=\"1\" class=\"dataframe\">\n",
              "  <thead>\n",
              "    <tr style=\"text-align: right;\">\n",
              "      <th></th>\n",
              "      <th>image_index</th>\n",
              "      <th>finding_labels</th>\n",
              "      <th>follow-up_#</th>\n",
              "      <th>patient_id</th>\n",
              "      <th>patient_age</th>\n",
              "      <th>patient_gender</th>\n",
              "      <th>view_position</th>\n",
              "      <th>originalimage[width</th>\n",
              "      <th>height]</th>\n",
              "      <th>originalimagepixelspacing[x</th>\n",
              "      <th>y]</th>\n",
              "      <th>finding_labels_clean</th>\n",
              "    </tr>\n",
              "  </thead>\n",
              "  <tbody>\n",
              "    <tr>\n",
              "      <th>0</th>\n",
              "      <td>00000001_000.png</td>\n",
              "      <td>Cardiomegaly</td>\n",
              "      <td>0</td>\n",
              "      <td>1</td>\n",
              "      <td>57</td>\n",
              "      <td>M</td>\n",
              "      <td>PA</td>\n",
              "      <td>2682</td>\n",
              "      <td>2749</td>\n",
              "      <td>0.143</td>\n",
              "      <td>0.143</td>\n",
              "      <td>[Cardiomegaly]</td>\n",
              "    </tr>\n",
              "    <tr>\n",
              "      <th>1</th>\n",
              "      <td>00000001_001.png</td>\n",
              "      <td>Cardiomegaly|Emphysema</td>\n",
              "      <td>1</td>\n",
              "      <td>1</td>\n",
              "      <td>58</td>\n",
              "      <td>M</td>\n",
              "      <td>PA</td>\n",
              "      <td>2894</td>\n",
              "      <td>2729</td>\n",
              "      <td>0.143</td>\n",
              "      <td>0.143</td>\n",
              "      <td>[Cardiomegaly, Emphysema]</td>\n",
              "    </tr>\n",
              "    <tr>\n",
              "      <th>2</th>\n",
              "      <td>00000001_002.png</td>\n",
              "      <td>Cardiomegaly|Effusion</td>\n",
              "      <td>2</td>\n",
              "      <td>1</td>\n",
              "      <td>58</td>\n",
              "      <td>M</td>\n",
              "      <td>PA</td>\n",
              "      <td>2500</td>\n",
              "      <td>2048</td>\n",
              "      <td>0.168</td>\n",
              "      <td>0.168</td>\n",
              "      <td>[Cardiomegaly, Effusion]</td>\n",
              "    </tr>\n",
              "    <tr>\n",
              "      <th>3</th>\n",
              "      <td>00000002_000.png</td>\n",
              "      <td>No Finding</td>\n",
              "      <td>0</td>\n",
              "      <td>2</td>\n",
              "      <td>80</td>\n",
              "      <td>M</td>\n",
              "      <td>PA</td>\n",
              "      <td>2500</td>\n",
              "      <td>2048</td>\n",
              "      <td>0.171</td>\n",
              "      <td>0.171</td>\n",
              "      <td>[No Finding]</td>\n",
              "    </tr>\n",
              "    <tr>\n",
              "      <th>4</th>\n",
              "      <td>00000003_001.png</td>\n",
              "      <td>Hernia</td>\n",
              "      <td>0</td>\n",
              "      <td>3</td>\n",
              "      <td>74</td>\n",
              "      <td>F</td>\n",
              "      <td>PA</td>\n",
              "      <td>2500</td>\n",
              "      <td>2048</td>\n",
              "      <td>0.168</td>\n",
              "      <td>0.168</td>\n",
              "      <td>[Hernia]</td>\n",
              "    </tr>\n",
              "    <tr>\n",
              "      <th>5</th>\n",
              "      <td>00000003_002.png</td>\n",
              "      <td>Hernia</td>\n",
              "      <td>1</td>\n",
              "      <td>3</td>\n",
              "      <td>75</td>\n",
              "      <td>F</td>\n",
              "      <td>PA</td>\n",
              "      <td>2048</td>\n",
              "      <td>2500</td>\n",
              "      <td>0.168</td>\n",
              "      <td>0.168</td>\n",
              "      <td>[Hernia]</td>\n",
              "    </tr>\n",
              "    <tr>\n",
              "      <th>6</th>\n",
              "      <td>00000003_003.png</td>\n",
              "      <td>Hernia|Infiltration</td>\n",
              "      <td>2</td>\n",
              "      <td>3</td>\n",
              "      <td>76</td>\n",
              "      <td>F</td>\n",
              "      <td>PA</td>\n",
              "      <td>2698</td>\n",
              "      <td>2991</td>\n",
              "      <td>0.143</td>\n",
              "      <td>0.143</td>\n",
              "      <td>[Infiltration, Hernia]</td>\n",
              "    </tr>\n",
              "    <tr>\n",
              "      <th>7</th>\n",
              "      <td>00000003_004.png</td>\n",
              "      <td>Hernia</td>\n",
              "      <td>3</td>\n",
              "      <td>3</td>\n",
              "      <td>77</td>\n",
              "      <td>F</td>\n",
              "      <td>PA</td>\n",
              "      <td>2500</td>\n",
              "      <td>2048</td>\n",
              "      <td>0.168</td>\n",
              "      <td>0.168</td>\n",
              "      <td>[Hernia]</td>\n",
              "    </tr>\n",
              "    <tr>\n",
              "      <th>8</th>\n",
              "      <td>00000003_005.png</td>\n",
              "      <td>Hernia</td>\n",
              "      <td>4</td>\n",
              "      <td>3</td>\n",
              "      <td>78</td>\n",
              "      <td>F</td>\n",
              "      <td>PA</td>\n",
              "      <td>2686</td>\n",
              "      <td>2991</td>\n",
              "      <td>0.143</td>\n",
              "      <td>0.143</td>\n",
              "      <td>[Hernia]</td>\n",
              "    </tr>\n",
              "    <tr>\n",
              "      <th>9</th>\n",
              "      <td>00000003_006.png</td>\n",
              "      <td>Hernia</td>\n",
              "      <td>5</td>\n",
              "      <td>3</td>\n",
              "      <td>79</td>\n",
              "      <td>F</td>\n",
              "      <td>PA</td>\n",
              "      <td>2992</td>\n",
              "      <td>2991</td>\n",
              "      <td>0.143</td>\n",
              "      <td>0.143</td>\n",
              "      <td>[Hernia]</td>\n",
              "    </tr>\n",
              "    <tr>\n",
              "      <th>10</th>\n",
              "      <td>00000003_007.png</td>\n",
              "      <td>Hernia</td>\n",
              "      <td>6</td>\n",
              "      <td>3</td>\n",
              "      <td>80</td>\n",
              "      <td>F</td>\n",
              "      <td>PA</td>\n",
              "      <td>2582</td>\n",
              "      <td>2905</td>\n",
              "      <td>0.143</td>\n",
              "      <td>0.143</td>\n",
              "      <td>[Hernia]</td>\n",
              "    </tr>\n",
              "    <tr>\n",
              "      <th>11</th>\n",
              "      <td>00000003_000.png</td>\n",
              "      <td>Hernia</td>\n",
              "      <td>7</td>\n",
              "      <td>3</td>\n",
              "      <td>81</td>\n",
              "      <td>F</td>\n",
              "      <td>PA</td>\n",
              "      <td>2582</td>\n",
              "      <td>2991</td>\n",
              "      <td>0.143</td>\n",
              "      <td>0.143</td>\n",
              "      <td>[Hernia]</td>\n",
              "    </tr>\n",
              "  </tbody>\n",
              "</table>\n",
              "</div>"
            ],
            "text/plain": [
              "         image_index          finding_labels  ...     y]       finding_labels_clean\n",
              "0   00000001_000.png            Cardiomegaly  ...  0.143             [Cardiomegaly]\n",
              "1   00000001_001.png  Cardiomegaly|Emphysema  ...  0.143  [Cardiomegaly, Emphysema]\n",
              "2   00000001_002.png   Cardiomegaly|Effusion  ...  0.168   [Cardiomegaly, Effusion]\n",
              "3   00000002_000.png              No Finding  ...  0.171               [No Finding]\n",
              "4   00000003_001.png                  Hernia  ...  0.168                   [Hernia]\n",
              "5   00000003_002.png                  Hernia  ...  0.168                   [Hernia]\n",
              "6   00000003_003.png     Hernia|Infiltration  ...  0.143     [Infiltration, Hernia]\n",
              "7   00000003_004.png                  Hernia  ...  0.168                   [Hernia]\n",
              "8   00000003_005.png                  Hernia  ...  0.143                   [Hernia]\n",
              "9   00000003_006.png                  Hernia  ...  0.143                   [Hernia]\n",
              "10  00000003_007.png                  Hernia  ...  0.143                   [Hernia]\n",
              "11  00000003_000.png                  Hernia  ...  0.143                   [Hernia]\n",
              "\n",
              "[12 rows x 12 columns]"
            ]
          },
          "metadata": {
            "tags": []
          },
          "execution_count": 57
        }
      ]
    },
    {
      "cell_type": "markdown",
      "metadata": {
        "id": "sXWlIBJ36ZOK"
      },
      "source": [
        "This is still not fixing the issue. Sadly, the patient number and follow up numbers are not correctly matching the image naming protocols. This is why my images and theirs are out of order. So, I WILL have to manually restructure this to match the image filing system. Hooray..."
      ]
    },
    {
      "cell_type": "code",
      "metadata": {
        "id": "t5aB0ZCn6ZOK",
        "colab": {
          "base_uri": "https://localhost:8080/"
        },
        "outputId": "b397486c-6429-4393-aec5-6d34cc572219"
      },
      "source": [
        "#making a file patient num and file image num column, then sorting\n",
        "print(int(df.image_index[0].split('_')[0]))\n",
        "df['fpt_num'] = df.image_index.apply(lambda x: int(x.split('_')[0]))\n",
        "df['fimg_num'] = df.image_index.apply(lambda x: int(x.split('_')[1].split('.')[0]))"
      ],
      "execution_count": null,
      "outputs": [
        {
          "output_type": "stream",
          "text": [
            "1\n"
          ],
          "name": "stdout"
        }
      ]
    },
    {
      "cell_type": "code",
      "metadata": {
        "id": "8IQOsmZq6ZOK",
        "colab": {
          "base_uri": "https://localhost:8080/",
          "height": 421
        },
        "outputId": "6c7eac7b-ea74-4c0c-ee70-fbb54944933f"
      },
      "source": [
        "df[['image_index', 'fpt_num', 'fimg_num']].head(12)\n",
        "#This appears to be set to create the correct sort"
      ],
      "execution_count": null,
      "outputs": [
        {
          "output_type": "execute_result",
          "data": {
            "text/html": [
              "<div>\n",
              "<style scoped>\n",
              "    .dataframe tbody tr th:only-of-type {\n",
              "        vertical-align: middle;\n",
              "    }\n",
              "\n",
              "    .dataframe tbody tr th {\n",
              "        vertical-align: top;\n",
              "    }\n",
              "\n",
              "    .dataframe thead th {\n",
              "        text-align: right;\n",
              "    }\n",
              "</style>\n",
              "<table border=\"1\" class=\"dataframe\">\n",
              "  <thead>\n",
              "    <tr style=\"text-align: right;\">\n",
              "      <th></th>\n",
              "      <th>image_index</th>\n",
              "      <th>fpt_num</th>\n",
              "      <th>fimg_num</th>\n",
              "    </tr>\n",
              "  </thead>\n",
              "  <tbody>\n",
              "    <tr>\n",
              "      <th>0</th>\n",
              "      <td>00000001_000.png</td>\n",
              "      <td>1</td>\n",
              "      <td>0</td>\n",
              "    </tr>\n",
              "    <tr>\n",
              "      <th>1</th>\n",
              "      <td>00000001_001.png</td>\n",
              "      <td>1</td>\n",
              "      <td>1</td>\n",
              "    </tr>\n",
              "    <tr>\n",
              "      <th>2</th>\n",
              "      <td>00000001_002.png</td>\n",
              "      <td>1</td>\n",
              "      <td>2</td>\n",
              "    </tr>\n",
              "    <tr>\n",
              "      <th>3</th>\n",
              "      <td>00000002_000.png</td>\n",
              "      <td>2</td>\n",
              "      <td>0</td>\n",
              "    </tr>\n",
              "    <tr>\n",
              "      <th>4</th>\n",
              "      <td>00000003_001.png</td>\n",
              "      <td>3</td>\n",
              "      <td>1</td>\n",
              "    </tr>\n",
              "    <tr>\n",
              "      <th>5</th>\n",
              "      <td>00000003_002.png</td>\n",
              "      <td>3</td>\n",
              "      <td>2</td>\n",
              "    </tr>\n",
              "    <tr>\n",
              "      <th>6</th>\n",
              "      <td>00000003_003.png</td>\n",
              "      <td>3</td>\n",
              "      <td>3</td>\n",
              "    </tr>\n",
              "    <tr>\n",
              "      <th>7</th>\n",
              "      <td>00000003_004.png</td>\n",
              "      <td>3</td>\n",
              "      <td>4</td>\n",
              "    </tr>\n",
              "    <tr>\n",
              "      <th>8</th>\n",
              "      <td>00000003_005.png</td>\n",
              "      <td>3</td>\n",
              "      <td>5</td>\n",
              "    </tr>\n",
              "    <tr>\n",
              "      <th>9</th>\n",
              "      <td>00000003_006.png</td>\n",
              "      <td>3</td>\n",
              "      <td>6</td>\n",
              "    </tr>\n",
              "    <tr>\n",
              "      <th>10</th>\n",
              "      <td>00000003_007.png</td>\n",
              "      <td>3</td>\n",
              "      <td>7</td>\n",
              "    </tr>\n",
              "    <tr>\n",
              "      <th>11</th>\n",
              "      <td>00000003_000.png</td>\n",
              "      <td>3</td>\n",
              "      <td>0</td>\n",
              "    </tr>\n",
              "  </tbody>\n",
              "</table>\n",
              "</div>"
            ],
            "text/plain": [
              "         image_index  fpt_num  fimg_num\n",
              "0   00000001_000.png        1         0\n",
              "1   00000001_001.png        1         1\n",
              "2   00000001_002.png        1         2\n",
              "3   00000002_000.png        2         0\n",
              "4   00000003_001.png        3         1\n",
              "5   00000003_002.png        3         2\n",
              "6   00000003_003.png        3         3\n",
              "7   00000003_004.png        3         4\n",
              "8   00000003_005.png        3         5\n",
              "9   00000003_006.png        3         6\n",
              "10  00000003_007.png        3         7\n",
              "11  00000003_000.png        3         0"
            ]
          },
          "metadata": {
            "tags": []
          },
          "execution_count": 59
        }
      ]
    },
    {
      "cell_type": "code",
      "metadata": {
        "id": "15NzX2nQ6ZOK"
      },
      "source": [
        "arranger = df.sort_values(by = ['fpt_num', 'fimg_num']).reset_index()"
      ],
      "execution_count": null,
      "outputs": []
    },
    {
      "cell_type": "code",
      "metadata": {
        "id": "HMUaAcf16ZOK"
      },
      "source": [
        "df = arranger.drop(columns = 'index')\n",
        "df.drop(columns = ['fpt_num', 'fimg_num'], inplace = True)"
      ],
      "execution_count": null,
      "outputs": []
    },
    {
      "cell_type": "code",
      "metadata": {
        "id": "q2OcDWxe6ZOK",
        "colab": {
          "base_uri": "https://localhost:8080/",
          "height": 475
        },
        "outputId": "79d2b6ad-9e28-4025-bf15-a55be4bc9363"
      },
      "source": [
        "df.head(12)"
      ],
      "execution_count": null,
      "outputs": [
        {
          "output_type": "execute_result",
          "data": {
            "text/html": [
              "<div>\n",
              "<style scoped>\n",
              "    .dataframe tbody tr th:only-of-type {\n",
              "        vertical-align: middle;\n",
              "    }\n",
              "\n",
              "    .dataframe tbody tr th {\n",
              "        vertical-align: top;\n",
              "    }\n",
              "\n",
              "    .dataframe thead th {\n",
              "        text-align: right;\n",
              "    }\n",
              "</style>\n",
              "<table border=\"1\" class=\"dataframe\">\n",
              "  <thead>\n",
              "    <tr style=\"text-align: right;\">\n",
              "      <th></th>\n",
              "      <th>image_index</th>\n",
              "      <th>finding_labels</th>\n",
              "      <th>follow-up_#</th>\n",
              "      <th>patient_id</th>\n",
              "      <th>patient_age</th>\n",
              "      <th>patient_gender</th>\n",
              "      <th>view_position</th>\n",
              "      <th>originalimage[width</th>\n",
              "      <th>height]</th>\n",
              "      <th>originalimagepixelspacing[x</th>\n",
              "      <th>y]</th>\n",
              "      <th>finding_labels_clean</th>\n",
              "    </tr>\n",
              "  </thead>\n",
              "  <tbody>\n",
              "    <tr>\n",
              "      <th>0</th>\n",
              "      <td>00000001_000.png</td>\n",
              "      <td>Cardiomegaly</td>\n",
              "      <td>0</td>\n",
              "      <td>1</td>\n",
              "      <td>57</td>\n",
              "      <td>M</td>\n",
              "      <td>PA</td>\n",
              "      <td>2682</td>\n",
              "      <td>2749</td>\n",
              "      <td>0.143</td>\n",
              "      <td>0.143</td>\n",
              "      <td>[Cardiomegaly]</td>\n",
              "    </tr>\n",
              "    <tr>\n",
              "      <th>1</th>\n",
              "      <td>00000001_001.png</td>\n",
              "      <td>Cardiomegaly|Emphysema</td>\n",
              "      <td>1</td>\n",
              "      <td>1</td>\n",
              "      <td>58</td>\n",
              "      <td>M</td>\n",
              "      <td>PA</td>\n",
              "      <td>2894</td>\n",
              "      <td>2729</td>\n",
              "      <td>0.143</td>\n",
              "      <td>0.143</td>\n",
              "      <td>[Cardiomegaly, Emphysema]</td>\n",
              "    </tr>\n",
              "    <tr>\n",
              "      <th>2</th>\n",
              "      <td>00000001_002.png</td>\n",
              "      <td>Cardiomegaly|Effusion</td>\n",
              "      <td>2</td>\n",
              "      <td>1</td>\n",
              "      <td>58</td>\n",
              "      <td>M</td>\n",
              "      <td>PA</td>\n",
              "      <td>2500</td>\n",
              "      <td>2048</td>\n",
              "      <td>0.168</td>\n",
              "      <td>0.168</td>\n",
              "      <td>[Cardiomegaly, Effusion]</td>\n",
              "    </tr>\n",
              "    <tr>\n",
              "      <th>3</th>\n",
              "      <td>00000002_000.png</td>\n",
              "      <td>No Finding</td>\n",
              "      <td>0</td>\n",
              "      <td>2</td>\n",
              "      <td>80</td>\n",
              "      <td>M</td>\n",
              "      <td>PA</td>\n",
              "      <td>2500</td>\n",
              "      <td>2048</td>\n",
              "      <td>0.171</td>\n",
              "      <td>0.171</td>\n",
              "      <td>[No Finding]</td>\n",
              "    </tr>\n",
              "    <tr>\n",
              "      <th>4</th>\n",
              "      <td>00000003_000.png</td>\n",
              "      <td>Hernia</td>\n",
              "      <td>7</td>\n",
              "      <td>3</td>\n",
              "      <td>81</td>\n",
              "      <td>F</td>\n",
              "      <td>PA</td>\n",
              "      <td>2582</td>\n",
              "      <td>2991</td>\n",
              "      <td>0.143</td>\n",
              "      <td>0.143</td>\n",
              "      <td>[Hernia]</td>\n",
              "    </tr>\n",
              "    <tr>\n",
              "      <th>5</th>\n",
              "      <td>00000003_001.png</td>\n",
              "      <td>Hernia</td>\n",
              "      <td>0</td>\n",
              "      <td>3</td>\n",
              "      <td>74</td>\n",
              "      <td>F</td>\n",
              "      <td>PA</td>\n",
              "      <td>2500</td>\n",
              "      <td>2048</td>\n",
              "      <td>0.168</td>\n",
              "      <td>0.168</td>\n",
              "      <td>[Hernia]</td>\n",
              "    </tr>\n",
              "    <tr>\n",
              "      <th>6</th>\n",
              "      <td>00000003_002.png</td>\n",
              "      <td>Hernia</td>\n",
              "      <td>1</td>\n",
              "      <td>3</td>\n",
              "      <td>75</td>\n",
              "      <td>F</td>\n",
              "      <td>PA</td>\n",
              "      <td>2048</td>\n",
              "      <td>2500</td>\n",
              "      <td>0.168</td>\n",
              "      <td>0.168</td>\n",
              "      <td>[Hernia]</td>\n",
              "    </tr>\n",
              "    <tr>\n",
              "      <th>7</th>\n",
              "      <td>00000003_003.png</td>\n",
              "      <td>Hernia|Infiltration</td>\n",
              "      <td>2</td>\n",
              "      <td>3</td>\n",
              "      <td>76</td>\n",
              "      <td>F</td>\n",
              "      <td>PA</td>\n",
              "      <td>2698</td>\n",
              "      <td>2991</td>\n",
              "      <td>0.143</td>\n",
              "      <td>0.143</td>\n",
              "      <td>[Infiltration, Hernia]</td>\n",
              "    </tr>\n",
              "    <tr>\n",
              "      <th>8</th>\n",
              "      <td>00000003_004.png</td>\n",
              "      <td>Hernia</td>\n",
              "      <td>3</td>\n",
              "      <td>3</td>\n",
              "      <td>77</td>\n",
              "      <td>F</td>\n",
              "      <td>PA</td>\n",
              "      <td>2500</td>\n",
              "      <td>2048</td>\n",
              "      <td>0.168</td>\n",
              "      <td>0.168</td>\n",
              "      <td>[Hernia]</td>\n",
              "    </tr>\n",
              "    <tr>\n",
              "      <th>9</th>\n",
              "      <td>00000003_005.png</td>\n",
              "      <td>Hernia</td>\n",
              "      <td>4</td>\n",
              "      <td>3</td>\n",
              "      <td>78</td>\n",
              "      <td>F</td>\n",
              "      <td>PA</td>\n",
              "      <td>2686</td>\n",
              "      <td>2991</td>\n",
              "      <td>0.143</td>\n",
              "      <td>0.143</td>\n",
              "      <td>[Hernia]</td>\n",
              "    </tr>\n",
              "    <tr>\n",
              "      <th>10</th>\n",
              "      <td>00000003_006.png</td>\n",
              "      <td>Hernia</td>\n",
              "      <td>5</td>\n",
              "      <td>3</td>\n",
              "      <td>79</td>\n",
              "      <td>F</td>\n",
              "      <td>PA</td>\n",
              "      <td>2992</td>\n",
              "      <td>2991</td>\n",
              "      <td>0.143</td>\n",
              "      <td>0.143</td>\n",
              "      <td>[Hernia]</td>\n",
              "    </tr>\n",
              "    <tr>\n",
              "      <th>11</th>\n",
              "      <td>00000003_007.png</td>\n",
              "      <td>Hernia</td>\n",
              "      <td>6</td>\n",
              "      <td>3</td>\n",
              "      <td>80</td>\n",
              "      <td>F</td>\n",
              "      <td>PA</td>\n",
              "      <td>2582</td>\n",
              "      <td>2905</td>\n",
              "      <td>0.143</td>\n",
              "      <td>0.143</td>\n",
              "      <td>[Hernia]</td>\n",
              "    </tr>\n",
              "  </tbody>\n",
              "</table>\n",
              "</div>"
            ],
            "text/plain": [
              "         image_index          finding_labels  ...     y]       finding_labels_clean\n",
              "0   00000001_000.png            Cardiomegaly  ...  0.143             [Cardiomegaly]\n",
              "1   00000001_001.png  Cardiomegaly|Emphysema  ...  0.143  [Cardiomegaly, Emphysema]\n",
              "2   00000001_002.png   Cardiomegaly|Effusion  ...  0.168   [Cardiomegaly, Effusion]\n",
              "3   00000002_000.png              No Finding  ...  0.171               [No Finding]\n",
              "4   00000003_000.png                  Hernia  ...  0.143                   [Hernia]\n",
              "5   00000003_001.png                  Hernia  ...  0.168                   [Hernia]\n",
              "6   00000003_002.png                  Hernia  ...  0.168                   [Hernia]\n",
              "7   00000003_003.png     Hernia|Infiltration  ...  0.143     [Infiltration, Hernia]\n",
              "8   00000003_004.png                  Hernia  ...  0.168                   [Hernia]\n",
              "9   00000003_005.png                  Hernia  ...  0.143                   [Hernia]\n",
              "10  00000003_006.png                  Hernia  ...  0.143                   [Hernia]\n",
              "11  00000003_007.png                  Hernia  ...  0.143                   [Hernia]\n",
              "\n",
              "[12 rows x 12 columns]"
            ]
          },
          "metadata": {
            "tags": []
          },
          "execution_count": 63
        }
      ]
    },
    {
      "cell_type": "markdown",
      "metadata": {
        "id": "QJ3z4Jds6ZOK"
      },
      "source": [
        "It appears that the original indices phased in and out with this new index. That's why my x ray image in my array and my sub list were only off by a few images."
      ]
    },
    {
      "cell_type": "markdown",
      "metadata": {
        "id": "XNketmP16ZOK"
      },
      "source": [
        "## Getting the Subset Data from the DF\n",
        "---"
      ]
    },
    {
      "cell_type": "code",
      "metadata": {
        "id": "gr2L0Cjy6ZOK"
      },
      "source": [
        "#I originally made a smaller subset of the data stored in a test_directory. This directed me to those images for a subdataframe\n",
        "\n",
        "# #A list of start and end + 1 indices of the subset of images (slicing will not be inclusive)\n",
        "# indices = [[0, 407], [4999, 5366], [14999, 15492], [24999, 25791], [34999, 35353],\n",
        "#           [44999, 45516], [54999, 55376], [64999, 65502], [74999, 75335], [84999, 85444],\n",
        "#           [94999, 95116], [104999, 105280]]"
      ],
      "execution_count": null,
      "outputs": []
    },
    {
      "cell_type": "code",
      "metadata": {
        "id": "IhxAioXO6ZOK"
      },
      "source": [
        "# #Confirming that these match the first and last entries in my subset folders\n",
        "# for i in indices:\n",
        "#     print(df.loc[i[0]].image_index, df.loc[i[1] - 1].image_index)"
      ],
      "execution_count": null,
      "outputs": []
    },
    {
      "cell_type": "code",
      "metadata": {
        "id": "VpxP9efd6ZOK"
      },
      "source": [
        "# list_dfs = []\n",
        "# for ind in indices:\n",
        "#     list_dfs.append(df.iloc[ind[0]:ind[1]])"
      ],
      "execution_count": null,
      "outputs": []
    },
    {
      "cell_type": "code",
      "metadata": {
        "id": "oHvFS4DK6ZOK"
      },
      "source": [
        "# df_sub = pd.concat(list_dfs)"
      ],
      "execution_count": null,
      "outputs": []
    },
    {
      "cell_type": "code",
      "metadata": {
        "id": "kiqnk5a-bpbf"
      },
      "source": [
        "# Keras' flow from dataframe method does not have the capability of searching sub directories. This function creates the path to each\n",
        "# image file\n",
        "\n",
        "def path_setup():\n",
        "    path = '/content/gdrive/MyDrive/Capstone_Images/'\n",
        "    all_dfs = []\n",
        "    midpath = ['images/', 'images_5/', 'images_6/', 'images_7/', 'images_8/', \n",
        "               'images_9/','images_10/','images_11/', 'images_12/']\n",
        "    \n",
        "    low = ['000000001_000.png', '00010927_001.png','00011558_008.png','00013774_026.png','00016051_010.png',\n",
        "          '00018387_035.png', '00020945_050.png','00024718_000.png','00028173_003.png']\n",
        "    high = ['00010927_001.png','00011558_008.png','00013774_026.png','00016051_010.png','00018387_035.png',\n",
        "           '00020945_050.png','00024718_000.png','00028173_003.png','00030805_000.png']\n",
        "    \n",
        "    for i,j,k in zip(low, high, midpath):\n",
        "        if i == '000000001_000.png':\n",
        "            df_sub = df.iloc[: df[df.image_index == j].index.values[0]]\n",
        "            df_sub['path'] = df_sub.image_index.apply(lambda x: path + k + x)\n",
        "            all_dfs.append(df_sub)\n",
        "            \n",
        "        elif j == '00030805_000.png':\n",
        "            df_sub = df.iloc[df[df.image_index == i].index.values[0]:]\n",
        "            df_sub['path'] = df_sub.image_index.apply(lambda x: path + k + x)\n",
        "            all_dfs.append(df_sub)\n",
        "            \n",
        "        else:\n",
        "            df_sub = df.iloc[df[df.image_index == i].index.values[0]: df[df.image_index == j].index.values[0]]\n",
        "            df_sub['path'] = df_sub.image_index.apply(lambda x: path + k + x)\n",
        "            all_dfs.append(df_sub)\n",
        "    \n",
        "    new_df = pd.concat(all_dfs)\n",
        "    print(len(all_dfs) == 9)\n",
        "    return new_df"
      ],
      "execution_count": null,
      "outputs": []
    },
    {
      "cell_type": "code",
      "metadata": {
        "colab": {
          "base_uri": "https://localhost:8080/"
        },
        "id": "p_F5qiurXtS-",
        "outputId": "5a781c15-931c-4023-9f3c-efa0c17951a1"
      },
      "source": [
        "df_sub = path_setup()"
      ],
      "execution_count": null,
      "outputs": [
        {
          "output_type": "stream",
          "text": [
            "True\n"
          ],
          "name": "stdout"
        },
        {
          "output_type": "stream",
          "text": [
            "/usr/local/lib/python3.6/dist-packages/ipykernel_launcher.py:16: SettingWithCopyWarning: \n",
            "A value is trying to be set on a copy of a slice from a DataFrame.\n",
            "Try using .loc[row_indexer,col_indexer] = value instead\n",
            "\n",
            "See the caveats in the documentation: https://pandas.pydata.org/pandas-docs/stable/user_guide/indexing.html#returning-a-view-versus-a-copy\n",
            "  app.launch_new_instance()\n",
            "/usr/local/lib/python3.6/dist-packages/ipykernel_launcher.py:26: SettingWithCopyWarning: \n",
            "A value is trying to be set on a copy of a slice from a DataFrame.\n",
            "Try using .loc[row_indexer,col_indexer] = value instead\n",
            "\n",
            "See the caveats in the documentation: https://pandas.pydata.org/pandas-docs/stable/user_guide/indexing.html#returning-a-view-versus-a-copy\n",
            "/usr/local/lib/python3.6/dist-packages/ipykernel_launcher.py:21: SettingWithCopyWarning: \n",
            "A value is trying to be set on a copy of a slice from a DataFrame.\n",
            "Try using .loc[row_indexer,col_indexer] = value instead\n",
            "\n",
            "See the caveats in the documentation: https://pandas.pydata.org/pandas-docs/stable/user_guide/indexing.html#returning-a-view-versus-a-copy\n"
          ],
          "name": "stderr"
        }
      ]
    },
    {
      "cell_type": "code",
      "metadata": {
        "id": "-GgyJMv_6ZOK",
        "colab": {
          "base_uri": "https://localhost:8080/",
          "height": 241
        },
        "outputId": "d49b0c0d-3d27-4815-efef-405567742cdd"
      },
      "source": [
        "#I have verified that each subset of image indices matches what is in my folders\n",
        "df_sub.tail()"
      ],
      "execution_count": null,
      "outputs": [
        {
          "output_type": "execute_result",
          "data": {
            "text/html": [
              "<div>\n",
              "<style scoped>\n",
              "    .dataframe tbody tr th:only-of-type {\n",
              "        vertical-align: middle;\n",
              "    }\n",
              "\n",
              "    .dataframe tbody tr th {\n",
              "        vertical-align: top;\n",
              "    }\n",
              "\n",
              "    .dataframe thead th {\n",
              "        text-align: right;\n",
              "    }\n",
              "</style>\n",
              "<table border=\"1\" class=\"dataframe\">\n",
              "  <thead>\n",
              "    <tr style=\"text-align: right;\">\n",
              "      <th></th>\n",
              "      <th>image_index</th>\n",
              "      <th>finding_labels</th>\n",
              "      <th>follow-up_#</th>\n",
              "      <th>patient_id</th>\n",
              "      <th>patient_age</th>\n",
              "      <th>patient_gender</th>\n",
              "      <th>view_position</th>\n",
              "      <th>originalimage[width</th>\n",
              "      <th>height]</th>\n",
              "      <th>originalimagepixelspacing[x</th>\n",
              "      <th>y]</th>\n",
              "      <th>finding_labels_clean</th>\n",
              "      <th>path</th>\n",
              "    </tr>\n",
              "  </thead>\n",
              "  <tbody>\n",
              "    <tr>\n",
              "      <th>112115</th>\n",
              "      <td>00030801_001.png</td>\n",
              "      <td>Mass|Pneumonia</td>\n",
              "      <td>1</td>\n",
              "      <td>30801</td>\n",
              "      <td>38</td>\n",
              "      <td>M</td>\n",
              "      <td>PA</td>\n",
              "      <td>2048</td>\n",
              "      <td>2500</td>\n",
              "      <td>0.168</td>\n",
              "      <td>0.168</td>\n",
              "      <td>[Mass, Pneumonia]</td>\n",
              "      <td>/content/gdrive/MyDrive/Capstone_Images/images...</td>\n",
              "    </tr>\n",
              "    <tr>\n",
              "      <th>112116</th>\n",
              "      <td>00030802_000.png</td>\n",
              "      <td>No Finding</td>\n",
              "      <td>0</td>\n",
              "      <td>30802</td>\n",
              "      <td>28</td>\n",
              "      <td>M</td>\n",
              "      <td>PA</td>\n",
              "      <td>2048</td>\n",
              "      <td>2500</td>\n",
              "      <td>0.168</td>\n",
              "      <td>0.168</td>\n",
              "      <td>[No Finding]</td>\n",
              "      <td>/content/gdrive/MyDrive/Capstone_Images/images...</td>\n",
              "    </tr>\n",
              "    <tr>\n",
              "      <th>112117</th>\n",
              "      <td>00030803_000.png</td>\n",
              "      <td>No Finding</td>\n",
              "      <td>0</td>\n",
              "      <td>30803</td>\n",
              "      <td>42</td>\n",
              "      <td>F</td>\n",
              "      <td>PA</td>\n",
              "      <td>2048</td>\n",
              "      <td>2500</td>\n",
              "      <td>0.168</td>\n",
              "      <td>0.168</td>\n",
              "      <td>[No Finding]</td>\n",
              "      <td>/content/gdrive/MyDrive/Capstone_Images/images...</td>\n",
              "    </tr>\n",
              "    <tr>\n",
              "      <th>112118</th>\n",
              "      <td>00030804_000.png</td>\n",
              "      <td>No Finding</td>\n",
              "      <td>0</td>\n",
              "      <td>30804</td>\n",
              "      <td>29</td>\n",
              "      <td>F</td>\n",
              "      <td>PA</td>\n",
              "      <td>2048</td>\n",
              "      <td>2500</td>\n",
              "      <td>0.168</td>\n",
              "      <td>0.168</td>\n",
              "      <td>[No Finding]</td>\n",
              "      <td>/content/gdrive/MyDrive/Capstone_Images/images...</td>\n",
              "    </tr>\n",
              "    <tr>\n",
              "      <th>112119</th>\n",
              "      <td>00030805_000.png</td>\n",
              "      <td>No Finding</td>\n",
              "      <td>0</td>\n",
              "      <td>30805</td>\n",
              "      <td>26</td>\n",
              "      <td>M</td>\n",
              "      <td>PA</td>\n",
              "      <td>2048</td>\n",
              "      <td>2500</td>\n",
              "      <td>0.171</td>\n",
              "      <td>0.171</td>\n",
              "      <td>[No Finding]</td>\n",
              "      <td>/content/gdrive/MyDrive/Capstone_Images/images...</td>\n",
              "    </tr>\n",
              "  </tbody>\n",
              "</table>\n",
              "</div>"
            ],
            "text/plain": [
              "             image_index  ...                                               path\n",
              "112115  00030801_001.png  ...  /content/gdrive/MyDrive/Capstone_Images/images...\n",
              "112116  00030802_000.png  ...  /content/gdrive/MyDrive/Capstone_Images/images...\n",
              "112117  00030803_000.png  ...  /content/gdrive/MyDrive/Capstone_Images/images...\n",
              "112118  00030804_000.png  ...  /content/gdrive/MyDrive/Capstone_Images/images...\n",
              "112119  00030805_000.png  ...  /content/gdrive/MyDrive/Capstone_Images/images...\n",
              "\n",
              "[5 rows x 13 columns]"
            ]
          },
          "metadata": {
            "tags": []
          },
          "execution_count": 70
        }
      ]
    },
    {
      "cell_type": "markdown",
      "metadata": {
        "id": "bOmGoPqb6ZOK"
      },
      "source": [
        "EXCELLENT! Now I can model\n",
        "\n",
        "## Model of Subset Data\n",
        "---"
      ]
    },
    {
      "cell_type": "markdown",
      "metadata": {
        "id": "TtXtrf3S6ZOK"
      },
      "source": [
        "The goal here, as from [this article](https://medium.com/@ckyeungac/a-simple-trick-about-multi-label-image-classification-with-imagedatagenerator-in-keras-4ab95364a481), is to find a way to one hot encode my labels and keep them. The stroke of genius is to pass the indices as y column in flow, then go back and retrieve the labels."
      ]
    },
    {
      "cell_type": "code",
      "metadata": {
        "id": "YNf16D4x6ZOL",
        "colab": {
          "base_uri": "https://localhost:8080/"
        },
        "outputId": "1b013d1b-93f9-46d7-f19a-c7276a30035f"
      },
      "source": [
        "print(labels)"
      ],
      "execution_count": null,
      "outputs": [
        {
          "output_type": "stream",
          "text": [
            "['Atelectasis', 'Cardiomegaly', 'Effusion', 'Infiltration', 'Mass', 'Nodule', 'Pneumonia', 'Pneumothorax', 'Consolidation', 'Edema', 'Emphysema', 'Fibrosis', 'Pleural_Thickening', 'Hernia', 'No Finding']\n"
          ],
          "name": "stdout"
        }
      ]
    },
    {
      "cell_type": "code",
      "metadata": {
        "id": "0dAJfzt-6ZOL"
      },
      "source": [
        "df_flow = df_sub[['path', 'finding_labels_clean']].reset_index()\n",
        "df_flow['index'] = df_flow.index\n",
        "\n",
        "#Comment this out if re-running. This subset was merely done to make quick visualizations for epochs\n",
        "df_flow = df_flow.sample(frac = 0.2)"
      ],
      "execution_count": null,
      "outputs": []
    },
    {
      "cell_type": "code",
      "metadata": {
        "colab": {
          "base_uri": "https://localhost:8080/",
          "height": 204
        },
        "id": "h_nCxPpnYrnf",
        "outputId": "b63a69ba-290a-46a6-c271-5daa55cc0cd3"
      },
      "source": [
        "df_flow.head()"
      ],
      "execution_count": null,
      "outputs": [
        {
          "output_type": "execute_result",
          "data": {
            "text/html": [
              "<div>\n",
              "<style scoped>\n",
              "    .dataframe tbody tr th:only-of-type {\n",
              "        vertical-align: middle;\n",
              "    }\n",
              "\n",
              "    .dataframe tbody tr th {\n",
              "        vertical-align: top;\n",
              "    }\n",
              "\n",
              "    .dataframe thead th {\n",
              "        text-align: right;\n",
              "    }\n",
              "</style>\n",
              "<table border=\"1\" class=\"dataframe\">\n",
              "  <thead>\n",
              "    <tr style=\"text-align: right;\">\n",
              "      <th></th>\n",
              "      <th>index</th>\n",
              "      <th>path</th>\n",
              "      <th>finding_labels_clean</th>\n",
              "    </tr>\n",
              "  </thead>\n",
              "  <tbody>\n",
              "    <tr>\n",
              "      <th>78175</th>\n",
              "      <td>78175</td>\n",
              "      <td>/content/gdrive/MyDrive/Capstone_Images/images...</td>\n",
              "      <td>[No Finding]</td>\n",
              "    </tr>\n",
              "    <tr>\n",
              "      <th>84785</th>\n",
              "      <td>84785</td>\n",
              "      <td>/content/gdrive/MyDrive/Capstone_Images/images...</td>\n",
              "      <td>[Infiltration]</td>\n",
              "    </tr>\n",
              "    <tr>\n",
              "      <th>72240</th>\n",
              "      <td>72240</td>\n",
              "      <td>/content/gdrive/MyDrive/Capstone_Images/images...</td>\n",
              "      <td>[Atelectasis, Infiltration]</td>\n",
              "    </tr>\n",
              "    <tr>\n",
              "      <th>80078</th>\n",
              "      <td>80078</td>\n",
              "      <td>/content/gdrive/MyDrive/Capstone_Images/images...</td>\n",
              "      <td>[No Finding]</td>\n",
              "    </tr>\n",
              "    <tr>\n",
              "      <th>97032</th>\n",
              "      <td>97032</td>\n",
              "      <td>/content/gdrive/MyDrive/Capstone_Images/images...</td>\n",
              "      <td>[Atelectasis]</td>\n",
              "    </tr>\n",
              "  </tbody>\n",
              "</table>\n",
              "</div>"
            ],
            "text/plain": [
              "       index  ...         finding_labels_clean\n",
              "78175  78175  ...                 [No Finding]\n",
              "84785  84785  ...               [Infiltration]\n",
              "72240  72240  ...  [Atelectasis, Infiltration]\n",
              "80078  80078  ...                 [No Finding]\n",
              "97032  97032  ...                [Atelectasis]\n",
              "\n",
              "[5 rows x 3 columns]"
            ]
          },
          "metadata": {
            "tags": []
          },
          "execution_count": 74
        }
      ]
    },
    {
      "cell_type": "code",
      "metadata": {
        "id": "rKiIRuLs6ZOL",
        "colab": {
          "base_uri": "https://localhost:8080/",
          "height": 204
        },
        "outputId": "d09b4e18-6055-42fd-8c94-2fd8a81fc01d"
      },
      "source": [
        "df_flow.head()"
      ],
      "execution_count": null,
      "outputs": [
        {
          "output_type": "execute_result",
          "data": {
            "text/html": [
              "<div>\n",
              "<style scoped>\n",
              "    .dataframe tbody tr th:only-of-type {\n",
              "        vertical-align: middle;\n",
              "    }\n",
              "\n",
              "    .dataframe tbody tr th {\n",
              "        vertical-align: top;\n",
              "    }\n",
              "\n",
              "    .dataframe thead th {\n",
              "        text-align: right;\n",
              "    }\n",
              "</style>\n",
              "<table border=\"1\" class=\"dataframe\">\n",
              "  <thead>\n",
              "    <tr style=\"text-align: right;\">\n",
              "      <th></th>\n",
              "      <th>index</th>\n",
              "      <th>path</th>\n",
              "      <th>finding_labels_clean</th>\n",
              "    </tr>\n",
              "  </thead>\n",
              "  <tbody>\n",
              "    <tr>\n",
              "      <th>78175</th>\n",
              "      <td>78175</td>\n",
              "      <td>/content/gdrive/MyDrive/Capstone_Images/images...</td>\n",
              "      <td>[No Finding]</td>\n",
              "    </tr>\n",
              "    <tr>\n",
              "      <th>84785</th>\n",
              "      <td>84785</td>\n",
              "      <td>/content/gdrive/MyDrive/Capstone_Images/images...</td>\n",
              "      <td>[Infiltration]</td>\n",
              "    </tr>\n",
              "    <tr>\n",
              "      <th>72240</th>\n",
              "      <td>72240</td>\n",
              "      <td>/content/gdrive/MyDrive/Capstone_Images/images...</td>\n",
              "      <td>[Atelectasis, Infiltration]</td>\n",
              "    </tr>\n",
              "    <tr>\n",
              "      <th>80078</th>\n",
              "      <td>80078</td>\n",
              "      <td>/content/gdrive/MyDrive/Capstone_Images/images...</td>\n",
              "      <td>[No Finding]</td>\n",
              "    </tr>\n",
              "    <tr>\n",
              "      <th>97032</th>\n",
              "      <td>97032</td>\n",
              "      <td>/content/gdrive/MyDrive/Capstone_Images/images...</td>\n",
              "      <td>[Atelectasis]</td>\n",
              "    </tr>\n",
              "  </tbody>\n",
              "</table>\n",
              "</div>"
            ],
            "text/plain": [
              "       index  ...         finding_labels_clean\n",
              "78175  78175  ...                 [No Finding]\n",
              "84785  84785  ...               [Infiltration]\n",
              "72240  72240  ...  [Atelectasis, Infiltration]\n",
              "80078  80078  ...                 [No Finding]\n",
              "97032  97032  ...                [Atelectasis]\n",
              "\n",
              "[5 rows x 3 columns]"
            ]
          },
          "metadata": {
            "tags": []
          },
          "execution_count": 75
        }
      ]
    },
    {
      "cell_type": "code",
      "metadata": {
        "id": "KRjdfNcjL444"
      },
      "source": [
        "fullpath = '/content/gdrive/MyDrive/Capstone_Images/images'\n",
        "cnn_path = '/content/gdrive/MyDrive/cnn_weights/multilabel_transfer/'"
      ],
      "execution_count": null,
      "outputs": []
    },
    {
      "cell_type": "code",
      "metadata": {
        "id": "Tl-AkWta6ZOL"
      },
      "source": [
        "#path = '/content/gdrive/MyDrive/Capstone_Images/test_dir'\n",
        "datagen = ImageDataGenerator(rescale = 1./255, validation_split = 0.2, horizontal_flip = True, vertical_flip = True)"
      ],
      "execution_count": null,
      "outputs": []
    },
    {
      "cell_type": "code",
      "metadata": {
        "id": "ClpS6FIH6ZOL",
        "colab": {
          "base_uri": "https://localhost:8080/"
        },
        "outputId": "23d127a2-48e5-43c9-adfe-687cc1a8d2a7"
      },
      "source": [
        "training = datagen.flow_from_dataframe(dataframe = df_flow, directory = None,\n",
        "                                   x_col = 'path', y_col = 'finding_labels_clean',\n",
        "                                    class_mode = 'categorical', seed = 42,\n",
        "                                    subset = 'training',\n",
        "                                   batch_size = 64, target_size = (224, 224),# build closer to this again -->(1024, 1024),\n",
        "                                   color_mode = 'rgb')"
      ],
      "execution_count": null,
      "outputs": [
        {
          "output_type": "stream",
          "text": [
            "Found 17252 validated image filenames belonging to 15 classes.\n"
          ],
          "name": "stdout"
        },
        {
          "output_type": "stream",
          "text": [
            "/usr/local/lib/python3.6/dist-packages/keras_preprocessing/image/dataframe_iterator.py:282: UserWarning: Found 860 invalid image filename(s) in x_col=\"path\". These filename(s) will be ignored.\n",
            "  .format(n_invalid, x_col)\n"
          ],
          "name": "stderr"
        }
      ]
    },
    {
      "cell_type": "code",
      "metadata": {
        "id": "Mi7zu_Qo6ZOL",
        "colab": {
          "base_uri": "https://localhost:8080/"
        },
        "outputId": "9ef36bf3-4de7-429c-f484-1a750d0b8ace"
      },
      "source": [
        "test = datagen.flow_from_dataframe(dataframe = df_flow, directory = None,\n",
        "                                   x_col = 'path', y_col = 'finding_labels_clean',\n",
        "                                    class_mode = 'categorical', seed = 42,\n",
        "                                    subset = 'validation',\n",
        "                                   batch_size = 64, target_size = (224, 224),#(1024, 1024),\n",
        "                                   color_mode = 'rgb')"
      ],
      "execution_count": null,
      "outputs": [
        {
          "output_type": "stream",
          "text": [
            "Found 4314 validated image filenames belonging to 15 classes.\n"
          ],
          "name": "stdout"
        },
        {
          "output_type": "stream",
          "text": [
            "/usr/local/lib/python3.6/dist-packages/keras_preprocessing/image/dataframe_iterator.py:282: UserWarning: Found 850 invalid image filename(s) in x_col=\"path\". These filename(s) will be ignored.\n",
            "  .format(n_invalid, x_col)\n"
          ],
          "name": "stderr"
        }
      ]
    },
    {
      "cell_type": "code",
      "metadata": {
        "id": "elmghkwP6ZOL",
        "colab": {
          "base_uri": "https://localhost:8080/"
        },
        "outputId": "125fe106-3864-4b4e-caa0-dc4a6e10ddfe"
      },
      "source": [
        "training.n, test.n"
      ],
      "execution_count": null,
      "outputs": [
        {
          "output_type": "execute_result",
          "data": {
            "text/plain": [
              "(17252, 4314)"
            ]
          },
          "metadata": {
            "tags": []
          },
          "execution_count": 81
        }
      ]
    },
    {
      "cell_type": "code",
      "metadata": {
        "id": "10CmKsS56ZOL",
        "colab": {
          "base_uri": "https://localhost:8080/",
          "height": 419
        },
        "outputId": "d101d722-a324-4b94-d74d-55b6e6cafadc"
      },
      "source": [
        "df_flow"
      ],
      "execution_count": null,
      "outputs": [
        {
          "output_type": "execute_result",
          "data": {
            "text/html": [
              "<div>\n",
              "<style scoped>\n",
              "    .dataframe tbody tr th:only-of-type {\n",
              "        vertical-align: middle;\n",
              "    }\n",
              "\n",
              "    .dataframe tbody tr th {\n",
              "        vertical-align: top;\n",
              "    }\n",
              "\n",
              "    .dataframe thead th {\n",
              "        text-align: right;\n",
              "    }\n",
              "</style>\n",
              "<table border=\"1\" class=\"dataframe\">\n",
              "  <thead>\n",
              "    <tr style=\"text-align: right;\">\n",
              "      <th></th>\n",
              "      <th>index</th>\n",
              "      <th>path</th>\n",
              "      <th>finding_labels_clean</th>\n",
              "    </tr>\n",
              "  </thead>\n",
              "  <tbody>\n",
              "    <tr>\n",
              "      <th>78175</th>\n",
              "      <td>78175</td>\n",
              "      <td>/content/gdrive/MyDrive/Capstone_Images/images...</td>\n",
              "      <td>[No Finding]</td>\n",
              "    </tr>\n",
              "    <tr>\n",
              "      <th>84785</th>\n",
              "      <td>84785</td>\n",
              "      <td>/content/gdrive/MyDrive/Capstone_Images/images...</td>\n",
              "      <td>[Infiltration]</td>\n",
              "    </tr>\n",
              "    <tr>\n",
              "      <th>72240</th>\n",
              "      <td>72240</td>\n",
              "      <td>/content/gdrive/MyDrive/Capstone_Images/images...</td>\n",
              "      <td>[Atelectasis, Infiltration]</td>\n",
              "    </tr>\n",
              "    <tr>\n",
              "      <th>80078</th>\n",
              "      <td>80078</td>\n",
              "      <td>/content/gdrive/MyDrive/Capstone_Images/images...</td>\n",
              "      <td>[No Finding]</td>\n",
              "    </tr>\n",
              "    <tr>\n",
              "      <th>97032</th>\n",
              "      <td>97032</td>\n",
              "      <td>/content/gdrive/MyDrive/Capstone_Images/images...</td>\n",
              "      <td>[Atelectasis]</td>\n",
              "    </tr>\n",
              "    <tr>\n",
              "      <th>...</th>\n",
              "      <td>...</td>\n",
              "      <td>...</td>\n",
              "      <td>...</td>\n",
              "    </tr>\n",
              "    <tr>\n",
              "      <th>18066</th>\n",
              "      <td>18066</td>\n",
              "      <td>/content/gdrive/MyDrive/Capstone_Images/images...</td>\n",
              "      <td>[No Finding]</td>\n",
              "    </tr>\n",
              "    <tr>\n",
              "      <th>37883</th>\n",
              "      <td>37883</td>\n",
              "      <td>/content/gdrive/MyDrive/Capstone_Images/images...</td>\n",
              "      <td>[No Finding]</td>\n",
              "    </tr>\n",
              "    <tr>\n",
              "      <th>26378</th>\n",
              "      <td>26378</td>\n",
              "      <td>/content/gdrive/MyDrive/Capstone_Images/images...</td>\n",
              "      <td>[Nodule]</td>\n",
              "    </tr>\n",
              "    <tr>\n",
              "      <th>33783</th>\n",
              "      <td>33783</td>\n",
              "      <td>/content/gdrive/MyDrive/Capstone_Images/images...</td>\n",
              "      <td>[Consolidation]</td>\n",
              "    </tr>\n",
              "    <tr>\n",
              "      <th>20202</th>\n",
              "      <td>20202</td>\n",
              "      <td>/content/gdrive/MyDrive/Capstone_Images/images...</td>\n",
              "      <td>[Infiltration]</td>\n",
              "    </tr>\n",
              "  </tbody>\n",
              "</table>\n",
              "<p>22424 rows × 3 columns</p>\n",
              "</div>"
            ],
            "text/plain": [
              "       index  ...         finding_labels_clean\n",
              "78175  78175  ...                 [No Finding]\n",
              "84785  84785  ...               [Infiltration]\n",
              "72240  72240  ...  [Atelectasis, Infiltration]\n",
              "80078  80078  ...                 [No Finding]\n",
              "97032  97032  ...                [Atelectasis]\n",
              "...      ...  ...                          ...\n",
              "18066  18066  ...                 [No Finding]\n",
              "37883  37883  ...                 [No Finding]\n",
              "26378  26378  ...                     [Nodule]\n",
              "33783  33783  ...              [Consolidation]\n",
              "20202  20202  ...               [Infiltration]\n",
              "\n",
              "[22424 rows x 3 columns]"
            ]
          },
          "metadata": {
            "tags": []
          },
          "execution_count": 82
        }
      ]
    },
    {
      "cell_type": "code",
      "metadata": {
        "id": "-sXavpiu6ZOL",
        "colab": {
          "base_uri": "https://localhost:8080/"
        },
        "outputId": "8d080da1-bcb3-485a-95e6-4ab11bed1857"
      },
      "source": [
        "final_labels = labels\n",
        "final_labels"
      ],
      "execution_count": null,
      "outputs": [
        {
          "output_type": "execute_result",
          "data": {
            "text/plain": [
              "['Atelectasis',\n",
              " 'Cardiomegaly',\n",
              " 'Effusion',\n",
              " 'Infiltration',\n",
              " 'Mass',\n",
              " 'Nodule',\n",
              " 'Pneumonia',\n",
              " 'Pneumothorax',\n",
              " 'Consolidation',\n",
              " 'Edema',\n",
              " 'Emphysema',\n",
              " 'Fibrosis',\n",
              " 'Pleural_Thickening',\n",
              " 'Hernia',\n",
              " 'No Finding']"
            ]
          },
          "metadata": {
            "tags": []
          },
          "execution_count": 83
        }
      ]
    },
    {
      "cell_type": "code",
      "metadata": {
        "id": "aZ7BfHEh6ZOL"
      },
      "source": [
        "#Prior to using the generator, this was how I extracted classes\n",
        "\n",
        "# def make_preds(arr):\n",
        "#     final_list = []\n",
        "#     for pred in range(len(arr)):\n",
        "#         dictest = {val:arr[pred][ind] for ind,val in enumerate(final_labels)}\n",
        "#         ret_list = [i for i in dictest.keys() if dictest[i] != 0]\n",
        "#         final_list.append(ret_list)\n",
        "#     return final_list"
      ],
      "execution_count": null,
      "outputs": []
    },
    {
      "cell_type": "code",
      "metadata": {
        "id": "y6DdQb6Z6ZOL"
      },
      "source": [
        "step_train=training.n//training.batch_size\n",
        "step_test=test.n//test.batch_size"
      ],
      "execution_count": null,
      "outputs": []
    },
    {
      "cell_type": "code",
      "metadata": {
        "id": "-0c6y9gEWYmk",
        "colab": {
          "base_uri": "https://localhost:8080/"
        },
        "outputId": "ff15d313-a204-4477-9436-db0893cbabc3"
      },
      "source": [
        "#This base model is the pre - trained model from ImageNet\n",
        "\n",
        "base_model = tf.keras.applications.DenseNet121(\n",
        "    include_top=False,\n",
        "    weights=\"imagenet\",\n",
        "    classes = 15,\n",
        "    pooling = 'avg',\n",
        "    input_shape=(224, 224, 3)\n",
        ")"
      ],
      "execution_count": null,
      "outputs": [
        {
          "output_type": "stream",
          "text": [
            "Downloading data from https://storage.googleapis.com/tensorflow/keras-applications/densenet/densenet121_weights_tf_dim_ordering_tf_kernels_notop.h5\n",
            "29089792/29084464 [==============================] - 1s 0us/step\n"
          ],
          "name": "stdout"
        }
      ]
    },
    {
      "cell_type": "code",
      "metadata": {
        "id": "kenUcbyi3eSS"
      },
      "source": [
        "for layer in base_model.layers:\n",
        "  layer.trainable = False\n",
        "\n",
        "\n",
        "#You can unfreeze certain layers to partially train as well\n",
        "\n",
        "# for layer in base_model.layers[:-20]:\n",
        "#     layer.trainable=False\n",
        "# for layer in base_model.layers[-20:]:\n",
        "#     layer.trainable=True"
      ],
      "execution_count": null,
      "outputs": []
    },
    {
      "cell_type": "code",
      "metadata": {
        "id": "evzuGtp23k1V"
      },
      "source": [
        "\n",
        "x=base_model.output\n",
        "x=Flatten()(x)#x=GlobalAveragePooling2D()(x)\n",
        "\n",
        "\n",
        "\n",
        "#Experimenting with number of layers/neurons in my top layer\n",
        "#x=Dense(25000,activation='relu')(x)\n",
        "#x=Dense(15024,activation='relu')(x)\n",
        "x=Dense(10024,activation='relu')(x)\n",
        "x=Dense(10024,activation='relu')(x)\n",
        "x=Dense(6024,activation='relu')(x)\n",
        "x=Dense(4024,activation='relu')(x) #we add dense layers so that the model can learn more complex \n",
        "#functions and classify for better results.\n",
        "x=Dense(2024,activation='relu')(x) #dense layer 2\n",
        "x=Dense(1200,activation='relu')(x) #dense layer 3\n",
        "\n",
        "# Add a final sigmoid layer for classification\n",
        "x = layers.Dense(15, activation='sigmoid')(x)\n",
        "\n",
        "#concatenate the base model, the function of how many layers to freeze, and the top layer into one model\n",
        "model = tf.keras.models.Model(base_model.input, x)"
      ],
      "execution_count": null,
      "outputs": []
    },
    {
      "cell_type": "code",
      "metadata": {
        "id": "JawM8agR6ZOL"
      },
      "source": [
        "#This was the original model buildout that I constructed\n",
        "\n",
        "# model = Sequential()\n",
        "\n",
        "# model.add(Conv2D(32, kernel_size = (3, 3), padding = 'same', activation = 'relu', input_shape = (224, 224, 1)))\n",
        "\n",
        "\n",
        "# model.add(Conv2D(32, kernel_size = (3, 3), padding = 'same', activation = 'relu'))\n",
        "# model.add(MaxPool2D(pool_size = (2, 2)))\n",
        "\n",
        "# model.add(Conv2D(64, kernel_size = (3, 3), padding = 'same', activation = 'relu'))\n",
        "# model.add(MaxPool2D(pool_size = (2, 2)))\n",
        "\n",
        "# #model.add(Conv2D(64, kernel_size = (3, 3), padding = 'same', activation = 'relu'))\n",
        "\n",
        "# #model.add(Conv2D(32, kernel_size = (3, 3), padding = 'same', activation = 'relu'))\n",
        "# #model.add(MaxPool2D(pool_size = (2, 2)))\n",
        "\n",
        "# #kernel_regularizer = l2(0.02)\n",
        "\n",
        "# model.add(GlobalAveragePooling2D())\n",
        "\n",
        "# model.add(Dense(10_000, activation = 'relu'))\n",
        "# model.add(Dense(5000, activation = 'relu'))\n",
        "# model.add(Dense(2500, activation = 'relu'))\n",
        "# model.add(Dense(1200, activation = 'relu'))\n",
        "# model.add(Dense(800, activation = 'relu'))\n",
        "# model.add(Dense(600, activation = 'relu'))\n",
        "\n",
        "# model.add(Dense(400, activation = 'relu'))\n",
        "\n",
        "# #model.add(Dense(100, activation = 'relu'))\n",
        "\n",
        "# model.add(Dense(15, activation = 'sigmoid'))"
      ],
      "execution_count": null,
      "outputs": []
    },
    {
      "cell_type": "code",
      "metadata": {
        "id": "Q9LQJNTC90JF"
      },
      "source": [
        "opt = Adam(lr=0.001) #made this in case I wished to start with different learning rates"
      ],
      "execution_count": null,
      "outputs": []
    },
    {
      "cell_type": "code",
      "metadata": {
        "id": "kWtt1K0Z6ZOL"
      },
      "source": [
        "model.compile(loss = 'binary_crossentropy', optimizer = opt, metrics = ['accuracy'])"
      ],
      "execution_count": null,
      "outputs": []
    },
    {
      "cell_type": "code",
      "metadata": {
        "id": "MOINsZXsANqR",
        "colab": {
          "base_uri": "https://localhost:8080/"
        },
        "outputId": "02df1c59-d115-4dbc-e7ab-a1853d72e272"
      },
      "source": [
        "model.summary()"
      ],
      "execution_count": null,
      "outputs": [
        {
          "output_type": "stream",
          "text": [
            "Model: \"functional_1\"\n",
            "__________________________________________________________________________________________________\n",
            "Layer (type)                    Output Shape         Param #     Connected to                     \n",
            "==================================================================================================\n",
            "input_1 (InputLayer)            [(None, 224, 224, 3) 0                                            \n",
            "__________________________________________________________________________________________________\n",
            "zero_padding2d (ZeroPadding2D)  (None, 230, 230, 3)  0           input_1[0][0]                    \n",
            "__________________________________________________________________________________________________\n",
            "conv1/conv (Conv2D)             (None, 112, 112, 64) 9408        zero_padding2d[0][0]             \n",
            "__________________________________________________________________________________________________\n",
            "conv1/bn (BatchNormalization)   (None, 112, 112, 64) 256         conv1/conv[0][0]                 \n",
            "__________________________________________________________________________________________________\n",
            "conv1/relu (Activation)         (None, 112, 112, 64) 0           conv1/bn[0][0]                   \n",
            "__________________________________________________________________________________________________\n",
            "zero_padding2d_1 (ZeroPadding2D (None, 114, 114, 64) 0           conv1/relu[0][0]                 \n",
            "__________________________________________________________________________________________________\n",
            "pool1 (MaxPooling2D)            (None, 56, 56, 64)   0           zero_padding2d_1[0][0]           \n",
            "__________________________________________________________________________________________________\n",
            "conv2_block1_0_bn (BatchNormali (None, 56, 56, 64)   256         pool1[0][0]                      \n",
            "__________________________________________________________________________________________________\n",
            "conv2_block1_0_relu (Activation (None, 56, 56, 64)   0           conv2_block1_0_bn[0][0]          \n",
            "__________________________________________________________________________________________________\n",
            "conv2_block1_1_conv (Conv2D)    (None, 56, 56, 128)  8192        conv2_block1_0_relu[0][0]        \n",
            "__________________________________________________________________________________________________\n",
            "conv2_block1_1_bn (BatchNormali (None, 56, 56, 128)  512         conv2_block1_1_conv[0][0]        \n",
            "__________________________________________________________________________________________________\n",
            "conv2_block1_1_relu (Activation (None, 56, 56, 128)  0           conv2_block1_1_bn[0][0]          \n",
            "__________________________________________________________________________________________________\n",
            "conv2_block1_2_conv (Conv2D)    (None, 56, 56, 32)   36864       conv2_block1_1_relu[0][0]        \n",
            "__________________________________________________________________________________________________\n",
            "conv2_block1_concat (Concatenat (None, 56, 56, 96)   0           pool1[0][0]                      \n",
            "                                                                 conv2_block1_2_conv[0][0]        \n",
            "__________________________________________________________________________________________________\n",
            "conv2_block2_0_bn (BatchNormali (None, 56, 56, 96)   384         conv2_block1_concat[0][0]        \n",
            "__________________________________________________________________________________________________\n",
            "conv2_block2_0_relu (Activation (None, 56, 56, 96)   0           conv2_block2_0_bn[0][0]          \n",
            "__________________________________________________________________________________________________\n",
            "conv2_block2_1_conv (Conv2D)    (None, 56, 56, 128)  12288       conv2_block2_0_relu[0][0]        \n",
            "__________________________________________________________________________________________________\n",
            "conv2_block2_1_bn (BatchNormali (None, 56, 56, 128)  512         conv2_block2_1_conv[0][0]        \n",
            "__________________________________________________________________________________________________\n",
            "conv2_block2_1_relu (Activation (None, 56, 56, 128)  0           conv2_block2_1_bn[0][0]          \n",
            "__________________________________________________________________________________________________\n",
            "conv2_block2_2_conv (Conv2D)    (None, 56, 56, 32)   36864       conv2_block2_1_relu[0][0]        \n",
            "__________________________________________________________________________________________________\n",
            "conv2_block2_concat (Concatenat (None, 56, 56, 128)  0           conv2_block1_concat[0][0]        \n",
            "                                                                 conv2_block2_2_conv[0][0]        \n",
            "__________________________________________________________________________________________________\n",
            "conv2_block3_0_bn (BatchNormali (None, 56, 56, 128)  512         conv2_block2_concat[0][0]        \n",
            "__________________________________________________________________________________________________\n",
            "conv2_block3_0_relu (Activation (None, 56, 56, 128)  0           conv2_block3_0_bn[0][0]          \n",
            "__________________________________________________________________________________________________\n",
            "conv2_block3_1_conv (Conv2D)    (None, 56, 56, 128)  16384       conv2_block3_0_relu[0][0]        \n",
            "__________________________________________________________________________________________________\n",
            "conv2_block3_1_bn (BatchNormali (None, 56, 56, 128)  512         conv2_block3_1_conv[0][0]        \n",
            "__________________________________________________________________________________________________\n",
            "conv2_block3_1_relu (Activation (None, 56, 56, 128)  0           conv2_block3_1_bn[0][0]          \n",
            "__________________________________________________________________________________________________\n",
            "conv2_block3_2_conv (Conv2D)    (None, 56, 56, 32)   36864       conv2_block3_1_relu[0][0]        \n",
            "__________________________________________________________________________________________________\n",
            "conv2_block3_concat (Concatenat (None, 56, 56, 160)  0           conv2_block2_concat[0][0]        \n",
            "                                                                 conv2_block3_2_conv[0][0]        \n",
            "__________________________________________________________________________________________________\n",
            "conv2_block4_0_bn (BatchNormali (None, 56, 56, 160)  640         conv2_block3_concat[0][0]        \n",
            "__________________________________________________________________________________________________\n",
            "conv2_block4_0_relu (Activation (None, 56, 56, 160)  0           conv2_block4_0_bn[0][0]          \n",
            "__________________________________________________________________________________________________\n",
            "conv2_block4_1_conv (Conv2D)    (None, 56, 56, 128)  20480       conv2_block4_0_relu[0][0]        \n",
            "__________________________________________________________________________________________________\n",
            "conv2_block4_1_bn (BatchNormali (None, 56, 56, 128)  512         conv2_block4_1_conv[0][0]        \n",
            "__________________________________________________________________________________________________\n",
            "conv2_block4_1_relu (Activation (None, 56, 56, 128)  0           conv2_block4_1_bn[0][0]          \n",
            "__________________________________________________________________________________________________\n",
            "conv2_block4_2_conv (Conv2D)    (None, 56, 56, 32)   36864       conv2_block4_1_relu[0][0]        \n",
            "__________________________________________________________________________________________________\n",
            "conv2_block4_concat (Concatenat (None, 56, 56, 192)  0           conv2_block3_concat[0][0]        \n",
            "                                                                 conv2_block4_2_conv[0][0]        \n",
            "__________________________________________________________________________________________________\n",
            "conv2_block5_0_bn (BatchNormali (None, 56, 56, 192)  768         conv2_block4_concat[0][0]        \n",
            "__________________________________________________________________________________________________\n",
            "conv2_block5_0_relu (Activation (None, 56, 56, 192)  0           conv2_block5_0_bn[0][0]          \n",
            "__________________________________________________________________________________________________\n",
            "conv2_block5_1_conv (Conv2D)    (None, 56, 56, 128)  24576       conv2_block5_0_relu[0][0]        \n",
            "__________________________________________________________________________________________________\n",
            "conv2_block5_1_bn (BatchNormali (None, 56, 56, 128)  512         conv2_block5_1_conv[0][0]        \n",
            "__________________________________________________________________________________________________\n",
            "conv2_block5_1_relu (Activation (None, 56, 56, 128)  0           conv2_block5_1_bn[0][0]          \n",
            "__________________________________________________________________________________________________\n",
            "conv2_block5_2_conv (Conv2D)    (None, 56, 56, 32)   36864       conv2_block5_1_relu[0][0]        \n",
            "__________________________________________________________________________________________________\n",
            "conv2_block5_concat (Concatenat (None, 56, 56, 224)  0           conv2_block4_concat[0][0]        \n",
            "                                                                 conv2_block5_2_conv[0][0]        \n",
            "__________________________________________________________________________________________________\n",
            "conv2_block6_0_bn (BatchNormali (None, 56, 56, 224)  896         conv2_block5_concat[0][0]        \n",
            "__________________________________________________________________________________________________\n",
            "conv2_block6_0_relu (Activation (None, 56, 56, 224)  0           conv2_block6_0_bn[0][0]          \n",
            "__________________________________________________________________________________________________\n",
            "conv2_block6_1_conv (Conv2D)    (None, 56, 56, 128)  28672       conv2_block6_0_relu[0][0]        \n",
            "__________________________________________________________________________________________________\n",
            "conv2_block6_1_bn (BatchNormali (None, 56, 56, 128)  512         conv2_block6_1_conv[0][0]        \n",
            "__________________________________________________________________________________________________\n",
            "conv2_block6_1_relu (Activation (None, 56, 56, 128)  0           conv2_block6_1_bn[0][0]          \n",
            "__________________________________________________________________________________________________\n",
            "conv2_block6_2_conv (Conv2D)    (None, 56, 56, 32)   36864       conv2_block6_1_relu[0][0]        \n",
            "__________________________________________________________________________________________________\n",
            "conv2_block6_concat (Concatenat (None, 56, 56, 256)  0           conv2_block5_concat[0][0]        \n",
            "                                                                 conv2_block6_2_conv[0][0]        \n",
            "__________________________________________________________________________________________________\n",
            "pool2_bn (BatchNormalization)   (None, 56, 56, 256)  1024        conv2_block6_concat[0][0]        \n",
            "__________________________________________________________________________________________________\n",
            "pool2_relu (Activation)         (None, 56, 56, 256)  0           pool2_bn[0][0]                   \n",
            "__________________________________________________________________________________________________\n",
            "pool2_conv (Conv2D)             (None, 56, 56, 128)  32768       pool2_relu[0][0]                 \n",
            "__________________________________________________________________________________________________\n",
            "pool2_pool (AveragePooling2D)   (None, 28, 28, 128)  0           pool2_conv[0][0]                 \n",
            "__________________________________________________________________________________________________\n",
            "conv3_block1_0_bn (BatchNormali (None, 28, 28, 128)  512         pool2_pool[0][0]                 \n",
            "__________________________________________________________________________________________________\n",
            "conv3_block1_0_relu (Activation (None, 28, 28, 128)  0           conv3_block1_0_bn[0][0]          \n",
            "__________________________________________________________________________________________________\n",
            "conv3_block1_1_conv (Conv2D)    (None, 28, 28, 128)  16384       conv3_block1_0_relu[0][0]        \n",
            "__________________________________________________________________________________________________\n",
            "conv3_block1_1_bn (BatchNormali (None, 28, 28, 128)  512         conv3_block1_1_conv[0][0]        \n",
            "__________________________________________________________________________________________________\n",
            "conv3_block1_1_relu (Activation (None, 28, 28, 128)  0           conv3_block1_1_bn[0][0]          \n",
            "__________________________________________________________________________________________________\n",
            "conv3_block1_2_conv (Conv2D)    (None, 28, 28, 32)   36864       conv3_block1_1_relu[0][0]        \n",
            "__________________________________________________________________________________________________\n",
            "conv3_block1_concat (Concatenat (None, 28, 28, 160)  0           pool2_pool[0][0]                 \n",
            "                                                                 conv3_block1_2_conv[0][0]        \n",
            "__________________________________________________________________________________________________\n",
            "conv3_block2_0_bn (BatchNormali (None, 28, 28, 160)  640         conv3_block1_concat[0][0]        \n",
            "__________________________________________________________________________________________________\n",
            "conv3_block2_0_relu (Activation (None, 28, 28, 160)  0           conv3_block2_0_bn[0][0]          \n",
            "__________________________________________________________________________________________________\n",
            "conv3_block2_1_conv (Conv2D)    (None, 28, 28, 128)  20480       conv3_block2_0_relu[0][0]        \n",
            "__________________________________________________________________________________________________\n",
            "conv3_block2_1_bn (BatchNormali (None, 28, 28, 128)  512         conv3_block2_1_conv[0][0]        \n",
            "__________________________________________________________________________________________________\n",
            "conv3_block2_1_relu (Activation (None, 28, 28, 128)  0           conv3_block2_1_bn[0][0]          \n",
            "__________________________________________________________________________________________________\n",
            "conv3_block2_2_conv (Conv2D)    (None, 28, 28, 32)   36864       conv3_block2_1_relu[0][0]        \n",
            "__________________________________________________________________________________________________\n",
            "conv3_block2_concat (Concatenat (None, 28, 28, 192)  0           conv3_block1_concat[0][0]        \n",
            "                                                                 conv3_block2_2_conv[0][0]        \n",
            "__________________________________________________________________________________________________\n",
            "conv3_block3_0_bn (BatchNormali (None, 28, 28, 192)  768         conv3_block2_concat[0][0]        \n",
            "__________________________________________________________________________________________________\n",
            "conv3_block3_0_relu (Activation (None, 28, 28, 192)  0           conv3_block3_0_bn[0][0]          \n",
            "__________________________________________________________________________________________________\n",
            "conv3_block3_1_conv (Conv2D)    (None, 28, 28, 128)  24576       conv3_block3_0_relu[0][0]        \n",
            "__________________________________________________________________________________________________\n",
            "conv3_block3_1_bn (BatchNormali (None, 28, 28, 128)  512         conv3_block3_1_conv[0][0]        \n",
            "__________________________________________________________________________________________________\n",
            "conv3_block3_1_relu (Activation (None, 28, 28, 128)  0           conv3_block3_1_bn[0][0]          \n",
            "__________________________________________________________________________________________________\n",
            "conv3_block3_2_conv (Conv2D)    (None, 28, 28, 32)   36864       conv3_block3_1_relu[0][0]        \n",
            "__________________________________________________________________________________________________\n",
            "conv3_block3_concat (Concatenat (None, 28, 28, 224)  0           conv3_block2_concat[0][0]        \n",
            "                                                                 conv3_block3_2_conv[0][0]        \n",
            "__________________________________________________________________________________________________\n",
            "conv3_block4_0_bn (BatchNormali (None, 28, 28, 224)  896         conv3_block3_concat[0][0]        \n",
            "__________________________________________________________________________________________________\n",
            "conv3_block4_0_relu (Activation (None, 28, 28, 224)  0           conv3_block4_0_bn[0][0]          \n",
            "__________________________________________________________________________________________________\n",
            "conv3_block4_1_conv (Conv2D)    (None, 28, 28, 128)  28672       conv3_block4_0_relu[0][0]        \n",
            "__________________________________________________________________________________________________\n",
            "conv3_block4_1_bn (BatchNormali (None, 28, 28, 128)  512         conv3_block4_1_conv[0][0]        \n",
            "__________________________________________________________________________________________________\n",
            "conv3_block4_1_relu (Activation (None, 28, 28, 128)  0           conv3_block4_1_bn[0][0]          \n",
            "__________________________________________________________________________________________________\n",
            "conv3_block4_2_conv (Conv2D)    (None, 28, 28, 32)   36864       conv3_block4_1_relu[0][0]        \n",
            "__________________________________________________________________________________________________\n",
            "conv3_block4_concat (Concatenat (None, 28, 28, 256)  0           conv3_block3_concat[0][0]        \n",
            "                                                                 conv3_block4_2_conv[0][0]        \n",
            "__________________________________________________________________________________________________\n",
            "conv3_block5_0_bn (BatchNormali (None, 28, 28, 256)  1024        conv3_block4_concat[0][0]        \n",
            "__________________________________________________________________________________________________\n",
            "conv3_block5_0_relu (Activation (None, 28, 28, 256)  0           conv3_block5_0_bn[0][0]          \n",
            "__________________________________________________________________________________________________\n",
            "conv3_block5_1_conv (Conv2D)    (None, 28, 28, 128)  32768       conv3_block5_0_relu[0][0]        \n",
            "__________________________________________________________________________________________________\n",
            "conv3_block5_1_bn (BatchNormali (None, 28, 28, 128)  512         conv3_block5_1_conv[0][0]        \n",
            "__________________________________________________________________________________________________\n",
            "conv3_block5_1_relu (Activation (None, 28, 28, 128)  0           conv3_block5_1_bn[0][0]          \n",
            "__________________________________________________________________________________________________\n",
            "conv3_block5_2_conv (Conv2D)    (None, 28, 28, 32)   36864       conv3_block5_1_relu[0][0]        \n",
            "__________________________________________________________________________________________________\n",
            "conv3_block5_concat (Concatenat (None, 28, 28, 288)  0           conv3_block4_concat[0][0]        \n",
            "                                                                 conv3_block5_2_conv[0][0]        \n",
            "__________________________________________________________________________________________________\n",
            "conv3_block6_0_bn (BatchNormali (None, 28, 28, 288)  1152        conv3_block5_concat[0][0]        \n",
            "__________________________________________________________________________________________________\n",
            "conv3_block6_0_relu (Activation (None, 28, 28, 288)  0           conv3_block6_0_bn[0][0]          \n",
            "__________________________________________________________________________________________________\n",
            "conv3_block6_1_conv (Conv2D)    (None, 28, 28, 128)  36864       conv3_block6_0_relu[0][0]        \n",
            "__________________________________________________________________________________________________\n",
            "conv3_block6_1_bn (BatchNormali (None, 28, 28, 128)  512         conv3_block6_1_conv[0][0]        \n",
            "__________________________________________________________________________________________________\n",
            "conv3_block6_1_relu (Activation (None, 28, 28, 128)  0           conv3_block6_1_bn[0][0]          \n",
            "__________________________________________________________________________________________________\n",
            "conv3_block6_2_conv (Conv2D)    (None, 28, 28, 32)   36864       conv3_block6_1_relu[0][0]        \n",
            "__________________________________________________________________________________________________\n",
            "conv3_block6_concat (Concatenat (None, 28, 28, 320)  0           conv3_block5_concat[0][0]        \n",
            "                                                                 conv3_block6_2_conv[0][0]        \n",
            "__________________________________________________________________________________________________\n",
            "conv3_block7_0_bn (BatchNormali (None, 28, 28, 320)  1280        conv3_block6_concat[0][0]        \n",
            "__________________________________________________________________________________________________\n",
            "conv3_block7_0_relu (Activation (None, 28, 28, 320)  0           conv3_block7_0_bn[0][0]          \n",
            "__________________________________________________________________________________________________\n",
            "conv3_block7_1_conv (Conv2D)    (None, 28, 28, 128)  40960       conv3_block7_0_relu[0][0]        \n",
            "__________________________________________________________________________________________________\n",
            "conv3_block7_1_bn (BatchNormali (None, 28, 28, 128)  512         conv3_block7_1_conv[0][0]        \n",
            "__________________________________________________________________________________________________\n",
            "conv3_block7_1_relu (Activation (None, 28, 28, 128)  0           conv3_block7_1_bn[0][0]          \n",
            "__________________________________________________________________________________________________\n",
            "conv3_block7_2_conv (Conv2D)    (None, 28, 28, 32)   36864       conv3_block7_1_relu[0][0]        \n",
            "__________________________________________________________________________________________________\n",
            "conv3_block7_concat (Concatenat (None, 28, 28, 352)  0           conv3_block6_concat[0][0]        \n",
            "                                                                 conv3_block7_2_conv[0][0]        \n",
            "__________________________________________________________________________________________________\n",
            "conv3_block8_0_bn (BatchNormali (None, 28, 28, 352)  1408        conv3_block7_concat[0][0]        \n",
            "__________________________________________________________________________________________________\n",
            "conv3_block8_0_relu (Activation (None, 28, 28, 352)  0           conv3_block8_0_bn[0][0]          \n",
            "__________________________________________________________________________________________________\n",
            "conv3_block8_1_conv (Conv2D)    (None, 28, 28, 128)  45056       conv3_block8_0_relu[0][0]        \n",
            "__________________________________________________________________________________________________\n",
            "conv3_block8_1_bn (BatchNormali (None, 28, 28, 128)  512         conv3_block8_1_conv[0][0]        \n",
            "__________________________________________________________________________________________________\n",
            "conv3_block8_1_relu (Activation (None, 28, 28, 128)  0           conv3_block8_1_bn[0][0]          \n",
            "__________________________________________________________________________________________________\n",
            "conv3_block8_2_conv (Conv2D)    (None, 28, 28, 32)   36864       conv3_block8_1_relu[0][0]        \n",
            "__________________________________________________________________________________________________\n",
            "conv3_block8_concat (Concatenat (None, 28, 28, 384)  0           conv3_block7_concat[0][0]        \n",
            "                                                                 conv3_block8_2_conv[0][0]        \n",
            "__________________________________________________________________________________________________\n",
            "conv3_block9_0_bn (BatchNormali (None, 28, 28, 384)  1536        conv3_block8_concat[0][0]        \n",
            "__________________________________________________________________________________________________\n",
            "conv3_block9_0_relu (Activation (None, 28, 28, 384)  0           conv3_block9_0_bn[0][0]          \n",
            "__________________________________________________________________________________________________\n",
            "conv3_block9_1_conv (Conv2D)    (None, 28, 28, 128)  49152       conv3_block9_0_relu[0][0]        \n",
            "__________________________________________________________________________________________________\n",
            "conv3_block9_1_bn (BatchNormali (None, 28, 28, 128)  512         conv3_block9_1_conv[0][0]        \n",
            "__________________________________________________________________________________________________\n",
            "conv3_block9_1_relu (Activation (None, 28, 28, 128)  0           conv3_block9_1_bn[0][0]          \n",
            "__________________________________________________________________________________________________\n",
            "conv3_block9_2_conv (Conv2D)    (None, 28, 28, 32)   36864       conv3_block9_1_relu[0][0]        \n",
            "__________________________________________________________________________________________________\n",
            "conv3_block9_concat (Concatenat (None, 28, 28, 416)  0           conv3_block8_concat[0][0]        \n",
            "                                                                 conv3_block9_2_conv[0][0]        \n",
            "__________________________________________________________________________________________________\n",
            "conv3_block10_0_bn (BatchNormal (None, 28, 28, 416)  1664        conv3_block9_concat[0][0]        \n",
            "__________________________________________________________________________________________________\n",
            "conv3_block10_0_relu (Activatio (None, 28, 28, 416)  0           conv3_block10_0_bn[0][0]         \n",
            "__________________________________________________________________________________________________\n",
            "conv3_block10_1_conv (Conv2D)   (None, 28, 28, 128)  53248       conv3_block10_0_relu[0][0]       \n",
            "__________________________________________________________________________________________________\n",
            "conv3_block10_1_bn (BatchNormal (None, 28, 28, 128)  512         conv3_block10_1_conv[0][0]       \n",
            "__________________________________________________________________________________________________\n",
            "conv3_block10_1_relu (Activatio (None, 28, 28, 128)  0           conv3_block10_1_bn[0][0]         \n",
            "__________________________________________________________________________________________________\n",
            "conv3_block10_2_conv (Conv2D)   (None, 28, 28, 32)   36864       conv3_block10_1_relu[0][0]       \n",
            "__________________________________________________________________________________________________\n",
            "conv3_block10_concat (Concatena (None, 28, 28, 448)  0           conv3_block9_concat[0][0]        \n",
            "                                                                 conv3_block10_2_conv[0][0]       \n",
            "__________________________________________________________________________________________________\n",
            "conv3_block11_0_bn (BatchNormal (None, 28, 28, 448)  1792        conv3_block10_concat[0][0]       \n",
            "__________________________________________________________________________________________________\n",
            "conv3_block11_0_relu (Activatio (None, 28, 28, 448)  0           conv3_block11_0_bn[0][0]         \n",
            "__________________________________________________________________________________________________\n",
            "conv3_block11_1_conv (Conv2D)   (None, 28, 28, 128)  57344       conv3_block11_0_relu[0][0]       \n",
            "__________________________________________________________________________________________________\n",
            "conv3_block11_1_bn (BatchNormal (None, 28, 28, 128)  512         conv3_block11_1_conv[0][0]       \n",
            "__________________________________________________________________________________________________\n",
            "conv3_block11_1_relu (Activatio (None, 28, 28, 128)  0           conv3_block11_1_bn[0][0]         \n",
            "__________________________________________________________________________________________________\n",
            "conv3_block11_2_conv (Conv2D)   (None, 28, 28, 32)   36864       conv3_block11_1_relu[0][0]       \n",
            "__________________________________________________________________________________________________\n",
            "conv3_block11_concat (Concatena (None, 28, 28, 480)  0           conv3_block10_concat[0][0]       \n",
            "                                                                 conv3_block11_2_conv[0][0]       \n",
            "__________________________________________________________________________________________________\n",
            "conv3_block12_0_bn (BatchNormal (None, 28, 28, 480)  1920        conv3_block11_concat[0][0]       \n",
            "__________________________________________________________________________________________________\n",
            "conv3_block12_0_relu (Activatio (None, 28, 28, 480)  0           conv3_block12_0_bn[0][0]         \n",
            "__________________________________________________________________________________________________\n",
            "conv3_block12_1_conv (Conv2D)   (None, 28, 28, 128)  61440       conv3_block12_0_relu[0][0]       \n",
            "__________________________________________________________________________________________________\n",
            "conv3_block12_1_bn (BatchNormal (None, 28, 28, 128)  512         conv3_block12_1_conv[0][0]       \n",
            "__________________________________________________________________________________________________\n",
            "conv3_block12_1_relu (Activatio (None, 28, 28, 128)  0           conv3_block12_1_bn[0][0]         \n",
            "__________________________________________________________________________________________________\n",
            "conv3_block12_2_conv (Conv2D)   (None, 28, 28, 32)   36864       conv3_block12_1_relu[0][0]       \n",
            "__________________________________________________________________________________________________\n",
            "conv3_block12_concat (Concatena (None, 28, 28, 512)  0           conv3_block11_concat[0][0]       \n",
            "                                                                 conv3_block12_2_conv[0][0]       \n",
            "__________________________________________________________________________________________________\n",
            "pool3_bn (BatchNormalization)   (None, 28, 28, 512)  2048        conv3_block12_concat[0][0]       \n",
            "__________________________________________________________________________________________________\n",
            "pool3_relu (Activation)         (None, 28, 28, 512)  0           pool3_bn[0][0]                   \n",
            "__________________________________________________________________________________________________\n",
            "pool3_conv (Conv2D)             (None, 28, 28, 256)  131072      pool3_relu[0][0]                 \n",
            "__________________________________________________________________________________________________\n",
            "pool3_pool (AveragePooling2D)   (None, 14, 14, 256)  0           pool3_conv[0][0]                 \n",
            "__________________________________________________________________________________________________\n",
            "conv4_block1_0_bn (BatchNormali (None, 14, 14, 256)  1024        pool3_pool[0][0]                 \n",
            "__________________________________________________________________________________________________\n",
            "conv4_block1_0_relu (Activation (None, 14, 14, 256)  0           conv4_block1_0_bn[0][0]          \n",
            "__________________________________________________________________________________________________\n",
            "conv4_block1_1_conv (Conv2D)    (None, 14, 14, 128)  32768       conv4_block1_0_relu[0][0]        \n",
            "__________________________________________________________________________________________________\n",
            "conv4_block1_1_bn (BatchNormali (None, 14, 14, 128)  512         conv4_block1_1_conv[0][0]        \n",
            "__________________________________________________________________________________________________\n",
            "conv4_block1_1_relu (Activation (None, 14, 14, 128)  0           conv4_block1_1_bn[0][0]          \n",
            "__________________________________________________________________________________________________\n",
            "conv4_block1_2_conv (Conv2D)    (None, 14, 14, 32)   36864       conv4_block1_1_relu[0][0]        \n",
            "__________________________________________________________________________________________________\n",
            "conv4_block1_concat (Concatenat (None, 14, 14, 288)  0           pool3_pool[0][0]                 \n",
            "                                                                 conv4_block1_2_conv[0][0]        \n",
            "__________________________________________________________________________________________________\n",
            "conv4_block2_0_bn (BatchNormali (None, 14, 14, 288)  1152        conv4_block1_concat[0][0]        \n",
            "__________________________________________________________________________________________________\n",
            "conv4_block2_0_relu (Activation (None, 14, 14, 288)  0           conv4_block2_0_bn[0][0]          \n",
            "__________________________________________________________________________________________________\n",
            "conv4_block2_1_conv (Conv2D)    (None, 14, 14, 128)  36864       conv4_block2_0_relu[0][0]        \n",
            "__________________________________________________________________________________________________\n",
            "conv4_block2_1_bn (BatchNormali (None, 14, 14, 128)  512         conv4_block2_1_conv[0][0]        \n",
            "__________________________________________________________________________________________________\n",
            "conv4_block2_1_relu (Activation (None, 14, 14, 128)  0           conv4_block2_1_bn[0][0]          \n",
            "__________________________________________________________________________________________________\n",
            "conv4_block2_2_conv (Conv2D)    (None, 14, 14, 32)   36864       conv4_block2_1_relu[0][0]        \n",
            "__________________________________________________________________________________________________\n",
            "conv4_block2_concat (Concatenat (None, 14, 14, 320)  0           conv4_block1_concat[0][0]        \n",
            "                                                                 conv4_block2_2_conv[0][0]        \n",
            "__________________________________________________________________________________________________\n",
            "conv4_block3_0_bn (BatchNormali (None, 14, 14, 320)  1280        conv4_block2_concat[0][0]        \n",
            "__________________________________________________________________________________________________\n",
            "conv4_block3_0_relu (Activation (None, 14, 14, 320)  0           conv4_block3_0_bn[0][0]          \n",
            "__________________________________________________________________________________________________\n",
            "conv4_block3_1_conv (Conv2D)    (None, 14, 14, 128)  40960       conv4_block3_0_relu[0][0]        \n",
            "__________________________________________________________________________________________________\n",
            "conv4_block3_1_bn (BatchNormali (None, 14, 14, 128)  512         conv4_block3_1_conv[0][0]        \n",
            "__________________________________________________________________________________________________\n",
            "conv4_block3_1_relu (Activation (None, 14, 14, 128)  0           conv4_block3_1_bn[0][0]          \n",
            "__________________________________________________________________________________________________\n",
            "conv4_block3_2_conv (Conv2D)    (None, 14, 14, 32)   36864       conv4_block3_1_relu[0][0]        \n",
            "__________________________________________________________________________________________________\n",
            "conv4_block3_concat (Concatenat (None, 14, 14, 352)  0           conv4_block2_concat[0][0]        \n",
            "                                                                 conv4_block3_2_conv[0][0]        \n",
            "__________________________________________________________________________________________________\n",
            "conv4_block4_0_bn (BatchNormali (None, 14, 14, 352)  1408        conv4_block3_concat[0][0]        \n",
            "__________________________________________________________________________________________________\n",
            "conv4_block4_0_relu (Activation (None, 14, 14, 352)  0           conv4_block4_0_bn[0][0]          \n",
            "__________________________________________________________________________________________________\n",
            "conv4_block4_1_conv (Conv2D)    (None, 14, 14, 128)  45056       conv4_block4_0_relu[0][0]        \n",
            "__________________________________________________________________________________________________\n",
            "conv4_block4_1_bn (BatchNormali (None, 14, 14, 128)  512         conv4_block4_1_conv[0][0]        \n",
            "__________________________________________________________________________________________________\n",
            "conv4_block4_1_relu (Activation (None, 14, 14, 128)  0           conv4_block4_1_bn[0][0]          \n",
            "__________________________________________________________________________________________________\n",
            "conv4_block4_2_conv (Conv2D)    (None, 14, 14, 32)   36864       conv4_block4_1_relu[0][0]        \n",
            "__________________________________________________________________________________________________\n",
            "conv4_block4_concat (Concatenat (None, 14, 14, 384)  0           conv4_block3_concat[0][0]        \n",
            "                                                                 conv4_block4_2_conv[0][0]        \n",
            "__________________________________________________________________________________________________\n",
            "conv4_block5_0_bn (BatchNormali (None, 14, 14, 384)  1536        conv4_block4_concat[0][0]        \n",
            "__________________________________________________________________________________________________\n",
            "conv4_block5_0_relu (Activation (None, 14, 14, 384)  0           conv4_block5_0_bn[0][0]          \n",
            "__________________________________________________________________________________________________\n",
            "conv4_block5_1_conv (Conv2D)    (None, 14, 14, 128)  49152       conv4_block5_0_relu[0][0]        \n",
            "__________________________________________________________________________________________________\n",
            "conv4_block5_1_bn (BatchNormali (None, 14, 14, 128)  512         conv4_block5_1_conv[0][0]        \n",
            "__________________________________________________________________________________________________\n",
            "conv4_block5_1_relu (Activation (None, 14, 14, 128)  0           conv4_block5_1_bn[0][0]          \n",
            "__________________________________________________________________________________________________\n",
            "conv4_block5_2_conv (Conv2D)    (None, 14, 14, 32)   36864       conv4_block5_1_relu[0][0]        \n",
            "__________________________________________________________________________________________________\n",
            "conv4_block5_concat (Concatenat (None, 14, 14, 416)  0           conv4_block4_concat[0][0]        \n",
            "                                                                 conv4_block5_2_conv[0][0]        \n",
            "__________________________________________________________________________________________________\n",
            "conv4_block6_0_bn (BatchNormali (None, 14, 14, 416)  1664        conv4_block5_concat[0][0]        \n",
            "__________________________________________________________________________________________________\n",
            "conv4_block6_0_relu (Activation (None, 14, 14, 416)  0           conv4_block6_0_bn[0][0]          \n",
            "__________________________________________________________________________________________________\n",
            "conv4_block6_1_conv (Conv2D)    (None, 14, 14, 128)  53248       conv4_block6_0_relu[0][0]        \n",
            "__________________________________________________________________________________________________\n",
            "conv4_block6_1_bn (BatchNormali (None, 14, 14, 128)  512         conv4_block6_1_conv[0][0]        \n",
            "__________________________________________________________________________________________________\n",
            "conv4_block6_1_relu (Activation (None, 14, 14, 128)  0           conv4_block6_1_bn[0][0]          \n",
            "__________________________________________________________________________________________________\n",
            "conv4_block6_2_conv (Conv2D)    (None, 14, 14, 32)   36864       conv4_block6_1_relu[0][0]        \n",
            "__________________________________________________________________________________________________\n",
            "conv4_block6_concat (Concatenat (None, 14, 14, 448)  0           conv4_block5_concat[0][0]        \n",
            "                                                                 conv4_block6_2_conv[0][0]        \n",
            "__________________________________________________________________________________________________\n",
            "conv4_block7_0_bn (BatchNormali (None, 14, 14, 448)  1792        conv4_block6_concat[0][0]        \n",
            "__________________________________________________________________________________________________\n",
            "conv4_block7_0_relu (Activation (None, 14, 14, 448)  0           conv4_block7_0_bn[0][0]          \n",
            "__________________________________________________________________________________________________\n",
            "conv4_block7_1_conv (Conv2D)    (None, 14, 14, 128)  57344       conv4_block7_0_relu[0][0]        \n",
            "__________________________________________________________________________________________________\n",
            "conv4_block7_1_bn (BatchNormali (None, 14, 14, 128)  512         conv4_block7_1_conv[0][0]        \n",
            "__________________________________________________________________________________________________\n",
            "conv4_block7_1_relu (Activation (None, 14, 14, 128)  0           conv4_block7_1_bn[0][0]          \n",
            "__________________________________________________________________________________________________\n",
            "conv4_block7_2_conv (Conv2D)    (None, 14, 14, 32)   36864       conv4_block7_1_relu[0][0]        \n",
            "__________________________________________________________________________________________________\n",
            "conv4_block7_concat (Concatenat (None, 14, 14, 480)  0           conv4_block6_concat[0][0]        \n",
            "                                                                 conv4_block7_2_conv[0][0]        \n",
            "__________________________________________________________________________________________________\n",
            "conv4_block8_0_bn (BatchNormali (None, 14, 14, 480)  1920        conv4_block7_concat[0][0]        \n",
            "__________________________________________________________________________________________________\n",
            "conv4_block8_0_relu (Activation (None, 14, 14, 480)  0           conv4_block8_0_bn[0][0]          \n",
            "__________________________________________________________________________________________________\n",
            "conv4_block8_1_conv (Conv2D)    (None, 14, 14, 128)  61440       conv4_block8_0_relu[0][0]        \n",
            "__________________________________________________________________________________________________\n",
            "conv4_block8_1_bn (BatchNormali (None, 14, 14, 128)  512         conv4_block8_1_conv[0][0]        \n",
            "__________________________________________________________________________________________________\n",
            "conv4_block8_1_relu (Activation (None, 14, 14, 128)  0           conv4_block8_1_bn[0][0]          \n",
            "__________________________________________________________________________________________________\n",
            "conv4_block8_2_conv (Conv2D)    (None, 14, 14, 32)   36864       conv4_block8_1_relu[0][0]        \n",
            "__________________________________________________________________________________________________\n",
            "conv4_block8_concat (Concatenat (None, 14, 14, 512)  0           conv4_block7_concat[0][0]        \n",
            "                                                                 conv4_block8_2_conv[0][0]        \n",
            "__________________________________________________________________________________________________\n",
            "conv4_block9_0_bn (BatchNormali (None, 14, 14, 512)  2048        conv4_block8_concat[0][0]        \n",
            "__________________________________________________________________________________________________\n",
            "conv4_block9_0_relu (Activation (None, 14, 14, 512)  0           conv4_block9_0_bn[0][0]          \n",
            "__________________________________________________________________________________________________\n",
            "conv4_block9_1_conv (Conv2D)    (None, 14, 14, 128)  65536       conv4_block9_0_relu[0][0]        \n",
            "__________________________________________________________________________________________________\n",
            "conv4_block9_1_bn (BatchNormali (None, 14, 14, 128)  512         conv4_block9_1_conv[0][0]        \n",
            "__________________________________________________________________________________________________\n",
            "conv4_block9_1_relu (Activation (None, 14, 14, 128)  0           conv4_block9_1_bn[0][0]          \n",
            "__________________________________________________________________________________________________\n",
            "conv4_block9_2_conv (Conv2D)    (None, 14, 14, 32)   36864       conv4_block9_1_relu[0][0]        \n",
            "__________________________________________________________________________________________________\n",
            "conv4_block9_concat (Concatenat (None, 14, 14, 544)  0           conv4_block8_concat[0][0]        \n",
            "                                                                 conv4_block9_2_conv[0][0]        \n",
            "__________________________________________________________________________________________________\n",
            "conv4_block10_0_bn (BatchNormal (None, 14, 14, 544)  2176        conv4_block9_concat[0][0]        \n",
            "__________________________________________________________________________________________________\n",
            "conv4_block10_0_relu (Activatio (None, 14, 14, 544)  0           conv4_block10_0_bn[0][0]         \n",
            "__________________________________________________________________________________________________\n",
            "conv4_block10_1_conv (Conv2D)   (None, 14, 14, 128)  69632       conv4_block10_0_relu[0][0]       \n",
            "__________________________________________________________________________________________________\n",
            "conv4_block10_1_bn (BatchNormal (None, 14, 14, 128)  512         conv4_block10_1_conv[0][0]       \n",
            "__________________________________________________________________________________________________\n",
            "conv4_block10_1_relu (Activatio (None, 14, 14, 128)  0           conv4_block10_1_bn[0][0]         \n",
            "__________________________________________________________________________________________________\n",
            "conv4_block10_2_conv (Conv2D)   (None, 14, 14, 32)   36864       conv4_block10_1_relu[0][0]       \n",
            "__________________________________________________________________________________________________\n",
            "conv4_block10_concat (Concatena (None, 14, 14, 576)  0           conv4_block9_concat[0][0]        \n",
            "                                                                 conv4_block10_2_conv[0][0]       \n",
            "__________________________________________________________________________________________________\n",
            "conv4_block11_0_bn (BatchNormal (None, 14, 14, 576)  2304        conv4_block10_concat[0][0]       \n",
            "__________________________________________________________________________________________________\n",
            "conv4_block11_0_relu (Activatio (None, 14, 14, 576)  0           conv4_block11_0_bn[0][0]         \n",
            "__________________________________________________________________________________________________\n",
            "conv4_block11_1_conv (Conv2D)   (None, 14, 14, 128)  73728       conv4_block11_0_relu[0][0]       \n",
            "__________________________________________________________________________________________________\n",
            "conv4_block11_1_bn (BatchNormal (None, 14, 14, 128)  512         conv4_block11_1_conv[0][0]       \n",
            "__________________________________________________________________________________________________\n",
            "conv4_block11_1_relu (Activatio (None, 14, 14, 128)  0           conv4_block11_1_bn[0][0]         \n",
            "__________________________________________________________________________________________________\n",
            "conv4_block11_2_conv (Conv2D)   (None, 14, 14, 32)   36864       conv4_block11_1_relu[0][0]       \n",
            "__________________________________________________________________________________________________\n",
            "conv4_block11_concat (Concatena (None, 14, 14, 608)  0           conv4_block10_concat[0][0]       \n",
            "                                                                 conv4_block11_2_conv[0][0]       \n",
            "__________________________________________________________________________________________________\n",
            "conv4_block12_0_bn (BatchNormal (None, 14, 14, 608)  2432        conv4_block11_concat[0][0]       \n",
            "__________________________________________________________________________________________________\n",
            "conv4_block12_0_relu (Activatio (None, 14, 14, 608)  0           conv4_block12_0_bn[0][0]         \n",
            "__________________________________________________________________________________________________\n",
            "conv4_block12_1_conv (Conv2D)   (None, 14, 14, 128)  77824       conv4_block12_0_relu[0][0]       \n",
            "__________________________________________________________________________________________________\n",
            "conv4_block12_1_bn (BatchNormal (None, 14, 14, 128)  512         conv4_block12_1_conv[0][0]       \n",
            "__________________________________________________________________________________________________\n",
            "conv4_block12_1_relu (Activatio (None, 14, 14, 128)  0           conv4_block12_1_bn[0][0]         \n",
            "__________________________________________________________________________________________________\n",
            "conv4_block12_2_conv (Conv2D)   (None, 14, 14, 32)   36864       conv4_block12_1_relu[0][0]       \n",
            "__________________________________________________________________________________________________\n",
            "conv4_block12_concat (Concatena (None, 14, 14, 640)  0           conv4_block11_concat[0][0]       \n",
            "                                                                 conv4_block12_2_conv[0][0]       \n",
            "__________________________________________________________________________________________________\n",
            "conv4_block13_0_bn (BatchNormal (None, 14, 14, 640)  2560        conv4_block12_concat[0][0]       \n",
            "__________________________________________________________________________________________________\n",
            "conv4_block13_0_relu (Activatio (None, 14, 14, 640)  0           conv4_block13_0_bn[0][0]         \n",
            "__________________________________________________________________________________________________\n",
            "conv4_block13_1_conv (Conv2D)   (None, 14, 14, 128)  81920       conv4_block13_0_relu[0][0]       \n",
            "__________________________________________________________________________________________________\n",
            "conv4_block13_1_bn (BatchNormal (None, 14, 14, 128)  512         conv4_block13_1_conv[0][0]       \n",
            "__________________________________________________________________________________________________\n",
            "conv4_block13_1_relu (Activatio (None, 14, 14, 128)  0           conv4_block13_1_bn[0][0]         \n",
            "__________________________________________________________________________________________________\n",
            "conv4_block13_2_conv (Conv2D)   (None, 14, 14, 32)   36864       conv4_block13_1_relu[0][0]       \n",
            "__________________________________________________________________________________________________\n",
            "conv4_block13_concat (Concatena (None, 14, 14, 672)  0           conv4_block12_concat[0][0]       \n",
            "                                                                 conv4_block13_2_conv[0][0]       \n",
            "__________________________________________________________________________________________________\n",
            "conv4_block14_0_bn (BatchNormal (None, 14, 14, 672)  2688        conv4_block13_concat[0][0]       \n",
            "__________________________________________________________________________________________________\n",
            "conv4_block14_0_relu (Activatio (None, 14, 14, 672)  0           conv4_block14_0_bn[0][0]         \n",
            "__________________________________________________________________________________________________\n",
            "conv4_block14_1_conv (Conv2D)   (None, 14, 14, 128)  86016       conv4_block14_0_relu[0][0]       \n",
            "__________________________________________________________________________________________________\n",
            "conv4_block14_1_bn (BatchNormal (None, 14, 14, 128)  512         conv4_block14_1_conv[0][0]       \n",
            "__________________________________________________________________________________________________\n",
            "conv4_block14_1_relu (Activatio (None, 14, 14, 128)  0           conv4_block14_1_bn[0][0]         \n",
            "__________________________________________________________________________________________________\n",
            "conv4_block14_2_conv (Conv2D)   (None, 14, 14, 32)   36864       conv4_block14_1_relu[0][0]       \n",
            "__________________________________________________________________________________________________\n",
            "conv4_block14_concat (Concatena (None, 14, 14, 704)  0           conv4_block13_concat[0][0]       \n",
            "                                                                 conv4_block14_2_conv[0][0]       \n",
            "__________________________________________________________________________________________________\n",
            "conv4_block15_0_bn (BatchNormal (None, 14, 14, 704)  2816        conv4_block14_concat[0][0]       \n",
            "__________________________________________________________________________________________________\n",
            "conv4_block15_0_relu (Activatio (None, 14, 14, 704)  0           conv4_block15_0_bn[0][0]         \n",
            "__________________________________________________________________________________________________\n",
            "conv4_block15_1_conv (Conv2D)   (None, 14, 14, 128)  90112       conv4_block15_0_relu[0][0]       \n",
            "__________________________________________________________________________________________________\n",
            "conv4_block15_1_bn (BatchNormal (None, 14, 14, 128)  512         conv4_block15_1_conv[0][0]       \n",
            "__________________________________________________________________________________________________\n",
            "conv4_block15_1_relu (Activatio (None, 14, 14, 128)  0           conv4_block15_1_bn[0][0]         \n",
            "__________________________________________________________________________________________________\n",
            "conv4_block15_2_conv (Conv2D)   (None, 14, 14, 32)   36864       conv4_block15_1_relu[0][0]       \n",
            "__________________________________________________________________________________________________\n",
            "conv4_block15_concat (Concatena (None, 14, 14, 736)  0           conv4_block14_concat[0][0]       \n",
            "                                                                 conv4_block15_2_conv[0][0]       \n",
            "__________________________________________________________________________________________________\n",
            "conv4_block16_0_bn (BatchNormal (None, 14, 14, 736)  2944        conv4_block15_concat[0][0]       \n",
            "__________________________________________________________________________________________________\n",
            "conv4_block16_0_relu (Activatio (None, 14, 14, 736)  0           conv4_block16_0_bn[0][0]         \n",
            "__________________________________________________________________________________________________\n",
            "conv4_block16_1_conv (Conv2D)   (None, 14, 14, 128)  94208       conv4_block16_0_relu[0][0]       \n",
            "__________________________________________________________________________________________________\n",
            "conv4_block16_1_bn (BatchNormal (None, 14, 14, 128)  512         conv4_block16_1_conv[0][0]       \n",
            "__________________________________________________________________________________________________\n",
            "conv4_block16_1_relu (Activatio (None, 14, 14, 128)  0           conv4_block16_1_bn[0][0]         \n",
            "__________________________________________________________________________________________________\n",
            "conv4_block16_2_conv (Conv2D)   (None, 14, 14, 32)   36864       conv4_block16_1_relu[0][0]       \n",
            "__________________________________________________________________________________________________\n",
            "conv4_block16_concat (Concatena (None, 14, 14, 768)  0           conv4_block15_concat[0][0]       \n",
            "                                                                 conv4_block16_2_conv[0][0]       \n",
            "__________________________________________________________________________________________________\n",
            "conv4_block17_0_bn (BatchNormal (None, 14, 14, 768)  3072        conv4_block16_concat[0][0]       \n",
            "__________________________________________________________________________________________________\n",
            "conv4_block17_0_relu (Activatio (None, 14, 14, 768)  0           conv4_block17_0_bn[0][0]         \n",
            "__________________________________________________________________________________________________\n",
            "conv4_block17_1_conv (Conv2D)   (None, 14, 14, 128)  98304       conv4_block17_0_relu[0][0]       \n",
            "__________________________________________________________________________________________________\n",
            "conv4_block17_1_bn (BatchNormal (None, 14, 14, 128)  512         conv4_block17_1_conv[0][0]       \n",
            "__________________________________________________________________________________________________\n",
            "conv4_block17_1_relu (Activatio (None, 14, 14, 128)  0           conv4_block17_1_bn[0][0]         \n",
            "__________________________________________________________________________________________________\n",
            "conv4_block17_2_conv (Conv2D)   (None, 14, 14, 32)   36864       conv4_block17_1_relu[0][0]       \n",
            "__________________________________________________________________________________________________\n",
            "conv4_block17_concat (Concatena (None, 14, 14, 800)  0           conv4_block16_concat[0][0]       \n",
            "                                                                 conv4_block17_2_conv[0][0]       \n",
            "__________________________________________________________________________________________________\n",
            "conv4_block18_0_bn (BatchNormal (None, 14, 14, 800)  3200        conv4_block17_concat[0][0]       \n",
            "__________________________________________________________________________________________________\n",
            "conv4_block18_0_relu (Activatio (None, 14, 14, 800)  0           conv4_block18_0_bn[0][0]         \n",
            "__________________________________________________________________________________________________\n",
            "conv4_block18_1_conv (Conv2D)   (None, 14, 14, 128)  102400      conv4_block18_0_relu[0][0]       \n",
            "__________________________________________________________________________________________________\n",
            "conv4_block18_1_bn (BatchNormal (None, 14, 14, 128)  512         conv4_block18_1_conv[0][0]       \n",
            "__________________________________________________________________________________________________\n",
            "conv4_block18_1_relu (Activatio (None, 14, 14, 128)  0           conv4_block18_1_bn[0][0]         \n",
            "__________________________________________________________________________________________________\n",
            "conv4_block18_2_conv (Conv2D)   (None, 14, 14, 32)   36864       conv4_block18_1_relu[0][0]       \n",
            "__________________________________________________________________________________________________\n",
            "conv4_block18_concat (Concatena (None, 14, 14, 832)  0           conv4_block17_concat[0][0]       \n",
            "                                                                 conv4_block18_2_conv[0][0]       \n",
            "__________________________________________________________________________________________________\n",
            "conv4_block19_0_bn (BatchNormal (None, 14, 14, 832)  3328        conv4_block18_concat[0][0]       \n",
            "__________________________________________________________________________________________________\n",
            "conv4_block19_0_relu (Activatio (None, 14, 14, 832)  0           conv4_block19_0_bn[0][0]         \n",
            "__________________________________________________________________________________________________\n",
            "conv4_block19_1_conv (Conv2D)   (None, 14, 14, 128)  106496      conv4_block19_0_relu[0][0]       \n",
            "__________________________________________________________________________________________________\n",
            "conv4_block19_1_bn (BatchNormal (None, 14, 14, 128)  512         conv4_block19_1_conv[0][0]       \n",
            "__________________________________________________________________________________________________\n",
            "conv4_block19_1_relu (Activatio (None, 14, 14, 128)  0           conv4_block19_1_bn[0][0]         \n",
            "__________________________________________________________________________________________________\n",
            "conv4_block19_2_conv (Conv2D)   (None, 14, 14, 32)   36864       conv4_block19_1_relu[0][0]       \n",
            "__________________________________________________________________________________________________\n",
            "conv4_block19_concat (Concatena (None, 14, 14, 864)  0           conv4_block18_concat[0][0]       \n",
            "                                                                 conv4_block19_2_conv[0][0]       \n",
            "__________________________________________________________________________________________________\n",
            "conv4_block20_0_bn (BatchNormal (None, 14, 14, 864)  3456        conv4_block19_concat[0][0]       \n",
            "__________________________________________________________________________________________________\n",
            "conv4_block20_0_relu (Activatio (None, 14, 14, 864)  0           conv4_block20_0_bn[0][0]         \n",
            "__________________________________________________________________________________________________\n",
            "conv4_block20_1_conv (Conv2D)   (None, 14, 14, 128)  110592      conv4_block20_0_relu[0][0]       \n",
            "__________________________________________________________________________________________________\n",
            "conv4_block20_1_bn (BatchNormal (None, 14, 14, 128)  512         conv4_block20_1_conv[0][0]       \n",
            "__________________________________________________________________________________________________\n",
            "conv4_block20_1_relu (Activatio (None, 14, 14, 128)  0           conv4_block20_1_bn[0][0]         \n",
            "__________________________________________________________________________________________________\n",
            "conv4_block20_2_conv (Conv2D)   (None, 14, 14, 32)   36864       conv4_block20_1_relu[0][0]       \n",
            "__________________________________________________________________________________________________\n",
            "conv4_block20_concat (Concatena (None, 14, 14, 896)  0           conv4_block19_concat[0][0]       \n",
            "                                                                 conv4_block20_2_conv[0][0]       \n",
            "__________________________________________________________________________________________________\n",
            "conv4_block21_0_bn (BatchNormal (None, 14, 14, 896)  3584        conv4_block20_concat[0][0]       \n",
            "__________________________________________________________________________________________________\n",
            "conv4_block21_0_relu (Activatio (None, 14, 14, 896)  0           conv4_block21_0_bn[0][0]         \n",
            "__________________________________________________________________________________________________\n",
            "conv4_block21_1_conv (Conv2D)   (None, 14, 14, 128)  114688      conv4_block21_0_relu[0][0]       \n",
            "__________________________________________________________________________________________________\n",
            "conv4_block21_1_bn (BatchNormal (None, 14, 14, 128)  512         conv4_block21_1_conv[0][0]       \n",
            "__________________________________________________________________________________________________\n",
            "conv4_block21_1_relu (Activatio (None, 14, 14, 128)  0           conv4_block21_1_bn[0][0]         \n",
            "__________________________________________________________________________________________________\n",
            "conv4_block21_2_conv (Conv2D)   (None, 14, 14, 32)   36864       conv4_block21_1_relu[0][0]       \n",
            "__________________________________________________________________________________________________\n",
            "conv4_block21_concat (Concatena (None, 14, 14, 928)  0           conv4_block20_concat[0][0]       \n",
            "                                                                 conv4_block21_2_conv[0][0]       \n",
            "__________________________________________________________________________________________________\n",
            "conv4_block22_0_bn (BatchNormal (None, 14, 14, 928)  3712        conv4_block21_concat[0][0]       \n",
            "__________________________________________________________________________________________________\n",
            "conv4_block22_0_relu (Activatio (None, 14, 14, 928)  0           conv4_block22_0_bn[0][0]         \n",
            "__________________________________________________________________________________________________\n",
            "conv4_block22_1_conv (Conv2D)   (None, 14, 14, 128)  118784      conv4_block22_0_relu[0][0]       \n",
            "__________________________________________________________________________________________________\n",
            "conv4_block22_1_bn (BatchNormal (None, 14, 14, 128)  512         conv4_block22_1_conv[0][0]       \n",
            "__________________________________________________________________________________________________\n",
            "conv4_block22_1_relu (Activatio (None, 14, 14, 128)  0           conv4_block22_1_bn[0][0]         \n",
            "__________________________________________________________________________________________________\n",
            "conv4_block22_2_conv (Conv2D)   (None, 14, 14, 32)   36864       conv4_block22_1_relu[0][0]       \n",
            "__________________________________________________________________________________________________\n",
            "conv4_block22_concat (Concatena (None, 14, 14, 960)  0           conv4_block21_concat[0][0]       \n",
            "                                                                 conv4_block22_2_conv[0][0]       \n",
            "__________________________________________________________________________________________________\n",
            "conv4_block23_0_bn (BatchNormal (None, 14, 14, 960)  3840        conv4_block22_concat[0][0]       \n",
            "__________________________________________________________________________________________________\n",
            "conv4_block23_0_relu (Activatio (None, 14, 14, 960)  0           conv4_block23_0_bn[0][0]         \n",
            "__________________________________________________________________________________________________\n",
            "conv4_block23_1_conv (Conv2D)   (None, 14, 14, 128)  122880      conv4_block23_0_relu[0][0]       \n",
            "__________________________________________________________________________________________________\n",
            "conv4_block23_1_bn (BatchNormal (None, 14, 14, 128)  512         conv4_block23_1_conv[0][0]       \n",
            "__________________________________________________________________________________________________\n",
            "conv4_block23_1_relu (Activatio (None, 14, 14, 128)  0           conv4_block23_1_bn[0][0]         \n",
            "__________________________________________________________________________________________________\n",
            "conv4_block23_2_conv (Conv2D)   (None, 14, 14, 32)   36864       conv4_block23_1_relu[0][0]       \n",
            "__________________________________________________________________________________________________\n",
            "conv4_block23_concat (Concatena (None, 14, 14, 992)  0           conv4_block22_concat[0][0]       \n",
            "                                                                 conv4_block23_2_conv[0][0]       \n",
            "__________________________________________________________________________________________________\n",
            "conv4_block24_0_bn (BatchNormal (None, 14, 14, 992)  3968        conv4_block23_concat[0][0]       \n",
            "__________________________________________________________________________________________________\n",
            "conv4_block24_0_relu (Activatio (None, 14, 14, 992)  0           conv4_block24_0_bn[0][0]         \n",
            "__________________________________________________________________________________________________\n",
            "conv4_block24_1_conv (Conv2D)   (None, 14, 14, 128)  126976      conv4_block24_0_relu[0][0]       \n",
            "__________________________________________________________________________________________________\n",
            "conv4_block24_1_bn (BatchNormal (None, 14, 14, 128)  512         conv4_block24_1_conv[0][0]       \n",
            "__________________________________________________________________________________________________\n",
            "conv4_block24_1_relu (Activatio (None, 14, 14, 128)  0           conv4_block24_1_bn[0][0]         \n",
            "__________________________________________________________________________________________________\n",
            "conv4_block24_2_conv (Conv2D)   (None, 14, 14, 32)   36864       conv4_block24_1_relu[0][0]       \n",
            "__________________________________________________________________________________________________\n",
            "conv4_block24_concat (Concatena (None, 14, 14, 1024) 0           conv4_block23_concat[0][0]       \n",
            "                                                                 conv4_block24_2_conv[0][0]       \n",
            "__________________________________________________________________________________________________\n",
            "pool4_bn (BatchNormalization)   (None, 14, 14, 1024) 4096        conv4_block24_concat[0][0]       \n",
            "__________________________________________________________________________________________________\n",
            "pool4_relu (Activation)         (None, 14, 14, 1024) 0           pool4_bn[0][0]                   \n",
            "__________________________________________________________________________________________________\n",
            "pool4_conv (Conv2D)             (None, 14, 14, 512)  524288      pool4_relu[0][0]                 \n",
            "__________________________________________________________________________________________________\n",
            "pool4_pool (AveragePooling2D)   (None, 7, 7, 512)    0           pool4_conv[0][0]                 \n",
            "__________________________________________________________________________________________________\n",
            "conv5_block1_0_bn (BatchNormali (None, 7, 7, 512)    2048        pool4_pool[0][0]                 \n",
            "__________________________________________________________________________________________________\n",
            "conv5_block1_0_relu (Activation (None, 7, 7, 512)    0           conv5_block1_0_bn[0][0]          \n",
            "__________________________________________________________________________________________________\n",
            "conv5_block1_1_conv (Conv2D)    (None, 7, 7, 128)    65536       conv5_block1_0_relu[0][0]        \n",
            "__________________________________________________________________________________________________\n",
            "conv5_block1_1_bn (BatchNormali (None, 7, 7, 128)    512         conv5_block1_1_conv[0][0]        \n",
            "__________________________________________________________________________________________________\n",
            "conv5_block1_1_relu (Activation (None, 7, 7, 128)    0           conv5_block1_1_bn[0][0]          \n",
            "__________________________________________________________________________________________________\n",
            "conv5_block1_2_conv (Conv2D)    (None, 7, 7, 32)     36864       conv5_block1_1_relu[0][0]        \n",
            "__________________________________________________________________________________________________\n",
            "conv5_block1_concat (Concatenat (None, 7, 7, 544)    0           pool4_pool[0][0]                 \n",
            "                                                                 conv5_block1_2_conv[0][0]        \n",
            "__________________________________________________________________________________________________\n",
            "conv5_block2_0_bn (BatchNormali (None, 7, 7, 544)    2176        conv5_block1_concat[0][0]        \n",
            "__________________________________________________________________________________________________\n",
            "conv5_block2_0_relu (Activation (None, 7, 7, 544)    0           conv5_block2_0_bn[0][0]          \n",
            "__________________________________________________________________________________________________\n",
            "conv5_block2_1_conv (Conv2D)    (None, 7, 7, 128)    69632       conv5_block2_0_relu[0][0]        \n",
            "__________________________________________________________________________________________________\n",
            "conv5_block2_1_bn (BatchNormali (None, 7, 7, 128)    512         conv5_block2_1_conv[0][0]        \n",
            "__________________________________________________________________________________________________\n",
            "conv5_block2_1_relu (Activation (None, 7, 7, 128)    0           conv5_block2_1_bn[0][0]          \n",
            "__________________________________________________________________________________________________\n",
            "conv5_block2_2_conv (Conv2D)    (None, 7, 7, 32)     36864       conv5_block2_1_relu[0][0]        \n",
            "__________________________________________________________________________________________________\n",
            "conv5_block2_concat (Concatenat (None, 7, 7, 576)    0           conv5_block1_concat[0][0]        \n",
            "                                                                 conv5_block2_2_conv[0][0]        \n",
            "__________________________________________________________________________________________________\n",
            "conv5_block3_0_bn (BatchNormali (None, 7, 7, 576)    2304        conv5_block2_concat[0][0]        \n",
            "__________________________________________________________________________________________________\n",
            "conv5_block3_0_relu (Activation (None, 7, 7, 576)    0           conv5_block3_0_bn[0][0]          \n",
            "__________________________________________________________________________________________________\n",
            "conv5_block3_1_conv (Conv2D)    (None, 7, 7, 128)    73728       conv5_block3_0_relu[0][0]        \n",
            "__________________________________________________________________________________________________\n",
            "conv5_block3_1_bn (BatchNormali (None, 7, 7, 128)    512         conv5_block3_1_conv[0][0]        \n",
            "__________________________________________________________________________________________________\n",
            "conv5_block3_1_relu (Activation (None, 7, 7, 128)    0           conv5_block3_1_bn[0][0]          \n",
            "__________________________________________________________________________________________________\n",
            "conv5_block3_2_conv (Conv2D)    (None, 7, 7, 32)     36864       conv5_block3_1_relu[0][0]        \n",
            "__________________________________________________________________________________________________\n",
            "conv5_block3_concat (Concatenat (None, 7, 7, 608)    0           conv5_block2_concat[0][0]        \n",
            "                                                                 conv5_block3_2_conv[0][0]        \n",
            "__________________________________________________________________________________________________\n",
            "conv5_block4_0_bn (BatchNormali (None, 7, 7, 608)    2432        conv5_block3_concat[0][0]        \n",
            "__________________________________________________________________________________________________\n",
            "conv5_block4_0_relu (Activation (None, 7, 7, 608)    0           conv5_block4_0_bn[0][0]          \n",
            "__________________________________________________________________________________________________\n",
            "conv5_block4_1_conv (Conv2D)    (None, 7, 7, 128)    77824       conv5_block4_0_relu[0][0]        \n",
            "__________________________________________________________________________________________________\n",
            "conv5_block4_1_bn (BatchNormali (None, 7, 7, 128)    512         conv5_block4_1_conv[0][0]        \n",
            "__________________________________________________________________________________________________\n",
            "conv5_block4_1_relu (Activation (None, 7, 7, 128)    0           conv5_block4_1_bn[0][0]          \n",
            "__________________________________________________________________________________________________\n",
            "conv5_block4_2_conv (Conv2D)    (None, 7, 7, 32)     36864       conv5_block4_1_relu[0][0]        \n",
            "__________________________________________________________________________________________________\n",
            "conv5_block4_concat (Concatenat (None, 7, 7, 640)    0           conv5_block3_concat[0][0]        \n",
            "                                                                 conv5_block4_2_conv[0][0]        \n",
            "__________________________________________________________________________________________________\n",
            "conv5_block5_0_bn (BatchNormali (None, 7, 7, 640)    2560        conv5_block4_concat[0][0]        \n",
            "__________________________________________________________________________________________________\n",
            "conv5_block5_0_relu (Activation (None, 7, 7, 640)    0           conv5_block5_0_bn[0][0]          \n",
            "__________________________________________________________________________________________________\n",
            "conv5_block5_1_conv (Conv2D)    (None, 7, 7, 128)    81920       conv5_block5_0_relu[0][0]        \n",
            "__________________________________________________________________________________________________\n",
            "conv5_block5_1_bn (BatchNormali (None, 7, 7, 128)    512         conv5_block5_1_conv[0][0]        \n",
            "__________________________________________________________________________________________________\n",
            "conv5_block5_1_relu (Activation (None, 7, 7, 128)    0           conv5_block5_1_bn[0][0]          \n",
            "__________________________________________________________________________________________________\n",
            "conv5_block5_2_conv (Conv2D)    (None, 7, 7, 32)     36864       conv5_block5_1_relu[0][0]        \n",
            "__________________________________________________________________________________________________\n",
            "conv5_block5_concat (Concatenat (None, 7, 7, 672)    0           conv5_block4_concat[0][0]        \n",
            "                                                                 conv5_block5_2_conv[0][0]        \n",
            "__________________________________________________________________________________________________\n",
            "conv5_block6_0_bn (BatchNormali (None, 7, 7, 672)    2688        conv5_block5_concat[0][0]        \n",
            "__________________________________________________________________________________________________\n",
            "conv5_block6_0_relu (Activation (None, 7, 7, 672)    0           conv5_block6_0_bn[0][0]          \n",
            "__________________________________________________________________________________________________\n",
            "conv5_block6_1_conv (Conv2D)    (None, 7, 7, 128)    86016       conv5_block6_0_relu[0][0]        \n",
            "__________________________________________________________________________________________________\n",
            "conv5_block6_1_bn (BatchNormali (None, 7, 7, 128)    512         conv5_block6_1_conv[0][0]        \n",
            "__________________________________________________________________________________________________\n",
            "conv5_block6_1_relu (Activation (None, 7, 7, 128)    0           conv5_block6_1_bn[0][0]          \n",
            "__________________________________________________________________________________________________\n",
            "conv5_block6_2_conv (Conv2D)    (None, 7, 7, 32)     36864       conv5_block6_1_relu[0][0]        \n",
            "__________________________________________________________________________________________________\n",
            "conv5_block6_concat (Concatenat (None, 7, 7, 704)    0           conv5_block5_concat[0][0]        \n",
            "                                                                 conv5_block6_2_conv[0][0]        \n",
            "__________________________________________________________________________________________________\n",
            "conv5_block7_0_bn (BatchNormali (None, 7, 7, 704)    2816        conv5_block6_concat[0][0]        \n",
            "__________________________________________________________________________________________________\n",
            "conv5_block7_0_relu (Activation (None, 7, 7, 704)    0           conv5_block7_0_bn[0][0]          \n",
            "__________________________________________________________________________________________________\n",
            "conv5_block7_1_conv (Conv2D)    (None, 7, 7, 128)    90112       conv5_block7_0_relu[0][0]        \n",
            "__________________________________________________________________________________________________\n",
            "conv5_block7_1_bn (BatchNormali (None, 7, 7, 128)    512         conv5_block7_1_conv[0][0]        \n",
            "__________________________________________________________________________________________________\n",
            "conv5_block7_1_relu (Activation (None, 7, 7, 128)    0           conv5_block7_1_bn[0][0]          \n",
            "__________________________________________________________________________________________________\n",
            "conv5_block7_2_conv (Conv2D)    (None, 7, 7, 32)     36864       conv5_block7_1_relu[0][0]        \n",
            "__________________________________________________________________________________________________\n",
            "conv5_block7_concat (Concatenat (None, 7, 7, 736)    0           conv5_block6_concat[0][0]        \n",
            "                                                                 conv5_block7_2_conv[0][0]        \n",
            "__________________________________________________________________________________________________\n",
            "conv5_block8_0_bn (BatchNormali (None, 7, 7, 736)    2944        conv5_block7_concat[0][0]        \n",
            "__________________________________________________________________________________________________\n",
            "conv5_block8_0_relu (Activation (None, 7, 7, 736)    0           conv5_block8_0_bn[0][0]          \n",
            "__________________________________________________________________________________________________\n",
            "conv5_block8_1_conv (Conv2D)    (None, 7, 7, 128)    94208       conv5_block8_0_relu[0][0]        \n",
            "__________________________________________________________________________________________________\n",
            "conv5_block8_1_bn (BatchNormali (None, 7, 7, 128)    512         conv5_block8_1_conv[0][0]        \n",
            "__________________________________________________________________________________________________\n",
            "conv5_block8_1_relu (Activation (None, 7, 7, 128)    0           conv5_block8_1_bn[0][0]          \n",
            "__________________________________________________________________________________________________\n",
            "conv5_block8_2_conv (Conv2D)    (None, 7, 7, 32)     36864       conv5_block8_1_relu[0][0]        \n",
            "__________________________________________________________________________________________________\n",
            "conv5_block8_concat (Concatenat (None, 7, 7, 768)    0           conv5_block7_concat[0][0]        \n",
            "                                                                 conv5_block8_2_conv[0][0]        \n",
            "__________________________________________________________________________________________________\n",
            "conv5_block9_0_bn (BatchNormali (None, 7, 7, 768)    3072        conv5_block8_concat[0][0]        \n",
            "__________________________________________________________________________________________________\n",
            "conv5_block9_0_relu (Activation (None, 7, 7, 768)    0           conv5_block9_0_bn[0][0]          \n",
            "__________________________________________________________________________________________________\n",
            "conv5_block9_1_conv (Conv2D)    (None, 7, 7, 128)    98304       conv5_block9_0_relu[0][0]        \n",
            "__________________________________________________________________________________________________\n",
            "conv5_block9_1_bn (BatchNormali (None, 7, 7, 128)    512         conv5_block9_1_conv[0][0]        \n",
            "__________________________________________________________________________________________________\n",
            "conv5_block9_1_relu (Activation (None, 7, 7, 128)    0           conv5_block9_1_bn[0][0]          \n",
            "__________________________________________________________________________________________________\n",
            "conv5_block9_2_conv (Conv2D)    (None, 7, 7, 32)     36864       conv5_block9_1_relu[0][0]        \n",
            "__________________________________________________________________________________________________\n",
            "conv5_block9_concat (Concatenat (None, 7, 7, 800)    0           conv5_block8_concat[0][0]        \n",
            "                                                                 conv5_block9_2_conv[0][0]        \n",
            "__________________________________________________________________________________________________\n",
            "conv5_block10_0_bn (BatchNormal (None, 7, 7, 800)    3200        conv5_block9_concat[0][0]        \n",
            "__________________________________________________________________________________________________\n",
            "conv5_block10_0_relu (Activatio (None, 7, 7, 800)    0           conv5_block10_0_bn[0][0]         \n",
            "__________________________________________________________________________________________________\n",
            "conv5_block10_1_conv (Conv2D)   (None, 7, 7, 128)    102400      conv5_block10_0_relu[0][0]       \n",
            "__________________________________________________________________________________________________\n",
            "conv5_block10_1_bn (BatchNormal (None, 7, 7, 128)    512         conv5_block10_1_conv[0][0]       \n",
            "__________________________________________________________________________________________________\n",
            "conv5_block10_1_relu (Activatio (None, 7, 7, 128)    0           conv5_block10_1_bn[0][0]         \n",
            "__________________________________________________________________________________________________\n",
            "conv5_block10_2_conv (Conv2D)   (None, 7, 7, 32)     36864       conv5_block10_1_relu[0][0]       \n",
            "__________________________________________________________________________________________________\n",
            "conv5_block10_concat (Concatena (None, 7, 7, 832)    0           conv5_block9_concat[0][0]        \n",
            "                                                                 conv5_block10_2_conv[0][0]       \n",
            "__________________________________________________________________________________________________\n",
            "conv5_block11_0_bn (BatchNormal (None, 7, 7, 832)    3328        conv5_block10_concat[0][0]       \n",
            "__________________________________________________________________________________________________\n",
            "conv5_block11_0_relu (Activatio (None, 7, 7, 832)    0           conv5_block11_0_bn[0][0]         \n",
            "__________________________________________________________________________________________________\n",
            "conv5_block11_1_conv (Conv2D)   (None, 7, 7, 128)    106496      conv5_block11_0_relu[0][0]       \n",
            "__________________________________________________________________________________________________\n",
            "conv5_block11_1_bn (BatchNormal (None, 7, 7, 128)    512         conv5_block11_1_conv[0][0]       \n",
            "__________________________________________________________________________________________________\n",
            "conv5_block11_1_relu (Activatio (None, 7, 7, 128)    0           conv5_block11_1_bn[0][0]         \n",
            "__________________________________________________________________________________________________\n",
            "conv5_block11_2_conv (Conv2D)   (None, 7, 7, 32)     36864       conv5_block11_1_relu[0][0]       \n",
            "__________________________________________________________________________________________________\n",
            "conv5_block11_concat (Concatena (None, 7, 7, 864)    0           conv5_block10_concat[0][0]       \n",
            "                                                                 conv5_block11_2_conv[0][0]       \n",
            "__________________________________________________________________________________________________\n",
            "conv5_block12_0_bn (BatchNormal (None, 7, 7, 864)    3456        conv5_block11_concat[0][0]       \n",
            "__________________________________________________________________________________________________\n",
            "conv5_block12_0_relu (Activatio (None, 7, 7, 864)    0           conv5_block12_0_bn[0][0]         \n",
            "__________________________________________________________________________________________________\n",
            "conv5_block12_1_conv (Conv2D)   (None, 7, 7, 128)    110592      conv5_block12_0_relu[0][0]       \n",
            "__________________________________________________________________________________________________\n",
            "conv5_block12_1_bn (BatchNormal (None, 7, 7, 128)    512         conv5_block12_1_conv[0][0]       \n",
            "__________________________________________________________________________________________________\n",
            "conv5_block12_1_relu (Activatio (None, 7, 7, 128)    0           conv5_block12_1_bn[0][0]         \n",
            "__________________________________________________________________________________________________\n",
            "conv5_block12_2_conv (Conv2D)   (None, 7, 7, 32)     36864       conv5_block12_1_relu[0][0]       \n",
            "__________________________________________________________________________________________________\n",
            "conv5_block12_concat (Concatena (None, 7, 7, 896)    0           conv5_block11_concat[0][0]       \n",
            "                                                                 conv5_block12_2_conv[0][0]       \n",
            "__________________________________________________________________________________________________\n",
            "conv5_block13_0_bn (BatchNormal (None, 7, 7, 896)    3584        conv5_block12_concat[0][0]       \n",
            "__________________________________________________________________________________________________\n",
            "conv5_block13_0_relu (Activatio (None, 7, 7, 896)    0           conv5_block13_0_bn[0][0]         \n",
            "__________________________________________________________________________________________________\n",
            "conv5_block13_1_conv (Conv2D)   (None, 7, 7, 128)    114688      conv5_block13_0_relu[0][0]       \n",
            "__________________________________________________________________________________________________\n",
            "conv5_block13_1_bn (BatchNormal (None, 7, 7, 128)    512         conv5_block13_1_conv[0][0]       \n",
            "__________________________________________________________________________________________________\n",
            "conv5_block13_1_relu (Activatio (None, 7, 7, 128)    0           conv5_block13_1_bn[0][0]         \n",
            "__________________________________________________________________________________________________\n",
            "conv5_block13_2_conv (Conv2D)   (None, 7, 7, 32)     36864       conv5_block13_1_relu[0][0]       \n",
            "__________________________________________________________________________________________________\n",
            "conv5_block13_concat (Concatena (None, 7, 7, 928)    0           conv5_block12_concat[0][0]       \n",
            "                                                                 conv5_block13_2_conv[0][0]       \n",
            "__________________________________________________________________________________________________\n",
            "conv5_block14_0_bn (BatchNormal (None, 7, 7, 928)    3712        conv5_block13_concat[0][0]       \n",
            "__________________________________________________________________________________________________\n",
            "conv5_block14_0_relu (Activatio (None, 7, 7, 928)    0           conv5_block14_0_bn[0][0]         \n",
            "__________________________________________________________________________________________________\n",
            "conv5_block14_1_conv (Conv2D)   (None, 7, 7, 128)    118784      conv5_block14_0_relu[0][0]       \n",
            "__________________________________________________________________________________________________\n",
            "conv5_block14_1_bn (BatchNormal (None, 7, 7, 128)    512         conv5_block14_1_conv[0][0]       \n",
            "__________________________________________________________________________________________________\n",
            "conv5_block14_1_relu (Activatio (None, 7, 7, 128)    0           conv5_block14_1_bn[0][0]         \n",
            "__________________________________________________________________________________________________\n",
            "conv5_block14_2_conv (Conv2D)   (None, 7, 7, 32)     36864       conv5_block14_1_relu[0][0]       \n",
            "__________________________________________________________________________________________________\n",
            "conv5_block14_concat (Concatena (None, 7, 7, 960)    0           conv5_block13_concat[0][0]       \n",
            "                                                                 conv5_block14_2_conv[0][0]       \n",
            "__________________________________________________________________________________________________\n",
            "conv5_block15_0_bn (BatchNormal (None, 7, 7, 960)    3840        conv5_block14_concat[0][0]       \n",
            "__________________________________________________________________________________________________\n",
            "conv5_block15_0_relu (Activatio (None, 7, 7, 960)    0           conv5_block15_0_bn[0][0]         \n",
            "__________________________________________________________________________________________________\n",
            "conv5_block15_1_conv (Conv2D)   (None, 7, 7, 128)    122880      conv5_block15_0_relu[0][0]       \n",
            "__________________________________________________________________________________________________\n",
            "conv5_block15_1_bn (BatchNormal (None, 7, 7, 128)    512         conv5_block15_1_conv[0][0]       \n",
            "__________________________________________________________________________________________________\n",
            "conv5_block15_1_relu (Activatio (None, 7, 7, 128)    0           conv5_block15_1_bn[0][0]         \n",
            "__________________________________________________________________________________________________\n",
            "conv5_block15_2_conv (Conv2D)   (None, 7, 7, 32)     36864       conv5_block15_1_relu[0][0]       \n",
            "__________________________________________________________________________________________________\n",
            "conv5_block15_concat (Concatena (None, 7, 7, 992)    0           conv5_block14_concat[0][0]       \n",
            "                                                                 conv5_block15_2_conv[0][0]       \n",
            "__________________________________________________________________________________________________\n",
            "conv5_block16_0_bn (BatchNormal (None, 7, 7, 992)    3968        conv5_block15_concat[0][0]       \n",
            "__________________________________________________________________________________________________\n",
            "conv5_block16_0_relu (Activatio (None, 7, 7, 992)    0           conv5_block16_0_bn[0][0]         \n",
            "__________________________________________________________________________________________________\n",
            "conv5_block16_1_conv (Conv2D)   (None, 7, 7, 128)    126976      conv5_block16_0_relu[0][0]       \n",
            "__________________________________________________________________________________________________\n",
            "conv5_block16_1_bn (BatchNormal (None, 7, 7, 128)    512         conv5_block16_1_conv[0][0]       \n",
            "__________________________________________________________________________________________________\n",
            "conv5_block16_1_relu (Activatio (None, 7, 7, 128)    0           conv5_block16_1_bn[0][0]         \n",
            "__________________________________________________________________________________________________\n",
            "conv5_block16_2_conv (Conv2D)   (None, 7, 7, 32)     36864       conv5_block16_1_relu[0][0]       \n",
            "__________________________________________________________________________________________________\n",
            "conv5_block16_concat (Concatena (None, 7, 7, 1024)   0           conv5_block15_concat[0][0]       \n",
            "                                                                 conv5_block16_2_conv[0][0]       \n",
            "__________________________________________________________________________________________________\n",
            "bn (BatchNormalization)         (None, 7, 7, 1024)   4096        conv5_block16_concat[0][0]       \n",
            "__________________________________________________________________________________________________\n",
            "relu (Activation)               (None, 7, 7, 1024)   0           bn[0][0]                         \n",
            "__________________________________________________________________________________________________\n",
            "avg_pool (GlobalAveragePooling2 (None, 1024)         0           relu[0][0]                       \n",
            "__________________________________________________________________________________________________\n",
            "flatten (Flatten)               (None, 1024)         0           avg_pool[0][0]                   \n",
            "__________________________________________________________________________________________________\n",
            "dense (Dense)                   (None, 10024)        10274600    flatten[0][0]                    \n",
            "__________________________________________________________________________________________________\n",
            "dense_1 (Dense)                 (None, 6024)         60390600    dense[0][0]                      \n",
            "__________________________________________________________________________________________________\n",
            "dense_2 (Dense)                 (None, 4024)         24244600    dense_1[0][0]                    \n",
            "__________________________________________________________________________________________________\n",
            "dense_3 (Dense)                 (None, 2024)         8146600     dense_2[0][0]                    \n",
            "__________________________________________________________________________________________________\n",
            "dense_4 (Dense)                 (None, 1200)         2430000     dense_3[0][0]                    \n",
            "__________________________________________________________________________________________________\n",
            "dense_5 (Dense)                 (None, 15)           18015       dense_4[0][0]                    \n",
            "==================================================================================================\n",
            "Total params: 112,541,919\n",
            "Trainable params: 105,504,415\n",
            "Non-trainable params: 7,037,504\n",
            "__________________________________________________________________________________________________\n"
          ],
          "name": "stdout"
        }
      ]
    },
    {
      "cell_type": "code",
      "metadata": {
        "id": "z0pRIDtQcrcl"
      },
      "source": [
        "#Toying with increasing batch size to max useable rather than decreasing learning rate\n",
        "#learning_rate_reduction = ReduceLROnPlateau(monitor='val_loss', patience = 1, verbose=1,factor=0.3, min_lr=0.000001)\n",
        "epoch = 10\n",
        "cnn_path = '/content/gdrive/MyDrive/cnn_weights/multilabel_transfer/'\n",
        "\n",
        "#save the model weights in case they improve\n",
        "model_checkpoint_callback = ModelCheckpoint(\n",
        "    filepath = cnn_path,\n",
        "    save_weights_only=True,\n",
        "    monitor='val_accuracy',\n",
        "    mode='max',\n",
        "    save_best_only=True)"
      ],
      "execution_count": null,
      "outputs": []
    },
    {
      "cell_type": "code",
      "metadata": {
        "id": "7Zjt9tM36ZOL",
        "colab": {
          "base_uri": "https://localhost:8080/"
        },
        "outputId": "0ca640e3-221e-4aaa-dd00-ff84b4121b90"
      },
      "source": [
        "model.load_weights(cnn_path) #--> will load in the model weights after you have made some\n",
        "\n",
        "history = model.fit(training, steps_per_epoch = step_train, \n",
        "                    validation_data = test, \n",
        "                     validation_steps= step_test, epochs = epoch, callbacks = model_checkpoint_callback)"
      ],
      "execution_count": null,
      "outputs": [
        {
          "output_type": "stream",
          "text": [
            "Epoch 1/10\n",
            "269/269 [==============================] - 11114s 41s/step - loss: 0.2338 - accuracy: 0.5195 - val_loss: 0.2129 - val_accuracy: 0.5382\n",
            "Epoch 2/10\n",
            "269/269 [==============================] - 396s 1s/step - loss: 0.2082 - accuracy: 0.5168 - val_loss: 0.2060 - val_accuracy: 0.5380\n",
            "Epoch 3/10\n",
            "269/269 [==============================] - 339s 1s/step - loss: 0.2072 - accuracy: 0.5167 - val_loss: 0.2051 - val_accuracy: 0.5196\n",
            "Epoch 4/10\n",
            "269/269 [==============================] - 334s 1s/step - loss: 0.2056 - accuracy: 0.5164 - val_loss: 0.2072 - val_accuracy: 0.5364\n",
            "Epoch 5/10\n",
            "269/269 [==============================] - 334s 1s/step - loss: 0.2052 - accuracy: 0.5174 - val_loss: 0.2025 - val_accuracy: 0.5299\n",
            "Epoch 6/10\n",
            "269/269 [==============================] - 328s 1s/step - loss: 0.2040 - accuracy: 0.5184 - val_loss: 0.2021 - val_accuracy: 0.5173\n",
            "Epoch 7/10\n",
            "269/269 [==============================] - 326s 1s/step - loss: 0.2037 - accuracy: 0.5184 - val_loss: 0.2023 - val_accuracy: 0.5140\n",
            "Epoch 8/10\n",
            "269/269 [==============================] - 322s 1s/step - loss: 0.2029 - accuracy: 0.5187 - val_loss: 0.2017 - val_accuracy: 0.5107\n",
            "Epoch 9/10\n",
            "269/269 [==============================] - 326s 1s/step - loss: 0.2028 - accuracy: 0.5158 - val_loss: 0.2009 - val_accuracy: 0.5350\n",
            "Epoch 10/10\n",
            "269/269 [==============================] - 326s 1s/step - loss: 0.2021 - accuracy: 0.5175 - val_loss: 0.2006 - val_accuracy: 0.5380\n"
          ],
          "name": "stdout"
        }
      ]
    },
    {
      "cell_type": "markdown",
      "metadata": {
        "id": "wB9XGUjERX0n"
      },
      "source": [
        "## Model Performance\n",
        "---\n",
        "\n",
        "VGG 16\n",
        "- imagenet weights (coded rbg)\n",
        "- 3 dense layers (412, 412, 250)\n",
        "- 10 epochs: final train acc: 58.79% || test acc: 55.52%\n",
        "- final train loss: .1988 || test loss: .2131\n",
        "\n",
        "**VGG-16 (Fully Trained)**\n",
        "- failed to pick up on signal after 10 epochs\n",
        "\n",
        "**Xception**\n"
      ]
    },
    {
      "cell_type": "code",
      "metadata": {
        "id": "mlvpl5Dk0NV9",
        "colab": {
          "base_uri": "https://localhost:8080/",
          "height": 627
        },
        "outputId": "91def31f-08fa-42e8-e7f3-757ab36366f3"
      },
      "source": [
        "train_loss = history.history['loss']\n",
        "test_loss = history.history['val_loss']\n",
        "\n",
        "plt.figure(figsize = (12, 10))\n",
        "\n",
        "plt.plot(train_loss, color = 'skyblue', label = 'Training Loss')\n",
        "plt.plot(test_loss, color = 'orange', label = 'Testing Loss')\n",
        "\n",
        "plt.title('Multi-label Loss scores of Train and Test by Epoch - DenseNet121', fontsize = 16)\n",
        "plt.xlabel('Epoch Number', fontsize = 12)\n",
        "plt.ylabel('Binary Crossentropy', fontsize = 12)\n",
        "plt.xticks(np.arange(epoch), np.arange(epoch))\n",
        "\n",
        "plt.legend();"
      ],
      "execution_count": null,
      "outputs": [
        {
          "output_type": "display_data",
          "data": {
            "image/png": "[encoded data removed]",
            "text/plain": [
              "<Figure size 864x720 with 1 Axes>"
            ]
          },
          "metadata": {
            "tags": [],
            "needs_background": "light"
          }
        }
      ]
    },
    {
      "cell_type": "code",
      "metadata": {
        "id": "sfhv3pVs0RGs",
        "colab": {
          "base_uri": "https://localhost:8080/",
          "height": 627
        },
        "outputId": "5edc5b1f-97d1-4a55-b1e9-cc81b3b8427c"
      },
      "source": [
        "train_acc = history.history['accuracy']\n",
        "test_acc = history.history['val_accuracy']\n",
        "\n",
        "plt.figure(figsize = (12, 10))\n",
        "\n",
        "plt.plot(train_acc, color = 'green', label = 'Training Accuracy')\n",
        "plt.plot(test_acc, color = 'blue', label = 'Testing Accuracy')\n",
        "\n",
        "plt.title('Multi-label Accuracy scores of Train and Test by Epoch - DenseNet121', fontsize = 16)\n",
        "plt.xlabel('Epoch Number', fontsize = 12)\n",
        "plt.ylabel('Binary Crossentropy', fontsize = 12)\n",
        "plt.xticks(np.arange(epoch), np.arange(epoch))\n",
        "\n",
        "plt.legend();"
      ],
      "execution_count": null,
      "outputs": [
        {
          "output_type": "display_data",
          "data": {
            "image/png": "[encoded data removed]",
            "text/plain": [
              "<Figure size 864x720 with 1 Axes>"
            ]
          },
          "metadata": {
            "tags": [],
            "needs_background": "light"
          }
        }
      ]
    },
    {
      "cell_type": "code",
      "metadata": {
        "id": "Zpr4VPnx6ZOL"
      },
      "source": [
        "pred_classes = (model.predict(training) > 0.5).astype(\"int32\")"
      ],
      "execution_count": null,
      "outputs": []
    },
    {
      "cell_type": "code",
      "metadata": {
        "id": "CMAKKb4w6ZOL"
      },
      "source": [
        "final_labels = [i for i in training.class_indices.keys()]"
      ],
      "execution_count": null,
      "outputs": []
    },
    {
      "cell_type": "code",
      "metadata": {
        "id": "sHuLVUdH6ZOL",
        "colab": {
          "base_uri": "https://localhost:8080/"
        },
        "outputId": "fa6af794-b948-4def-9c35-f90e1dc8ffdc"
      },
      "source": [
        "pred_classes[:5]"
      ],
      "execution_count": null,
      "outputs": [
        {
          "output_type": "execute_result",
          "data": {
            "text/plain": [
              "array([[0, 0, 0, 0, 0, 0, 0, 0, 0, 0, 0, 0, 0, 0, 0],\n",
              "       [0, 0, 0, 0, 0, 0, 0, 0, 0, 0, 1, 0, 0, 0, 0],\n",
              "       [0, 0, 0, 0, 0, 0, 0, 0, 0, 0, 0, 0, 0, 0, 0],\n",
              "       [0, 0, 0, 0, 0, 0, 0, 0, 0, 0, 0, 0, 0, 0, 0],\n",
              "       [0, 0, 0, 0, 0, 0, 0, 0, 0, 0, 1, 0, 0, 0, 0]], dtype=int32)"
            ]
          },
          "metadata": {
            "tags": []
          },
          "execution_count": 102
        }
      ]
    },
    {
      "cell_type": "code",
      "metadata": {
        "id": "Cu4oGdHV6ZOL"
      },
      "source": [
        "training_predictions = make_preds(pred_classes)"
      ],
      "execution_count": null,
      "outputs": []
    },
    {
      "cell_type": "code",
      "metadata": {
        "id": "oT50znQj6ZOL"
      },
      "source": [
        "test_preds = (model.predict(test) > 0.5).astype(\"int32\")"
      ],
      "execution_count": null,
      "outputs": []
    },
    {
      "cell_type": "code",
      "metadata": {
        "id": "QEJJZSJl6ZOL"
      },
      "source": [
        "test_predictions = make_preds(test_preds)"
      ],
      "execution_count": null,
      "outputs": []
    },
    {
      "cell_type": "code",
      "metadata": {
        "id": "3XNdHI-L6ZOL",
        "colab": {
          "base_uri": "https://localhost:8080/"
        },
        "outputId": "120c383f-ef8c-4fc3-97f7-270bb8da7981"
      },
      "source": [
        "test_preds[:5]"
      ],
      "execution_count": null,
      "outputs": [
        {
          "output_type": "execute_result",
          "data": {
            "text/plain": [
              "array([[0, 0, 0, 0, 0, 0, 0, 0, 0, 0, 1, 0, 0, 0, 0],\n",
              "       [0, 0, 0, 0, 0, 0, 0, 0, 0, 0, 0, 0, 0, 0, 0],\n",
              "       [0, 0, 0, 0, 0, 0, 0, 0, 0, 0, 1, 0, 0, 0, 0],\n",
              "       [0, 0, 0, 0, 0, 0, 0, 0, 0, 0, 0, 0, 0, 0, 0],\n",
              "       [0, 0, 0, 0, 0, 0, 0, 0, 0, 0, 1, 0, 0, 0, 0]], dtype=int32)"
            ]
          },
          "metadata": {
            "tags": []
          },
          "execution_count": 106
        }
      ]
    },
    {
      "cell_type": "code",
      "metadata": {
        "id": "vEEA_2Kc6ZOM",
        "colab": {
          "base_uri": "https://localhost:8080/"
        },
        "outputId": "ee487347-3c37-4153-ed5a-77e06f4d8b77"
      },
      "source": [
        "training.class_indices"
      ],
      "execution_count": null,
      "outputs": [
        {
          "output_type": "execute_result",
          "data": {
            "text/plain": [
              "{'Atelectasis': 0,\n",
              " 'Cardiomegaly': 1,\n",
              " 'Consolidation': 2,\n",
              " 'Edema': 3,\n",
              " 'Effusion': 4,\n",
              " 'Emphysema': 5,\n",
              " 'Fibrosis': 6,\n",
              " 'Hernia': 7,\n",
              " 'Infiltration': 8,\n",
              " 'Mass': 9,\n",
              " 'No Finding': 10,\n",
              " 'Nodule': 11,\n",
              " 'Pleural_Thickening': 12,\n",
              " 'Pneumonia': 13,\n",
              " 'Pneumothorax': 14}"
            ]
          },
          "metadata": {
            "tags": []
          },
          "execution_count": 107
        }
      ]
    },
    {
      "cell_type": "code",
      "metadata": {
        "id": "NKlNEtAC6ZOM",
        "colab": {
          "base_uri": "https://localhost:8080/"
        },
        "outputId": "5198cceb-3da3-42ac-f124-3a5039876d90"
      },
      "source": [
        "training.index_array"
      ],
      "execution_count": null,
      "outputs": [
        {
          "output_type": "execute_result",
          "data": {
            "text/plain": [
              "array([ 118, 2026, 2567, ...,  350, 5954, 2896])"
            ]
          },
          "metadata": {
            "tags": []
          },
          "execution_count": 108
        }
      ]
    },
    {
      "cell_type": "code",
      "metadata": {
        "id": "JRlgkcvp6ZOM"
      },
      "source": [
        "df_eval = df_flow.iloc[training.index_array]"
      ],
      "execution_count": null,
      "outputs": []
    },
    {
      "cell_type": "code",
      "metadata": {
        "id": "-ii96p3-6ZOM",
        "colab": {
          "base_uri": "https://localhost:8080/"
        },
        "outputId": "7fd762bb-1d98-4303-d089-bf692031babd"
      },
      "source": [
        "df_eval['model_predictions'] = training_predictions"
      ],
      "execution_count": null,
      "outputs": [
        {
          "output_type": "stream",
          "text": [
            "/usr/local/lib/python3.6/dist-packages/ipykernel_launcher.py:1: SettingWithCopyWarning: \n",
            "A value is trying to be set on a copy of a slice from a DataFrame.\n",
            "Try using .loc[row_indexer,col_indexer] = value instead\n",
            "\n",
            "See the caveats in the documentation: https://pandas.pydata.org/pandas-docs/stable/user_guide/indexing.html#returning-a-view-versus-a-copy\n",
            "  \"\"\"Entry point for launching an IPython kernel.\n"
          ],
          "name": "stderr"
        }
      ]
    },
    {
      "cell_type": "code",
      "metadata": {
        "id": "aYAKSTso6ZOM",
        "colab": {
          "base_uri": "https://localhost:8080/",
          "height": 979
        },
        "outputId": "6ebf3841-a70a-4497-92e9-bb0cb110040f"
      },
      "source": [
        "df_eval.head(30)"
      ],
      "execution_count": null,
      "outputs": [
        {
          "output_type": "execute_result",
          "data": {
            "text/html": [
              "<div>\n",
              "<style scoped>\n",
              "    .dataframe tbody tr th:only-of-type {\n",
              "        vertical-align: middle;\n",
              "    }\n",
              "\n",
              "    .dataframe tbody tr th {\n",
              "        vertical-align: top;\n",
              "    }\n",
              "\n",
              "    .dataframe thead th {\n",
              "        text-align: right;\n",
              "    }\n",
              "</style>\n",
              "<table border=\"1\" class=\"dataframe\">\n",
              "  <thead>\n",
              "    <tr style=\"text-align: right;\">\n",
              "      <th></th>\n",
              "      <th>index</th>\n",
              "      <th>path</th>\n",
              "      <th>finding_labels_clean</th>\n",
              "      <th>model_predictions</th>\n",
              "    </tr>\n",
              "  </thead>\n",
              "  <tbody>\n",
              "    <tr>\n",
              "      <th>30612</th>\n",
              "      <td>30612</td>\n",
              "      <td>/content/gdrive/MyDrive/Capstone_Images/images...</td>\n",
              "      <td>[Atelectasis]</td>\n",
              "      <td>[]</td>\n",
              "    </tr>\n",
              "    <tr>\n",
              "      <th>20636</th>\n",
              "      <td>20636</td>\n",
              "      <td>/content/gdrive/MyDrive/Capstone_Images/images...</td>\n",
              "      <td>[Atelectasis, Effusion]</td>\n",
              "      <td>[No Finding]</td>\n",
              "    </tr>\n",
              "    <tr>\n",
              "      <th>38290</th>\n",
              "      <td>38290</td>\n",
              "      <td>/content/gdrive/MyDrive/Capstone_Images/images...</td>\n",
              "      <td>[No Finding]</td>\n",
              "      <td>[]</td>\n",
              "    </tr>\n",
              "    <tr>\n",
              "      <th>40973</th>\n",
              "      <td>40973</td>\n",
              "      <td>/content/gdrive/MyDrive/Capstone_Images/images...</td>\n",
              "      <td>[Infiltration]</td>\n",
              "      <td>[]</td>\n",
              "    </tr>\n",
              "    <tr>\n",
              "      <th>37001</th>\n",
              "      <td>37001</td>\n",
              "      <td>/content/gdrive/MyDrive/Capstone_Images/images...</td>\n",
              "      <td>[Infiltration, Fibrosis]</td>\n",
              "      <td>[No Finding]</td>\n",
              "    </tr>\n",
              "    <tr>\n",
              "      <th>102829</th>\n",
              "      <td>102829</td>\n",
              "      <td>/content/gdrive/MyDrive/Capstone_Images/images...</td>\n",
              "      <td>[Infiltration]</td>\n",
              "      <td>[No Finding]</td>\n",
              "    </tr>\n",
              "    <tr>\n",
              "      <th>99526</th>\n",
              "      <td>99526</td>\n",
              "      <td>/content/gdrive/MyDrive/Capstone_Images/images...</td>\n",
              "      <td>[Edema]</td>\n",
              "      <td>[No Finding]</td>\n",
              "    </tr>\n",
              "    <tr>\n",
              "      <th>84310</th>\n",
              "      <td>84310</td>\n",
              "      <td>/content/gdrive/MyDrive/Capstone_Images/images...</td>\n",
              "      <td>[Atelectasis, Effusion, Infiltration, Pleural_...</td>\n",
              "      <td>[No Finding]</td>\n",
              "    </tr>\n",
              "    <tr>\n",
              "      <th>10529</th>\n",
              "      <td>10529</td>\n",
              "      <td>/content/gdrive/MyDrive/Capstone_Images/images...</td>\n",
              "      <td>[No Finding]</td>\n",
              "      <td>[]</td>\n",
              "    </tr>\n",
              "    <tr>\n",
              "      <th>17526</th>\n",
              "      <td>17526</td>\n",
              "      <td>/content/gdrive/MyDrive/Capstone_Images/images...</td>\n",
              "      <td>[No Finding]</td>\n",
              "      <td>[]</td>\n",
              "    </tr>\n",
              "    <tr>\n",
              "      <th>111935</th>\n",
              "      <td>111935</td>\n",
              "      <td>/content/gdrive/MyDrive/Capstone_Images/images...</td>\n",
              "      <td>[Mass, Nodule, Pneumothorax]</td>\n",
              "      <td>[No Finding]</td>\n",
              "    </tr>\n",
              "    <tr>\n",
              "      <th>90739</th>\n",
              "      <td>90739</td>\n",
              "      <td>/content/gdrive/MyDrive/Capstone_Images/images...</td>\n",
              "      <td>[Infiltration]</td>\n",
              "      <td>[No Finding]</td>\n",
              "    </tr>\n",
              "    <tr>\n",
              "      <th>87327</th>\n",
              "      <td>87327</td>\n",
              "      <td>/content/gdrive/MyDrive/Capstone_Images/images...</td>\n",
              "      <td>[No Finding]</td>\n",
              "      <td>[No Finding]</td>\n",
              "    </tr>\n",
              "    <tr>\n",
              "      <th>106466</th>\n",
              "      <td>106466</td>\n",
              "      <td>/content/gdrive/MyDrive/Capstone_Images/images...</td>\n",
              "      <td>[No Finding]</td>\n",
              "      <td>[]</td>\n",
              "    </tr>\n",
              "    <tr>\n",
              "      <th>101662</th>\n",
              "      <td>101662</td>\n",
              "      <td>/content/gdrive/MyDrive/Capstone_Images/images...</td>\n",
              "      <td>[Infiltration]</td>\n",
              "      <td>[]</td>\n",
              "    </tr>\n",
              "    <tr>\n",
              "      <th>55114</th>\n",
              "      <td>55114</td>\n",
              "      <td>/content/gdrive/MyDrive/Capstone_Images/images...</td>\n",
              "      <td>[No Finding]</td>\n",
              "      <td>[]</td>\n",
              "    </tr>\n",
              "    <tr>\n",
              "      <th>79138</th>\n",
              "      <td>79138</td>\n",
              "      <td>/content/gdrive/MyDrive/Capstone_Images/images...</td>\n",
              "      <td>[No Finding]</td>\n",
              "      <td>[No Finding]</td>\n",
              "    </tr>\n",
              "    <tr>\n",
              "      <th>24044</th>\n",
              "      <td>24044</td>\n",
              "      <td>/content/gdrive/MyDrive/Capstone_Images/images...</td>\n",
              "      <td>[Infiltration]</td>\n",
              "      <td>[]</td>\n",
              "    </tr>\n",
              "    <tr>\n",
              "      <th>46327</th>\n",
              "      <td>46327</td>\n",
              "      <td>/content/gdrive/MyDrive/Capstone_Images/images...</td>\n",
              "      <td>[Infiltration, Mass]</td>\n",
              "      <td>[No Finding]</td>\n",
              "    </tr>\n",
              "    <tr>\n",
              "      <th>100851</th>\n",
              "      <td>100851</td>\n",
              "      <td>/content/gdrive/MyDrive/Capstone_Images/images...</td>\n",
              "      <td>[Emphysema]</td>\n",
              "      <td>[No Finding]</td>\n",
              "    </tr>\n",
              "    <tr>\n",
              "      <th>73938</th>\n",
              "      <td>73938</td>\n",
              "      <td>/content/gdrive/MyDrive/Capstone_Images/images...</td>\n",
              "      <td>[Atelectasis]</td>\n",
              "      <td>[No Finding]</td>\n",
              "    </tr>\n",
              "    <tr>\n",
              "      <th>93473</th>\n",
              "      <td>93473</td>\n",
              "      <td>/content/gdrive/MyDrive/Capstone_Images/images...</td>\n",
              "      <td>[No Finding]</td>\n",
              "      <td>[No Finding]</td>\n",
              "    </tr>\n",
              "    <tr>\n",
              "      <th>107634</th>\n",
              "      <td>107634</td>\n",
              "      <td>/content/gdrive/MyDrive/Capstone_Images/images...</td>\n",
              "      <td>[No Finding]</td>\n",
              "      <td>[]</td>\n",
              "    </tr>\n",
              "    <tr>\n",
              "      <th>59655</th>\n",
              "      <td>59655</td>\n",
              "      <td>/content/gdrive/MyDrive/Capstone_Images/images...</td>\n",
              "      <td>[Emphysema]</td>\n",
              "      <td>[]</td>\n",
              "    </tr>\n",
              "    <tr>\n",
              "      <th>52595</th>\n",
              "      <td>52595</td>\n",
              "      <td>/content/gdrive/MyDrive/Capstone_Images/images...</td>\n",
              "      <td>[No Finding]</td>\n",
              "      <td>[No Finding]</td>\n",
              "    </tr>\n",
              "    <tr>\n",
              "      <th>46673</th>\n",
              "      <td>46673</td>\n",
              "      <td>/content/gdrive/MyDrive/Capstone_Images/images...</td>\n",
              "      <td>[No Finding]</td>\n",
              "      <td>[]</td>\n",
              "    </tr>\n",
              "    <tr>\n",
              "      <th>94193</th>\n",
              "      <td>94193</td>\n",
              "      <td>/content/gdrive/MyDrive/Capstone_Images/images...</td>\n",
              "      <td>[No Finding]</td>\n",
              "      <td>[]</td>\n",
              "    </tr>\n",
              "    <tr>\n",
              "      <th>99934</th>\n",
              "      <td>99934</td>\n",
              "      <td>/content/gdrive/MyDrive/Capstone_Images/images...</td>\n",
              "      <td>[No Finding]</td>\n",
              "      <td>[]</td>\n",
              "    </tr>\n",
              "    <tr>\n",
              "      <th>51600</th>\n",
              "      <td>51600</td>\n",
              "      <td>/content/gdrive/MyDrive/Capstone_Images/images...</td>\n",
              "      <td>[No Finding]</td>\n",
              "      <td>[]</td>\n",
              "    </tr>\n",
              "    <tr>\n",
              "      <th>59166</th>\n",
              "      <td>59166</td>\n",
              "      <td>/content/gdrive/MyDrive/Capstone_Images/images...</td>\n",
              "      <td>[Mass]</td>\n",
              "      <td>[No Finding]</td>\n",
              "    </tr>\n",
              "  </tbody>\n",
              "</table>\n",
              "</div>"
            ],
            "text/plain": [
              "         index  ... model_predictions\n",
              "30612    30612  ...                []\n",
              "20636    20636  ...      [No Finding]\n",
              "38290    38290  ...                []\n",
              "40973    40973  ...                []\n",
              "37001    37001  ...      [No Finding]\n",
              "102829  102829  ...      [No Finding]\n",
              "99526    99526  ...      [No Finding]\n",
              "84310    84310  ...      [No Finding]\n",
              "10529    10529  ...                []\n",
              "17526    17526  ...                []\n",
              "111935  111935  ...      [No Finding]\n",
              "90739    90739  ...      [No Finding]\n",
              "87327    87327  ...      [No Finding]\n",
              "106466  106466  ...                []\n",
              "101662  101662  ...                []\n",
              "55114    55114  ...                []\n",
              "79138    79138  ...      [No Finding]\n",
              "24044    24044  ...                []\n",
              "46327    46327  ...      [No Finding]\n",
              "100851  100851  ...      [No Finding]\n",
              "73938    73938  ...      [No Finding]\n",
              "93473    93473  ...      [No Finding]\n",
              "107634  107634  ...                []\n",
              "59655    59655  ...                []\n",
              "52595    52595  ...      [No Finding]\n",
              "46673    46673  ...                []\n",
              "94193    94193  ...                []\n",
              "99934    99934  ...                []\n",
              "51600    51600  ...                []\n",
              "59166    59166  ...      [No Finding]\n",
              "\n",
              "[30 rows x 4 columns]"
            ]
          },
          "metadata": {
            "tags": []
          },
          "execution_count": 111
        }
      ]
    },
    {
      "cell_type": "code",
      "metadata": {
        "id": "nU_PclPd6ZOM"
      },
      "source": [
        "df_eval_test = df_flow.iloc[test.index_array]"
      ],
      "execution_count": null,
      "outputs": []
    },
    {
      "cell_type": "code",
      "metadata": {
        "id": "C3Fp9duS6ZOM",
        "colab": {
          "base_uri": "https://localhost:8080/"
        },
        "outputId": "a2a01249-78c9-40f1-c245-48ce431022e4"
      },
      "source": [
        "df_eval_test['model_predictions'] = test_predictions"
      ],
      "execution_count": null,
      "outputs": [
        {
          "output_type": "stream",
          "text": [
            "/usr/local/lib/python3.6/dist-packages/ipykernel_launcher.py:1: SettingWithCopyWarning: \n",
            "A value is trying to be set on a copy of a slice from a DataFrame.\n",
            "Try using .loc[row_indexer,col_indexer] = value instead\n",
            "\n",
            "See the caveats in the documentation: https://pandas.pydata.org/pandas-docs/stable/user_guide/indexing.html#returning-a-view-versus-a-copy\n",
            "  \"\"\"Entry point for launching an IPython kernel.\n"
          ],
          "name": "stderr"
        }
      ]
    },
    {
      "cell_type": "code",
      "metadata": {
        "id": "_bZMJE3M6ZOM",
        "colab": {
          "base_uri": "https://localhost:8080/",
          "height": 979
        },
        "outputId": "b9da4fa8-bbf8-4311-8e0d-4ad655c9cf58"
      },
      "source": [
        "df_eval_test.head(30)"
      ],
      "execution_count": null,
      "outputs": [
        {
          "output_type": "execute_result",
          "data": {
            "text/html": [
              "<div>\n",
              "<style scoped>\n",
              "    .dataframe tbody tr th:only-of-type {\n",
              "        vertical-align: middle;\n",
              "    }\n",
              "\n",
              "    .dataframe tbody tr th {\n",
              "        vertical-align: top;\n",
              "    }\n",
              "\n",
              "    .dataframe thead th {\n",
              "        text-align: right;\n",
              "    }\n",
              "</style>\n",
              "<table border=\"1\" class=\"dataframe\">\n",
              "  <thead>\n",
              "    <tr style=\"text-align: right;\">\n",
              "      <th></th>\n",
              "      <th>index</th>\n",
              "      <th>path</th>\n",
              "      <th>finding_labels_clean</th>\n",
              "      <th>model_predictions</th>\n",
              "    </tr>\n",
              "  </thead>\n",
              "  <tbody>\n",
              "    <tr>\n",
              "      <th>94868</th>\n",
              "      <td>94868</td>\n",
              "      <td>/content/gdrive/MyDrive/Capstone_Images/images...</td>\n",
              "      <td>[No Finding]</td>\n",
              "      <td>[No Finding]</td>\n",
              "    </tr>\n",
              "    <tr>\n",
              "      <th>17785</th>\n",
              "      <td>17785</td>\n",
              "      <td>/content/gdrive/MyDrive/Capstone_Images/images...</td>\n",
              "      <td>[No Finding]</td>\n",
              "      <td>[]</td>\n",
              "    </tr>\n",
              "    <tr>\n",
              "      <th>26260</th>\n",
              "      <td>26260</td>\n",
              "      <td>/content/gdrive/MyDrive/Capstone_Images/images...</td>\n",
              "      <td>[No Finding]</td>\n",
              "      <td>[No Finding]</td>\n",
              "    </tr>\n",
              "    <tr>\n",
              "      <th>70749</th>\n",
              "      <td>70749</td>\n",
              "      <td>/content/gdrive/MyDrive/Capstone_Images/images...</td>\n",
              "      <td>[No Finding]</td>\n",
              "      <td>[]</td>\n",
              "    </tr>\n",
              "    <tr>\n",
              "      <th>80348</th>\n",
              "      <td>80348</td>\n",
              "      <td>/content/gdrive/MyDrive/Capstone_Images/images...</td>\n",
              "      <td>[No Finding]</td>\n",
              "      <td>[No Finding]</td>\n",
              "    </tr>\n",
              "    <tr>\n",
              "      <th>58224</th>\n",
              "      <td>58224</td>\n",
              "      <td>/content/gdrive/MyDrive/Capstone_Images/images...</td>\n",
              "      <td>[Infiltration]</td>\n",
              "      <td>[No Finding]</td>\n",
              "    </tr>\n",
              "    <tr>\n",
              "      <th>47169</th>\n",
              "      <td>47169</td>\n",
              "      <td>/content/gdrive/MyDrive/Capstone_Images/images...</td>\n",
              "      <td>[No Finding]</td>\n",
              "      <td>[]</td>\n",
              "    </tr>\n",
              "    <tr>\n",
              "      <th>41689</th>\n",
              "      <td>41689</td>\n",
              "      <td>/content/gdrive/MyDrive/Capstone_Images/images...</td>\n",
              "      <td>[Atelectasis, Pneumothorax]</td>\n",
              "      <td>[No Finding]</td>\n",
              "    </tr>\n",
              "    <tr>\n",
              "      <th>25388</th>\n",
              "      <td>25388</td>\n",
              "      <td>/content/gdrive/MyDrive/Capstone_Images/images...</td>\n",
              "      <td>[Edema]</td>\n",
              "      <td>[]</td>\n",
              "    </tr>\n",
              "    <tr>\n",
              "      <th>109109</th>\n",
              "      <td>109109</td>\n",
              "      <td>/content/gdrive/MyDrive/Capstone_Images/images...</td>\n",
              "      <td>[No Finding]</td>\n",
              "      <td>[]</td>\n",
              "    </tr>\n",
              "    <tr>\n",
              "      <th>4200</th>\n",
              "      <td>4200</td>\n",
              "      <td>/content/gdrive/MyDrive/Capstone_Images/images...</td>\n",
              "      <td>[Atelectasis, Infiltration]</td>\n",
              "      <td>[No Finding]</td>\n",
              "    </tr>\n",
              "    <tr>\n",
              "      <th>76347</th>\n",
              "      <td>76347</td>\n",
              "      <td>/content/gdrive/MyDrive/Capstone_Images/images...</td>\n",
              "      <td>[No Finding]</td>\n",
              "      <td>[No Finding]</td>\n",
              "    </tr>\n",
              "    <tr>\n",
              "      <th>67991</th>\n",
              "      <td>67991</td>\n",
              "      <td>/content/gdrive/MyDrive/Capstone_Images/images...</td>\n",
              "      <td>[No Finding]</td>\n",
              "      <td>[No Finding]</td>\n",
              "    </tr>\n",
              "    <tr>\n",
              "      <th>90366</th>\n",
              "      <td>90366</td>\n",
              "      <td>/content/gdrive/MyDrive/Capstone_Images/images...</td>\n",
              "      <td>[No Finding]</td>\n",
              "      <td>[No Finding]</td>\n",
              "    </tr>\n",
              "    <tr>\n",
              "      <th>37664</th>\n",
              "      <td>37664</td>\n",
              "      <td>/content/gdrive/MyDrive/Capstone_Images/images...</td>\n",
              "      <td>[Atelectasis]</td>\n",
              "      <td>[]</td>\n",
              "    </tr>\n",
              "    <tr>\n",
              "      <th>54244</th>\n",
              "      <td>54244</td>\n",
              "      <td>/content/gdrive/MyDrive/Capstone_Images/images...</td>\n",
              "      <td>[Mass]</td>\n",
              "      <td>[]</td>\n",
              "    </tr>\n",
              "    <tr>\n",
              "      <th>77459</th>\n",
              "      <td>77459</td>\n",
              "      <td>/content/gdrive/MyDrive/Capstone_Images/images...</td>\n",
              "      <td>[Atelectasis, Hernia]</td>\n",
              "      <td>[No Finding]</td>\n",
              "    </tr>\n",
              "    <tr>\n",
              "      <th>54371</th>\n",
              "      <td>54371</td>\n",
              "      <td>/content/gdrive/MyDrive/Capstone_Images/images...</td>\n",
              "      <td>[Cardiomegaly, Effusion, Mass]</td>\n",
              "      <td>[]</td>\n",
              "    </tr>\n",
              "    <tr>\n",
              "      <th>35589</th>\n",
              "      <td>35589</td>\n",
              "      <td>/content/gdrive/MyDrive/Capstone_Images/images...</td>\n",
              "      <td>[No Finding]</td>\n",
              "      <td>[]</td>\n",
              "    </tr>\n",
              "    <tr>\n",
              "      <th>36095</th>\n",
              "      <td>36095</td>\n",
              "      <td>/content/gdrive/MyDrive/Capstone_Images/images...</td>\n",
              "      <td>[No Finding]</td>\n",
              "      <td>[]</td>\n",
              "    </tr>\n",
              "    <tr>\n",
              "      <th>61789</th>\n",
              "      <td>61789</td>\n",
              "      <td>/content/gdrive/MyDrive/Capstone_Images/images...</td>\n",
              "      <td>[No Finding]</td>\n",
              "      <td>[]</td>\n",
              "    </tr>\n",
              "    <tr>\n",
              "      <th>42805</th>\n",
              "      <td>42805</td>\n",
              "      <td>/content/gdrive/MyDrive/Capstone_Images/images...</td>\n",
              "      <td>[No Finding]</td>\n",
              "      <td>[No Finding]</td>\n",
              "    </tr>\n",
              "    <tr>\n",
              "      <th>41348</th>\n",
              "      <td>41348</td>\n",
              "      <td>/content/gdrive/MyDrive/Capstone_Images/images...</td>\n",
              "      <td>[Infiltration]</td>\n",
              "      <td>[]</td>\n",
              "    </tr>\n",
              "    <tr>\n",
              "      <th>111025</th>\n",
              "      <td>111025</td>\n",
              "      <td>/content/gdrive/MyDrive/Capstone_Images/images...</td>\n",
              "      <td>[No Finding]</td>\n",
              "      <td>[]</td>\n",
              "    </tr>\n",
              "    <tr>\n",
              "      <th>60550</th>\n",
              "      <td>60550</td>\n",
              "      <td>/content/gdrive/MyDrive/Capstone_Images/images...</td>\n",
              "      <td>[No Finding]</td>\n",
              "      <td>[No Finding]</td>\n",
              "    </tr>\n",
              "    <tr>\n",
              "      <th>110975</th>\n",
              "      <td>110975</td>\n",
              "      <td>/content/gdrive/MyDrive/Capstone_Images/images...</td>\n",
              "      <td>[Atelectasis, Cardiomegaly]</td>\n",
              "      <td>[]</td>\n",
              "    </tr>\n",
              "    <tr>\n",
              "      <th>84910</th>\n",
              "      <td>84910</td>\n",
              "      <td>/content/gdrive/MyDrive/Capstone_Images/images...</td>\n",
              "      <td>[No Finding]</td>\n",
              "      <td>[]</td>\n",
              "    </tr>\n",
              "    <tr>\n",
              "      <th>99221</th>\n",
              "      <td>99221</td>\n",
              "      <td>/content/gdrive/MyDrive/Capstone_Images/images...</td>\n",
              "      <td>[Infiltration, Nodule]</td>\n",
              "      <td>[No Finding]</td>\n",
              "    </tr>\n",
              "    <tr>\n",
              "      <th>51448</th>\n",
              "      <td>51448</td>\n",
              "      <td>/content/gdrive/MyDrive/Capstone_Images/images...</td>\n",
              "      <td>[No Finding]</td>\n",
              "      <td>[]</td>\n",
              "    </tr>\n",
              "    <tr>\n",
              "      <th>10882</th>\n",
              "      <td>10882</td>\n",
              "      <td>/content/gdrive/MyDrive/Capstone_Images/images...</td>\n",
              "      <td>[Pleural_Thickening]</td>\n",
              "      <td>[No Finding]</td>\n",
              "    </tr>\n",
              "  </tbody>\n",
              "</table>\n",
              "</div>"
            ],
            "text/plain": [
              "         index  ... model_predictions\n",
              "94868    94868  ...      [No Finding]\n",
              "17785    17785  ...                []\n",
              "26260    26260  ...      [No Finding]\n",
              "70749    70749  ...                []\n",
              "80348    80348  ...      [No Finding]\n",
              "58224    58224  ...      [No Finding]\n",
              "47169    47169  ...                []\n",
              "41689    41689  ...      [No Finding]\n",
              "25388    25388  ...                []\n",
              "109109  109109  ...                []\n",
              "4200      4200  ...      [No Finding]\n",
              "76347    76347  ...      [No Finding]\n",
              "67991    67991  ...      [No Finding]\n",
              "90366    90366  ...      [No Finding]\n",
              "37664    37664  ...                []\n",
              "54244    54244  ...                []\n",
              "77459    77459  ...      [No Finding]\n",
              "54371    54371  ...                []\n",
              "35589    35589  ...                []\n",
              "36095    36095  ...                []\n",
              "61789    61789  ...                []\n",
              "42805    42805  ...      [No Finding]\n",
              "41348    41348  ...                []\n",
              "111025  111025  ...                []\n",
              "60550    60550  ...      [No Finding]\n",
              "110975  110975  ...                []\n",
              "84910    84910  ...                []\n",
              "99221    99221  ...      [No Finding]\n",
              "51448    51448  ...                []\n",
              "10882    10882  ...      [No Finding]\n",
              "\n",
              "[30 rows x 4 columns]"
            ]
          },
          "metadata": {
            "tags": []
          },
          "execution_count": 114
        }
      ]
    },
    {
      "cell_type": "markdown",
      "metadata": {
        "id": "qQlI9b3gbE_L"
      },
      "source": [
        "This model *technically* predicts multiple classes, however, at the moment it is predicting the majority class only. Review this as you consider methods of collapsing correlated labels."
      ]
    }
  ]
}